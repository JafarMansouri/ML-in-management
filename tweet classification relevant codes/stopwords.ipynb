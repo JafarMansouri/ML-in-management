{
 "cells": [
  {
   "cell_type": "code",
   "execution_count": null,
   "metadata": {},
   "outputs": [],
   "source": []
  },
  {
   "cell_type": "code",
   "execution_count": 3,
   "metadata": {},
   "outputs": [
    {
     "name": "stdout",
     "output_type": "stream",
     "text": [
      "['i', 'me', 'my', 'myself', 'we', 'our', 'ours', 'ourselves', 'you', \"you're\", \"you've\", \"you'll\", \"you'd\", 'your', 'yours', 'yourself', 'yourselves', 'he', 'him', 'his', 'himself', 'she', \"she's\", 'her', 'hers', 'herself', 'it', \"it's\", 'its', 'itself', 'they', 'them', 'their', 'theirs', 'themselves', 'what', 'which', 'who', 'whom', 'this', 'that', \"that'll\", 'these', 'those', 'am', 'is', 'are', 'was', 'were', 'be', 'been', 'being', 'have', 'has', 'had', 'having', 'do', 'does', 'did', 'doing', 'a', 'an', 'the', 'and', 'but', 'if', 'or', 'because', 'as', 'until', 'while', 'of', 'at', 'by', 'for', 'with', 'about', 'against', 'between', 'into', 'through', 'during', 'before', 'after', 'above', 'below', 'to', 'from', 'up', 'down', 'in', 'out', 'on', 'off', 'over', 'under', 'again', 'further', 'then', 'once', 'here', 'there', 'when', 'where', 'why', 'how', 'all', 'any', 'both', 'each', 'few', 'more', 'most', 'other', 'some', 'such', 'no', 'nor', 'not', 'only', 'own', 'same', 'so', 'than', 'too', 'very', 's', 't', 'can', 'will', 'just', 'don', \"don't\", 'should', \"should've\", 'now', 'd', 'll', 'm', 'o', 're', 've', 'y', 'ain', 'aren', \"aren't\", 'couldn', \"couldn't\", 'didn', \"didn't\", 'doesn', \"doesn't\", 'hadn', \"hadn't\", 'hasn', \"hasn't\", 'haven', \"haven't\", 'isn', \"isn't\", 'ma', 'mightn', \"mightn't\", 'mustn', \"mustn't\", 'needn', \"needn't\", 'shan', \"shan't\", 'shouldn', \"shouldn't\", 'wasn', \"wasn't\", 'weren', \"weren't\", 'won', \"won't\", 'wouldn', \"wouldn't\"]\n"
     ]
    }
   ],
   "source": [
    "from nltk.corpus import stopwords\n",
    "nltk_stopwords = stopwords.words(\"english\")\n",
    "print(nltk_stopwords)"
   ]
  },
  {
   "cell_type": "code",
   "execution_count": 4,
   "metadata": {},
   "outputs": [
    {
     "name": "stdout",
     "output_type": "stream",
     "text": [
      "{'rather', 'former', 'alone', 'much', 'whereafter', 'doing', 'here', 'otherwise', 'this', 'go', \"n't\", 'itself', 'myself', 'last', 'used', 'because', \"'ll\", 'thru', 'mostly', 'what', 'while', 'them', 'anyway', 'everyone', 'just', 'whereupon', 'ourselves', 'but', 'nobody', 'they', 'so', 'thus', 'seeming', 'fifty', '’ll', 'amount', 'can', 'therefore', 'very', 'toward', 'are', \"'d\", 'hers', 'among', 'once', 'always', 'cannot', 'three', 'upon', 'wherever', 'both', 'become', 'being', 'whither', 'made', 'onto', 'towards', 'in', 'himself', 'something', 'for', 'if', 'am', 'at', 'eleven', 'of', 'latterly', 'neither', 'has', 'almost', 'than', 'into', 'two', 'further', 'indeed', 'up', '’ve', 'say', '‘m', 'see', 'thence', 'as', 'never', 'perhaps', 'due', 'one', 'with', 'else', 'nine', 'enough', 'you', 'be', 'nevertheless', 'is', 'moreover', 'whom', 'across', 'your', 'before', 'whatever', 'without', 'take', 'whereby', 'from', 'show', 'each', 'already', 'it', 'been', 'themselves', 'within', 'whole', 'mine', 'six', 'ours', 'to', 'may', 'serious', 'somehow', 'few', 'do', 'although', 'and', 'n’t', 'amongst', 'had', 'by', 'how', 'via', 'no', 'full', 'he', 'until', 'after', 'five', 'did', 'would', 'own', 'other', 'she', 'which', 'more', 'sometimes', 'why', 'beside', 'yours', '‘ll', 'make', 'front', 'whoever', 'beyond', 'when', 'their', 'seemed', 'top', 'n‘t', 're', 'forty', 'please', 'hereupon', 'namely', 'herself', 'quite', 'thereby', 'well', 'nor', 'must', 'still', 'throughout', 'except', 'such', 'thereupon', \"'s\", 'off', 'his', 'give', 'unless', 'herein', 'first', 'some', 'ever', 'became', 'therein', 'eight', 'formerly', 'anyhow', '’s', 'twenty', 'above', 'really', 'less', '‘d', \"'m\", 'using', 'whether', 'then', 'back', 'various', 'have', 'an', 'most', 'should', 'hereby', 'anyone', 'there', 'sixty', 'below', 'every', 'side', 'yourself', 'third', 'a', 'many', 'all', 'my', 'him', 'often', 'that', 'could', 'somewhere', 'several', 'others', 'seems', 'i', 'latter', 'hence', '‘re', 'on', 'afterwards', 'anywhere', 'next', 'not', 'same', 'part', 'who', 'ten', 'becomes', 'was', 'were', 'since', 'will', 'whose', 'noone', 'too', \"'ve\", 'out', '‘ve', 'together', 'between', 'becoming', '’re', 'name', 'does', 'per', 'everywhere', 'regarding', 'our', 'through', 'yourselves', 'nothing', 'fifteen', 'move', 'might', 'us', 'its', 'empty', 'along', 'these', 'over', 'four', 'against', 'bottom', 'twelve', 'where', 'yet', 'again', 'thereafter', 'get', 'behind', 'now', 'only', 'down', 'however', 'ca', \"'re\", '’d', 'another', 'under', 'everything', 'whereas', 'someone', 'hereafter', '’m', 'done', 'keep', 'least', 'or', 'anything', 'beforehand', 'besides', 'also', 'put', 'elsewhere', 'the', 'her', 'seem', 'about', 'hundred', 'during', 'meanwhile', 'me', 'whenever', 'around', 'even', 'whence', 'we', '‘s', 'any', 'those', 'wherein', 'though', 'either', 'nowhere', 'sometime', 'call', 'none'}\n"
     ]
    }
   ],
   "source": [
    "import spacy\n",
    "sp = spacy.load('en_core_web_sm')\n",
    "spacy_stopwords = sp.Defaults.stop_words\n",
    "print(spacy_stopwords)"
   ]
  },
  {
   "cell_type": "code",
   "execution_count": 5,
   "metadata": {},
   "outputs": [
    {
     "name": "stdout",
     "output_type": "stream",
     "text": [
      "{'give', 'amoungst', 'rather', 'fill', 'herein', 'former', 'alone', 'first', 'much', 'some', 'whereafter', 'ever', 'became', 'therein', 'eight', 'formerly', 'anyhow', 'here', 'otherwise', 'this', 'go', 'itself', 'myself', 'twenty', 'last', 'above', 'less', 'because', 'thru', 'mostly', 'what', 'while', 'whether', 'then', 'un', 'back', 'them', 'anyway', 'everyone', 'have', 'an', 'most', 'whereupon', 'should', 'hereby', 'ourselves', 'but', 'nobody', 'they', 'anyone', 'so', 'con', 'thus', 'seeming', 'cry', 'there', 'fifty', 'sixty', 'below', 'every', 'side', 'yourself', 'third', 'amount', 'can', 'a', 'therefore', 'very', 'bill', 'many', 'detail', 'all', 'my', 'toward', 'are', 'him', 'often', 'that', 'hers', 'could', 'de', 'among', 'somewhere', 'once', 'always', 'cannot', 'several', 'found', 'thick', 'hasnt', 'three', 'upon', 'others', 'eg', 'seems', 'wherever', 'i', 'both', 'become', 'fire', 'latter', 'being', 'whither', 'hence', 'made', 'onto', 'towards', 'in', 'himself', 'on', 'afterwards', 'something', 'anywhere', 'next', 'not', 'for', 'if', 'am', 'same', 'at', 'part', 'who', 'eleven', 'ten', 'of', 'becomes', 'was', 'latterly', 'were', 'neither', 'has', 'almost', 'cant', 'than', 'into', 'two', 'since', 'will', 'whose', 'noone', 'sincere', 'further', 'indeed', 'up', 'too', 'see', 'thence', 'as', 'never', 'out', 'perhaps', 'due', 'one', 'with', 'together', 'between', 'becoming', 'else', 'nine', 'enough', 'you', 'name', 'be', 'nevertheless', 'per', 'is', 'everywhere', 'our', 'moreover', 'through', 'yourselves', 'nothing', 'whom', 'fifteen', 'across', 'move', 'ie', 'your', 'might', 'before', 'whatever', 'without', 'us', 'take', 'its', 'whereby', 'from', 'show', 'each', 'empty', 'already', 'it', 'along', 'been', 'themselves', 'within', 'these', 'over', 'four', 'against', 'whole', 'bottom', 'twelve', 'where', 'mine', 'yet', 'six', 'mill', 'again', 'ours', 'to', 'may', 'serious', 'somehow', 'describe', 'thereafter', 'get', 'few', 'do', 'although', 'system', 'and', 'interest', 'behind', 'now', 'amongst', 'only', 'down', 'had', 'however', 'by', 'another', 'under', 'everything', 'how', 'via', 'whereas', 'no', 'full', 'he', 'someone', 'until', 'after', 'hereafter', 'co', 'etc', 'five', 'done', 'keep', 'would', 'couldnt', 'least', 'or', 'anything', 'beforehand', 'own', 'other', 'thin', 'she', 'which', 'more', 'why', 'sometimes', 'besides', 'beside', 'also', 'yours', 'put', 'front', 'whoever', 'beyond', 'elsewhere', 'when', 'the', 'their', 'her', 'seem', 'seemed', 'about', 'hundred', 'top', 'during', 're', 'forty', 'please', 'find', 'meanwhile', 'hereupon', 'namely', 'herself', 'me', 'inc', 'whenever', 'thereby', 'around', 'even', 'well', 'whence', 'nor', 'must', 'we', 'still', 'throughout', 'ltd', 'any', 'those', 'wherein', 'though', 'either', 'nowhere', 'sometime', 'except', 'call', 'none', 'such', 'thereupon', 'off', 'his'}\n"
     ]
    }
   ],
   "source": [
    "from sklearn.feature_extraction.text import ENGLISH_STOP_WORDS\n",
    "sklearn_stopwords=set(ENGLISH_STOP_WORDS)\n",
    "print(sklearn_stopwords)"
   ]
  },
  {
   "cell_type": "code",
   "execution_count": null,
   "metadata": {},
   "outputs": [],
   "source": []
  }
 ],
 "metadata": {
  "kernelspec": {
   "display_name": "Python 3",
   "language": "python",
   "name": "python3"
  },
  "language_info": {
   "name": ""
  }
 },
 "nbformat": 4,
 "nbformat_minor": 4
}
