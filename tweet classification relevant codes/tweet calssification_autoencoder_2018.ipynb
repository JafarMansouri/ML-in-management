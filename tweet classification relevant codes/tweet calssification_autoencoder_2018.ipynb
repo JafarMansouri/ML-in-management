{
 "cells": [
  {
   "cell_type": "code",
   "execution_count": null,
   "metadata": {},
   "outputs": [],
   "source": []
  },
  {
   "cell_type": "code",
   "execution_count": null,
   "metadata": {},
   "outputs": [],
   "source": []
  },
  {
   "cell_type": "code",
   "execution_count": null,
   "metadata": {},
   "outputs": [],
   "source": [
    "from sklearn.metrics import mean_squared_error  \n",
    "from sklearn.model_selection import train_test_split  \n",
    "\n",
    "import tensorflow as tf\n",
    "from tensorflow import keras\n",
    "from tensorflow.keras.preprocessing.text import Tokenizer  \n",
    "from tensorflow.keras.preprocessing.sequence import pad_sequences\n",
    "from tensorflow.keras.initializers import Constant  \n",
    "from tensorflow.keras.models import Model\n",
    "from tensorflow.keras.layers import *\n",
    "from tensorflow.keras import regularizers\n",
    "from keras import backend as K\n",
    "from tensorflow.keras.callbacks import *\n",
    "from tensorflow.keras import utils\n",
    "\n",
    "import torch"
   ]
  },
  {
   "cell_type": "code",
   "execution_count": null,
   "metadata": {},
   "outputs": [],
   "source": [
    "import numpy as np\n",
    "import pandas as pd \n",
    "import os\n",
    "import matplotlib.pyplot as plt\n",
    "import pickle\n",
    "import time\n",
    "import re\n",
    "import nltk\n",
    "import sys\n",
    "import html\n",
    "import xml.sax.saxutils as saxutils\n",
    "from io import StringIO\n",
    "from html.parser import HTMLParser\n",
    "\n",
    "from transformers import BertTokenizer, BertModel\n",
    "from transformers import DistilBertModel,DistilBertTokenizer\n",
    "\n",
    "from scipy.spatial.distance import cosine\n",
    "\n",
    "from nltk.corpus import stopwords\n",
    "cachedStopWords = stopwords.words(\"english\")\n",
    "\n",
    "#from nltk.stem.snowball import SnowballStemmer\n",
    "#stemmer = SnowballStemmer(\"english\")\n",
    "#Stem=stemmer.stem\n",
    "\n",
    "#from nltk.stem import WordNetLemmatizer\n",
    "#wordnet_lemmatizer = WordNetLemmatizer()\n",
    "#lemm=wordnet_lemmatizer.lemmatize"
   ]
  },
  {
   "cell_type": "code",
   "execution_count": null,
   "metadata": {},
   "outputs": [],
   "source": []
  },
  {
   "cell_type": "code",
   "execution_count": null,
   "metadata": {},
   "outputs": [],
   "source": [
    "'''\n",
    "tokenizer = DistilBertTokenizer.from_pretrained('distilbert-base-uncased')\n",
    "model_bert = DistilBertModel.from_pretrained('distilbert-base-uncased',\n",
    "                                       output_hidden_states = True, # Whether the model returns all hidden-states.\n",
    "                                       )  \n",
    "'''\n",
    "tokenizer = BertTokenizer.from_pretrained('bert-base-uncased')\n",
    "model_bert = BertModel.from_pretrained('bert-base-uncased',\n",
    "                                       output_hidden_states = True, # Whether the model returns all hidden-states.\n",
    "                                       )\n"
   ]
  },
  {
   "cell_type": "code",
   "execution_count": null,
   "metadata": {},
   "outputs": [],
   "source": [
    "#print(len(cachedStopWords))\n",
    "#print(len(cachedStopWords))\n",
    "#print(type(cachedStopWords))\n",
    "nltk_stopwords=set(cachedStopWords)\n",
    "\n",
    "english_alghabet=['b','c','e','f','g','h','j','k','l','n','p','q','r','u','v','w','x','z']\n",
    "\n",
    "numbers_remove=['one','two','three','four','five','six','seven','eight','nine','ten','tens','twenty',\n",
    "                'fourty','fifty','sixty','seventy','eighty','ninety','hundred','hundreds','million','billion','trillion',\n",
    "                'millions','thousand','thousands','second','third','forth','tenth','billions','trillions'] \n",
    "\n",
    "\n",
    "miscellaneous_remove=['absolutely', 'actually', 'adieu', 'ain', \"ain't\", 'aint', 'almost','approximately','arent',\n",
    "                      'bravo', 'briefly', 'bye','cant', 'certainly', 'chrissakes', 'clearly', 'completely','couldnt',\n",
    "                      'alright','alrighty', 'apparently', 'brilliant','congrat', 'congrats','congratulation', \n",
    "                      'congratulations','consequently', 'darnit', 'de','dear', 'definitely','didn', 'doesn', 'don',\n",
    "                      'eg','e.g.','i.e.','encore','entirely', 'especially', 'et', 'etc','hopefully','important',\n",
    "                      'ex', 'exactly', 'excellent','fantastic','here','there','hello', 'hi','ie','just', \"it'd\", \"it'll\",\n",
    "                      'felicitation', 'felicitations','finally', 'fully','furthermore', 'gadzooks','hallo',\n",
    "                      'immediately', 'kg', 'km','let', 'lets', 'likely', 'greetings','hardly','hasnt', 'haven', \n",
    "                      'magnificent', 'necessary', 'non','merely', 'then','too',\n",
    "                      'myself','yourself','yourselves','himself','herself','hisself','ourselves','themsleves',\n",
    "                      'maybe', 'never',  'nearly', 'normally', 'obviously', 'ok', 'okay', 'ones',\n",
    "                      'other','others','only', 'great', 'particular', 'particularly', 'please',\n",
    "                      'awesome','awfully','amazing','interesting','amoungst', 'anybody', 'anymore', 'anyways', 'apart', \n",
    "                      'anytime', 'appropriate', 'behold', 'better', 'bad','best', 'good', 'goodby','goodness',\n",
    "                      'aka','lol' , 'brb', 'lmk', 'ama', 'tbh', 'irl', 'tl;dr','overall', 'overally', \n",
    "                      'possibly', 'potentially', 'predominantly', 'presumably', 'previously','primarily', 'probably',\n",
    "                      'promptly', 'readily', 'really', 'reasonably', 'recent', 'recently', 'ref','refs',\n",
    "                      'relatively', 'respectively','substantially', 'successfully', 'sufficiently',\n",
    "                      'sure', \"t's\", 'th', 'thank', 'thanks', 'thanx', \"that've\", 'thats', 'there', \"there'll\",\n",
    "                      \"there've\", 'thered', 'thereof', 'therere', 'theres', 'thereto', 'theyd', 'theyre', \n",
    "                      'thoroughly', 'tnx', 'truly', 'usually','welcome', 'well', 'yes','urdddd','fab' ,\n",
    "                      'much','many','less','least','few','lots','lot','fewer','fewset','therefore','pm',\n",
    "                      'afaik', 'br', 'idk','smh','qotd', 'ftw','bfn','yw', 'icymi','fomo','smdh', 'b4','imho',\n",
    "                      'mr','madam','sir','mrs','easy', 'difficult','totally',\n",
    "                      \n",
    "                      'disappointing',  'downwards', 'disgusting','dude','down',\n",
    "                      'everybody', 'far', 'funny', 'gracious', \n",
    "                      'hither','higher', 'including', 'howbeit',  'inasmuch', 'inner', 'insofar', 'instead', 'inward', \n",
    "                      'indeed', 'inside','kertyschoo',  'lackaday', \n",
    "                      'largely', 'lately', 'later','lovely','large','big','small',\n",
    "                      'lest', 'little', 'ltd', 'lower', 'mainly', 'marvelous', 'meantime', 'minus', 'near',\n",
    "                      'outside', 'over','plus', 'poorly', 'possible','up','promising',\n",
    "                      'regardless', 'related',  'resulting', 'right', 'sec', \n",
    "                      'secondly','self', 'selves', 'seriously', 'shall', 'shucks','somebody', 'somethan',\n",
    "                      'somewhat', 'soon', 'late' , 'sorry', 'stupid', 'sub', 'useful','super', 'thorough',\n",
    "                      'today','yesterday','tomorrow','night',\"morning\",'afternoon','noon','tonight',\n",
    "                      'evening','day','everyday', 'everynight','todays','nights','mornings','noons','afternoons','days',\n",
    "                      'evenings','week','month','year',\n",
    "                      'twice', 'undoubtedly','unfortunately', 'unlike','unlikely',\n",
    "                      'unto',   'vs', 'went', 'werent', 'what', 'whatever', 'wheres', 'widely',\n",
    "                      'wonderful', 'wont', 'wouldnt', 'wrong', 'worst','worse','www',  'youd', 'youre', 'yummy', \n",
    "                      'zoinks','literally','literal','pleasure','effective','fabulous','delighted',\n",
    "                      'saturday','sunday','monday','tuesday','wednesday','thursday', 'friday','past','future','suitable',\n",
    "                      'delightful','absolute','pleasure','huge','latest','nowadays',\n",
    "                      'january','february','april','june','july','august','september','october',\n",
    "                      'november','december', 'autumn' ,'spring','winter','summer',\n",
    "                      'weekend','south','north','west','east','asia','africa','europe','america',\n",
    "                      'come', 'comes', 'coming', 'came', 'seems', 'gives', 'gave', 'makes', 'made', 'keeps', 'kept', \n",
    "                      'calls', 'called', 'says', 'saying', 'said', 'goes', 'went', 'gone', 'got', 'saw', 'seen', 'shows',\n",
    "                      'shown', 'took', 'taken', 'uses', 'moved', 'moves', 'puts',\n",
    "                      'using','seem','give','make','keep','call','say','go','get','see','seems','seeming',\n",
    "                      'seemed','show','take','made','used','move','become','became','becoming','becomes','put','use',\n",
    "                      'find', 'finds', 'finding']                  \n",
    "                      \n",
    "\n",
    "interjection_remove=['aaaahh', 'aaah', 'aaargh', 'aaay', 'aagh', 'aah',\n",
    "                   'aargh', 'achoo', 'adios', 'ah', 'aha', 'ahem', 'ahh', 'ahhh',\n",
    "                   'ahoy', 'alas', 'allo', 'amen', 'areet', 'argh', 'arrggh',\n",
    "                   'arrividerci', 'asap', 'attaboy', 'avaunt', 'aw', 'aw', 'aww',\n",
    "                   'awww', 'ay', 'ay', 'aye', 'ayeaugh', 'bada', 'badum', 'bah',\n",
    "                   'bahaha', 'bam', 'bazinga', 'behold', 'bingce', 'bingo', 'blah',\n",
    "                   'blech', 'bleh', 'blimey', 'bonjour', 'boo', 'booh', 'boohoo',\n",
    "                   'booyah', 'bravo', 'brr', 'brrrr', 'btw', 'bwahaha', 'capeesh',\n",
    "                   'capisce', 'cheerio', 'cheers', 'ciao', 'cor', 'cowabunga',\n",
    "                   'crikey', 'cripes', 'da', 'dabba', 'dah', 'dammit', 'damn', 'dang',\n",
    "                   'darn', 'de', 'dee', 'di', 'dizamn', 'doh', 'doo', 'drat', 'duh',\n",
    "                   'dum', 'eeeek', 'eek', 'eep', 'egad', 'egads', 'eh', 'ehem', 'em',\n",
    "                   'er', 'eureka', 'eww', 'ewww', 'eyh', 'fiddledeedee', 'fie',\n",
    "                   'fore', 'foul', 'fuff', 'gah', 'gak', 'gee', 'geez', 'gesundheit',\n",
    "                   'giddyap', 'golly', 'gosh', 'grr', 'grrrr', 'ha', 'hah', 'haha',\n",
    "                   'hahaha', 'hallelujah', 'halloa', 'harrumph', 'harumph', 'haw',\n",
    "                   'heck', 'heck', 'heeey', 'heh', 'hehe', 'hey', 'hhh', 'hic', 'hm',\n",
    "                   'hmm', 'hmmm', 'hmmmm', 'hmmph', 'hmpf', 'ho', 'hola', 'hoo',\n",
    "                   'hooray', 'howdy', 'hrmm', 'hrmph', 'hrmph', 'hrrmph', 'hu', 'huh',\n",
    "                   'hullo', 'humph', 'hurrah', 'huzza', 'huzzah', 'ich', 'ick',\n",
    "                   'ixnay', 'jeepers', 'jeez', 'kaboom', 'kapow', 'kerwham', 'la',\n",
    "                   'lala', 'lo', 'lordy', 'meh', 'mhm', 'ml', 'mm', 'mmh', 'mmhm',\n",
    "                   'mmm', 'muahaha', 'mwah', 'mwahaha', 'na','nay','nah', 'nanu', 'nooo', 'nope',\n",
    "                   'nuh', 'oh', 'ohh', 'oho', 'oi', 'okeydoke', 'om', 'oof', 'ooh',\n",
    "                   'oomph', 'oooh', 'ooooh', 'oops', 'ouch', 'ow', 'oww', 'oy',\n",
    "                   'oyez', 'oyh', 'pew', 'pff', 'pffh', 'pfft', 'phew', 'phut',\n",
    "                   'phweep', 'phwoar', 'phwoarr', 'poof', 'poogh', 'prethee',\n",
    "                   'prithee', 'prosit', 'pssh', 'psst', 'queep', 'roger', 'salaam',\n",
    "                   'salam', 'sheesh', 'shh', 'shhh', 'shitfire', 'shoo', 'shoop',\n",
    "                   'shush', 'sigh', 'sssh', 'strewth', 'ta', 'tarnations', 'tchah',\n",
    "                   'teehee', 'tish', 'touché', 'tsk', 'tss', 'tut', 'uggh', 'ugh',\n",
    "                   'uh', 'uhh', 'uhm', 'um', 'umm', 'ummm', 'umph', 'unh', 'upadaisy',\n",
    "                   'upsadaisy', 'ur', 'urgh', 'vay', 'vayf', 'viva', 'voila', 'waa',\n",
    "                   'waaaaah', 'waah', 'wah', 'wahey', 'wassup', 'weee', 'welp',\n",
    "                   'wham', 'whamo', 'whee', 'whew', 'whizz', 'whoa',\n",
    "                   'whoo', 'whoopee','whoop', 'whoops', 'whoopsy', 'whoosh', 'woah', 'woo',\n",
    "                   'woohoo', 'wotcha', 'wotcher', 'wow', 'wowsers', 'wowsers',\n",
    "                   'wuzzup', 'wuzzup', 'wuzzup', 'ya', 'yabba', 'yada', 'yadda',\n",
    "                   'yak', 'yarooh', 'yay', 'yea', 'yeah', 'yech', 'yee', 'yeeeeaah',\n",
    "                   'yeehaw', 'yeow', 'yes', 'yessiree', 'yew', 'yikes', 'yippee',\n",
    "                   'yo', 'yoo', 'yoohoo', 'yow', 'yowza', 'yuck', 'yuh', 'zing',\n",
    "                   'zoiks', 'zomfg', 'zomg', 'zounds', 'zut'\n",
    "                   'lol' , 'brb', 'lmk', 'ama', 'tbh', 'irl', \"tl;dr\"]\n",
    "\n",
    "import spacy\n",
    "sp = spacy.load('en_core_web_sm')\n",
    "spacy_stopwords = sp.Defaults.stop_words\n",
    "type(spacy_stopwords)\n",
    "#spacy_exclude=['using','name','seem','give','make','keep','call','say','go','get','see','seems','seeming',\n",
    "#               'seemed','show','take','made','used','move','become','became','becoming','becomes','put','use']# serious\n",
    "\n",
    "from stop_words import get_stop_words\n",
    "stop_words = get_stop_words('en')\n",
    "stop_words1 = get_stop_words('english')\n",
    "#print(type(stop_words1))\n",
    "#print()\n",
    "#print(stop_words1)\n",
    "lib_stopwords=set(stop_words1)\n",
    "\n",
    "from sklearn.feature_extraction.text import ENGLISH_STOP_WORDS\n",
    "#print(type(ENGLISH_STOP_WORDS))\n",
    "#print()\n",
    "#print(set(ENGLISH_STOP_WORDS))\n",
    "#sklearn_exclude=['find','get','found','go','see','seem','seems','give','seemed','take','keep','show','put','made'] # system  cry\n",
    "sklearn_stopwords=set(ENGLISH_STOP_WORDS)\n",
    "\n",
    "#spacy_stopwords.difference_update(set(spacy_exclude))\n",
    "#sklearn_stopwords.difference_update(set(sklearn_stopwords))\n",
    "#for removing \"just\" one item, use \"remove\"\n",
    "\n",
    "temp_1=set(nltk_stopwords)\n",
    "temp_1.update(lib_stopwords)\n",
    "temp_1.update(sklearn_stopwords)\n",
    "temp_1.update(spacy_stopwords)\n",
    "temp_1.update(set(english_alghabet))\n",
    "temp_1.update(set(numbers_remove)) \n",
    "temp_1.update(set(miscellaneous_remove))\n",
    "temp_1.update(set(interjection_remove))\n",
    "cachedStopWords=temp_1\n",
    "#print(cachedStopWords)\n",
    "cachedStopWords.update(['rt','be','will','was','were','is','am','are','have','has','had','do','does','done'])\n",
    "len(cachedStopWords)"
   ]
  },
  {
   "cell_type": "code",
   "execution_count": null,
   "metadata": {},
   "outputs": [],
   "source": [
    "class MLStripper(HTMLParser):\n",
    "    def __init__(self):\n",
    "        super().__init__()\n",
    "        self.reset()\n",
    "        self.strict = False\n",
    "        self.convert_charrefs= True\n",
    "        self.text = StringIO()\n",
    "    def handle_data(self, d):\n",
    "        self.text.write(d)\n",
    "    def get_data(self):\n",
    "        return self.text.getvalue()\n",
    "\n",
    "def strip_tags(html):\n",
    "    s = MLStripper()\n",
    "    s.feed(html)\n",
    "    return s.get_data()"
   ]
  },
  {
   "cell_type": "code",
   "execution_count": null,
   "metadata": {},
   "outputs": [],
   "source": [
    "def cleaning (text):\n",
    "\n",
    "    #order of lines is important\n",
    "    \n",
    "    text=strip_tags(text)\n",
    "    #text=html.unescape(text) \n",
    "    #text=saxutils.unescape(text)\n",
    "    \n",
    "    #converting\n",
    "    text = re.sub(\"“|”\", '''\"''', text)  #before next lines\n",
    "    text = re.sub(\"’|′|‘|`\", \"'\", text)  #before next lines\n",
    "    \n",
    "    #removing tabs and lines\n",
    "    text=re.sub('\\t|\\n', ' ', text)\n",
    "    \n",
    "    #converting\n",
    "    text=re.sub('\\$|£|€|¥|dollar|dollars|yen|yens|euros', ' money ', text)    # not euro \n",
    "    \n",
    "    emoji_pattern = re.compile(\"[\"\n",
    "                               u\"\\U0001F600-\\U0001F64F\"  # emoticons\n",
    "                               u\"\\U0001F300-\\U0001F5FF\"  # symbols & pictographs\n",
    "                               u\"\\U0001F680-\\U0001F6FF\"  # transport & map symbols\n",
    "                               u\"\\U0001F1E0-\\U0001F1FF\"  # flags (iOS)\n",
    "                               u\"\\U00002702-\\U000027B0\"\n",
    "                               u\"\\U000024C2-\\U0001F251\"\n",
    "                               u\"\\U0001f926-\\U0001f937\"\n",
    "                               u\"\\u2640-\\u2642\"\n",
    "                               u\"\\u2600-\\u2B55\"\n",
    "                               u\"\\u23cf\"\n",
    "                               u\"\\u23e9\"\n",
    "                               u\"\\u231a\"\n",
    "                               u\"\\u3030\"\n",
    "                               \"]+\", flags=re.UNICODE) \n",
    "    #removing emoji\n",
    "    text = emoji_pattern.sub(r' ', text) \n",
    "    \n",
    "    #removing emojis and non-ASCII characters\n",
    "    text = re.sub(r'[^\\x00-\\x7F]+|,Ä¶',' ', text)  \n",
    "        \n",
    "    #convertings words that their lower and uper cases are different\n",
    "    text=re.sub(\" US | U\\.S\\. \", ' USA ', text) # before lower    \n",
    "\n",
    "    #converting lower_case\n",
    "    text = text.lower() \n",
    "\n",
    "    #removeing http and https (URL)\n",
    "    text = re.sub(r'(http://|https://)\\S+', '', text)\n",
    "    \n",
    "    #removing www (URL)\n",
    "    text=re.sub(r'www\\.\\S+', '', text)\n",
    "    \n",
    "    #removing targets\n",
    "    text=re.sub('( |^)@\\S+', '', text) \n",
    "\n",
    "    '''\n",
    "    #removing common expressions\n",
    "    text=re.sub(\"looking forward to|look forward to|make sure|kidding me|\\\n",
    "                in my opinion|by the way,|as soon as possible|shaking my head|i don't know|I do not know|\\\n",
    "                in real life|quote of the day|as far as i know|shake my head|\\\n",
    "                to be honest|in other words|let me know|just kidding|hope that helps|hat tip|\\\n",
    "                just like that|happy birthday|never mind|well-done|\\\n",
    "                in my humble opinion|happy new year|you're welcome|you are welcome| j/k | lmao | \\\n",
    "                it doesn't matter|it does not matter|i think|i wonder|do you think| fml | bfn | br | ht | hth \", ' ', text)   \n",
    "    '''          \n",
    "    #convertings\n",
    "    text=re.sub(\"can't\", 'cannot', text) # before other n't \n",
    "    text=re.sub(\"can not \", 'cannot ', text)  \n",
    "    text=re.sub(\"'ve\",' have', text)\n",
    "    text=re.sub(\"n't\",' not', text)\n",
    "    text=re.sub(\"'ll\",' will', text)\n",
    "    text=re.sub(\"'d\",' would', text)\n",
    "    text=re.sub(\"'re\",' are', text)\n",
    "    text=re.sub(\"i'm\",'i am', text)\n",
    "    text=re.sub(\"=\",' equals to ', text)\n",
    "    text=re.sub(\"&\",' and ', text)\n",
    "    text=re.sub(\" w/ \",' with ', text)\n",
    "    text=re.sub(\" w/i | w/in \",' within ', text)\n",
    "    text=re.sub(\" w/o \",' without ', text)\n",
    "    text=re.sub(\" c/o \",' care of ', text)\n",
    "    text=re.sub(\" h/t \",' hat tip ', text)\n",
    "    text=re.sub(\" b/c \",' because ', text)\n",
    "#    text=re.sub(\"=\",' equals to ', text)\n",
    "    text=re.sub(\"=\",' = ', text)\n",
    "#    text=re.sub(\"\\+\",' plus ', text)\n",
    "    text=re.sub(\"\\+\",' + ', text)\n",
    "    text=re.sub(\"united states\",'usa', text)\n",
    "    text=re.sub(\"united kingdom\",'uk', text)\n",
    "    text=re.sub(\" the us \",' usa ', text)\n",
    "    text=re.sub(\"start-up|start_up\",'startup', text)\n",
    "    text=re.sub(\"u\\.s\\.a\", 'usa', text)     \n",
    "    #text=re.sub(\"aka\", 'also known as', text)\n",
    "    text=re.sub(\"'\",\" ' \", text)     \n",
    "\n",
    "    '''\n",
    "    text= re.sub(\"(\\?)+\", '? ',text) \n",
    "    text= re.sub(\"(!)+\", '! ',text) \n",
    "    text= re.sub(\"(\\.\\.)+\", ' ',text)    \n",
    "    \n",
    "    #removing some special charachter  \n",
    "    text= re.sub(\"[\\\"\\+\\-\\|\\*\\?\\(\\)\\/\\\\\\^\\[\\]<>{}_';•«»,@:~!\\=%&]+\", ' ',text) #except \\.\n",
    "    #text= re.sub(\"[\\\"\\“\\”\\+\\-\\|\\*\\?\\(\\)\\/\\\\\\^\\[\\]\\.{}_`′’‘';•«,@:~!\\=%&]+\", ' ',text) \n",
    "\n",
    "    #removing hashtag\n",
    "    text=re.sub('#', ' ', text) \n",
    "       \n",
    "    #removing numbers not attached to alphabets\n",
    "    text=re.sub(\"(^)(\\d+)(\\.)?(\\d+)? \",' ',text)   #removing numer at the beginning\n",
    "    text=re.sub(\"(\\s)[0-9]?(\\.)?(\\d+) \",' ',text)\n",
    "    text= re.sub(\" (\\.)(\\d+) \", ' ',text)\n",
    "    #text=re.sub(\"\\S+(\\d+) \",' ',text) # alphabet+digit (attached)\n",
    "    #text=re.sub(\" (\\d+)\\S+\",' ',text) # digit+alphabet (attached)\n",
    "    #text=re.sub(\" \\S+(\\d+)\\S+ \",' ',text) # alphabet+digit+alphabet (attached)\n",
    "    #text=re.sub(\"(\\d+)\",' ',text)  #removing any number anywhere but keeps \\. for decimal numbers\n",
    "    '''\n",
    "    #removing space\n",
    "    text=re.sub('\\s+',' ',text)      \n",
    "\n",
    "    text= nltk.word_tokenize(text)\n",
    "    #text= text.split() #sometimes\n",
    "\n",
    "    #removing_stopwords \n",
    "    #text_without_sw = [word.lower() for word in text if word.lower() not in stopwords.words()] #very slow\n",
    "#    text = [word for word in text if word not in cachedStopWords]\n",
    "\n",
    "    #lemmatization\n",
    "#    text= [ lemm(word, pos=\"v\") for word in text]\n",
    "#    text= [ lemm(word, pos=\"n\") for word in text]\n",
    "#    text= [ lemm(word, pos=\"a\") for word in text]\n",
    "    \n",
    "    #stemming \n",
    "    #text = [Stem(word) for word in text]\n",
    "    \n",
    "    text=' '.join(text)\n",
    "    text=re.sub(\"''\",'''\"''', text)    #since nltk.tokenize converts second \" to ''\"\n",
    "    text=re.sub(\"``\",'''\"''', text)    # since nltk.tokenize converts first \" to \" ``\n",
    "\n",
    "    return text"
   ]
  },
  {
   "cell_type": "code",
   "execution_count": null,
   "metadata": {},
   "outputs": [],
   "source": [
    "text=('http://sdsdfdf.www.f.com 6 going US BY the euro $ way &amp; to #home at 29! 9 0.3 4.5 b2b 6dd ca8 and his book). by the way, He is boy??? and .... ')\n",
    "cleaning(text)"
   ]
  },
  {
   "cell_type": "code",
   "execution_count": null,
   "metadata": {},
   "outputs": [],
   "source": [
    "import psycopg2\n",
    "con = psycopg2.connect(database=\"postgres\", user=\"postgres\", password=\"Jafarsql\", host=\"localhost\", port=\"5432\")\n",
    "print(\"Database opened successfully\")\n",
    "\n",
    "cur = con.cursor()\n",
    "##cur.execute(\"SELECT user_id, tweet from ent_2019_100K limit 100000 \")\n",
    "cur.execute(\"SELECT user_id, tweet from ent_2019_1000k \")\n",
    "rows_ent = cur.fetchall()\n",
    "# there is no repetative tweet\n",
    "con.close()\n",
    "\n",
    "print(len(rows_ent))"
   ]
  },
  {
   "cell_type": "code",
   "execution_count": null,
   "metadata": {},
   "outputs": [],
   "source": [
    "import psycopg2\n",
    "con = psycopg2.connect(database=\"postgres\", user=\"postgres\", password=\"Jafarsql\", host=\"localhost\", port=\"5432\")\n",
    "print(\"Database opened successfully\")\n",
    "\n",
    "cur = con.cursor()\n",
    "cur.execute(\"SELECT user_id, tweet from mng_2019_1000k \")\n",
    "rows_mng = cur.fetchall()\n",
    "con.close()\n",
    "\n",
    "print(len(rows_mng))"
   ]
  },
  {
   "cell_type": "code",
   "execution_count": null,
   "metadata": {},
   "outputs": [],
   "source": [
    "import psycopg2\n",
    "con = psycopg2.connect(database=\"postgres\", user=\"postgres\", password=\"Jafarsql\", host=\"localhost\", port=\"5432\")\n",
    "print(\"Database opened successfully\")\n",
    "\n",
    "cur = con.cursor()\n",
    "cur.execute(\"SELECT user_id, tweet from public_2019_1000k \")\n",
    "rows_public = cur.fetchall()\n",
    "con.close()\n",
    "\n",
    "print(len(rows_public))"
   ]
  },
  {
   "cell_type": "code",
   "execution_count": 147,
   "metadata": {},
   "outputs": [],
   "source": [
    "#marked_text='''along w/the 'ball' : \"fashionable truths\"  & good?! ,'''\n",
    "#text2='''with w/the ' fashionable truths : ' a `` generous noble native , '' a `` sport man '' in the'''\n",
    "#a=tokenizer.tokenize(text2)\n",
    "#print(a)\n",
    "#b=nltk.word_tokenize(marked_text)\n",
    "#print(b)\n",
    "#print(cleaning(marked_text))\n",
    "\n",
    "pass"
   ]
  },
  {
   "cell_type": "code",
   "execution_count": 150,
   "metadata": {},
   "outputs": [
    {
     "name": "stdout",
     "output_type": "stream",
     "text": [
      "221.86518907546997\n"
     ]
    }
   ],
   "source": [
    "t0 = time.time()\n",
    "\n",
    "ent_users_rows=[]\n",
    "ent_tweets_rows=[]\n",
    "for i in rows_ent:\n",
    "    ent_users_rows.append(i[0])\n",
    "    ent_tweets_rows.append(cleaning(i[1]))\n",
    "    \n",
    "print( time.time() - t0)"
   ]
  },
  {
   "cell_type": "code",
   "execution_count": 151,
   "metadata": {},
   "outputs": [
    {
     "name": "stdout",
     "output_type": "stream",
     "text": [
      "1606\n"
     ]
    }
   ],
   "source": [
    "ent_users_rows_np=np.array(ent_users_rows)  \n",
    "ent_users=np.unique(ent_users_rows_np)\n",
    "print(len(ent_users))"
   ]
  },
  {
   "cell_type": "code",
   "execution_count": 152,
   "metadata": {},
   "outputs": [],
   "source": [
    "'''\n",
    "ent_all_words=[]\n",
    "for i in ent_tweets_rows:\n",
    "    ent_all_words.extend(i)\n",
    "len(ent_all_words)  \n",
    "'''\n",
    "pass"
   ]
  },
  {
   "cell_type": "code",
   "execution_count": 153,
   "metadata": {},
   "outputs": [],
   "source": [
    "'''\n",
    "dic_ent_user=dict()\n",
    "for user in ent_users_rows:\n",
    "    if user not in dic_ent_user:\n",
    "        dic_ent_user[user]=1\n",
    "    else:\n",
    "        dic_ent_user[user]+=1   \n",
    "sorted_x = sorted(dic_ent_user.items(), key=operator.itemgetter(1), reverse=False) \n",
    "f = open(\"ent_user.txt\", \"w\")\n",
    "for xx in sorted_x:\n",
    "    f.write(str(xx)+'\\n')\n",
    "f.close()\n",
    "'''\n",
    "pass"
   ]
  },
  {
   "cell_type": "code",
   "execution_count": null,
   "metadata": {},
   "outputs": [],
   "source": []
  },
  {
   "cell_type": "code",
   "execution_count": 154,
   "metadata": {},
   "outputs": [
    {
     "name": "stdout",
     "output_type": "stream",
     "text": [
      "215.50108885765076\n"
     ]
    }
   ],
   "source": [
    "t0 = time.time()\n",
    "\n",
    "mng_users_rows=[]\n",
    "mng_tweets_rows=[]\n",
    "for i in rows_mng:\n",
    "    mng_users_rows.append(i[0])\n",
    "    mng_tweets_rows.append(cleaning(i[1]))\n",
    "\n",
    "print( time.time() - t0)"
   ]
  },
  {
   "cell_type": "code",
   "execution_count": 155,
   "metadata": {},
   "outputs": [
    {
     "name": "stdout",
     "output_type": "stream",
     "text": [
      "1648\n"
     ]
    }
   ],
   "source": [
    "mng_users_rows_np=np.array(mng_users_rows)  \n",
    "mng_users=np.unique(mng_users_rows_np)\n",
    "print(len(mng_users))"
   ]
  },
  {
   "cell_type": "code",
   "execution_count": 156,
   "metadata": {},
   "outputs": [],
   "source": [
    "'''\n",
    "mng_all_words=[]\n",
    "for i in mng_tweets_rows:\n",
    "    mng_all_words.extend(i)\n",
    "len(mng_all_words)  \n",
    "'''\n",
    "pass"
   ]
  },
  {
   "cell_type": "code",
   "execution_count": 157,
   "metadata": {},
   "outputs": [],
   "source": [
    "'''\n",
    "dic_mng_user=dict()\n",
    "for user in mng_users_rows:\n",
    "    if user not in dic_mng_user:\n",
    "        dic_mng_user[user]=1\n",
    "    else:\n",
    "        dic_mng_user[user]+=1  \n",
    "        \n",
    "sorted_z = sorted(dic_mng_user.items(), key=operator.itemgetter(1), reverse=False) \n",
    "f = open(\"mng_user.txt\", \"w\")\n",
    "for zz in sorted_z:\n",
    "    f.write(str(zz)+'\\n')\n",
    "f.close()\n",
    "'''\n",
    "pass"
   ]
  },
  {
   "cell_type": "code",
   "execution_count": null,
   "metadata": {},
   "outputs": [],
   "source": []
  },
  {
   "cell_type": "code",
   "execution_count": 158,
   "metadata": {},
   "outputs": [
    {
     "name": "stdout",
     "output_type": "stream",
     "text": [
      "179.22886061668396\n"
     ]
    }
   ],
   "source": [
    "t0 = time.time()\n",
    "\n",
    "public_users_rows=[]\n",
    "public_tweets_rows=[]\n",
    "\n",
    "for i in rows_public:\n",
    "    public_users_rows.append(i[0])\n",
    "    public_tweets_rows.append(cleaning(i[1]))\n",
    "\n",
    "print( time.time() - t0)"
   ]
  },
  {
   "cell_type": "code",
   "execution_count": 159,
   "metadata": {},
   "outputs": [
    {
     "name": "stdout",
     "output_type": "stream",
     "text": [
      "1662\n"
     ]
    }
   ],
   "source": [
    "public_users_rows_np=np.array(public_users_rows)  \n",
    "public_users=np.unique(public_users_rows_np)\n",
    "print(len(public_users))"
   ]
  },
  {
   "cell_type": "code",
   "execution_count": 160,
   "metadata": {},
   "outputs": [],
   "source": [
    "'''\n",
    "public_all_words=[]\n",
    "for i in public_tweets_rows:\n",
    "    public_all_words.extend(i)\n",
    "len(public_all_words)  \n",
    "'''\n",
    "pass"
   ]
  },
  {
   "cell_type": "code",
   "execution_count": 161,
   "metadata": {},
   "outputs": [],
   "source": [
    "'''\n",
    "dic_public_user=dict()\n",
    "for user in public_users_rows:\n",
    "    if user not in dic_public_user:\n",
    "        dic_public_user[user]=1\n",
    "    else:\n",
    "        dic_public_user[user]+=1   \n",
    "sorted_y = sorted(dic_public_user.items(), key=operator.itemgetter(1), reverse=False) \n",
    "f = open(\"public_user.txt\", \"w\")\n",
    "for yy in sorted_y:\n",
    "    f.write(str(yy)+'\\n')\n",
    "f.close()\n",
    "'''\n",
    "pass"
   ]
  },
  {
   "cell_type": "code",
   "execution_count": null,
   "metadata": {},
   "outputs": [],
   "source": []
  },
  {
   "cell_type": "code",
   "execution_count": 162,
   "metadata": {},
   "outputs": [],
   "source": [
    "def embedder (tweets):\n",
    "    # padding after {SEP}\n",
    "    embedding_dim=768\n",
    "    t0 = time.time()\n",
    "    max_len_tokens=20\n",
    "    num_tweets=np.shape(tweets)[0]\n",
    "    tweets_embedded= np.zeros([num_tweets,max_len_tokens,embedding_dim],dtype=\"float32\")\n",
    "    #mng_full_embedding_word=[]\n",
    "#    mng_full_tokenized=[]\n",
    "    \n",
    "    for i, text in enumerate(tweets):\n",
    "\n",
    "        marked_text = \"[CLS] \" + text + \" [SEP]\"\n",
    "        tokenized_text = tokenizer.tokenize(marked_text)\n",
    "#        print('a1',tokenized_text)\n",
    "        \n",
    "        # truncate if size of tekens is more than max_len_tokens\n",
    "        if len(tokenized_text)>max_len_tokens+2:\n",
    "#            print('a2',max_len_tokens+2)\n",
    "            tokenized_text= tokenized_text[0:max_len_tokens+2]\n",
    "#            print('a3',tokenized_text)\n",
    "            tokenized_text[max_len_tokens+2-1]=\"[SEP]\"\n",
    "#            print('a4',tokenized_text)\n",
    "\n",
    "        indexed_tokens = tokenizer.convert_tokens_to_ids(tokenized_text)\n",
    "#        print('a5',indexed_tokens)\n",
    "        indexed_tokens = indexed_tokens + [0] * (max_len_tokens+2 - len(indexed_tokens))\n",
    "#        print('a6',indexed_tokens)\n",
    "\n",
    "        segments_ids = [1] * len(tokenized_text)\n",
    "        temp=len(tokenized_text)\n",
    "        segments_ids= segments_ids + [0] * (max_len_tokens+2 - len(segments_ids)) \n",
    "#        print('a7',segments_ids) \n",
    "\n",
    "        tokens_tensor = torch.tensor([indexed_tokens])\n",
    "        segments_tensors = torch.tensor([segments_ids])\n",
    "        with torch.no_grad():\n",
    "            outputs = model_bert(tokens_tensor, segments_tensors)\n",
    "            out = outputs[0]\n",
    "\n",
    "        token_embeddings = torch.squeeze(out, dim=0)  \n",
    "#        print('a8',token_embeddings)\n",
    "        token_embeddings=np.delete(token_embeddings, (0,temp-1), axis = 0)\n",
    "#        print('a9',token_embeddings)\n",
    "#        token_embeddings[temp-2:]=0\n",
    "#        print(token_embeddings)\n",
    "\n",
    "        #token_embeddings_list=token_embeddings.tolist()\n",
    "        #print(len(token_embeddings_list))\n",
    "        #tokenized_text.pop(0)\n",
    "        #tokenized_text.pop(-1)\n",
    "        #token_embeddings_list.pop(0)\n",
    "        #token_embeddings_list.pop(-1)\n",
    "        #for ii in range(len(tokenized_text)-1 ,0 ,-1):\n",
    "            #print(ii)\n",
    "            #print(tokenized_text[ii][0:2])\n",
    "            #if tokenized_text[ii][0:2]==\"##\":\n",
    "                #print(tokenized_text[ii])\n",
    "               #token_embeddings_list[ii-1]=token_embeddings_list[ii-1]+token_embeddings_list[ii]\n",
    "               #token_embeddings_list.pop(ii) # or del token_vecs_sum[ii]\n",
    "               #tokenized_text[ii-1]=tokenized_text[ii-1]+tokenized_text[ii][2:]\n",
    "               #tokenized_text.pop(ii) # or del tokenized_text[ii]      \n",
    "        #print(len(token_embeddings_list))\n",
    "        #mng_full_embedding_word.append(token_embeddings_list)\n",
    "\n",
    "        tweets_embedded[i]=token_embeddings\n",
    "#        mng_full_tokenized.append(tokenized_text)\n",
    "\n",
    "    print(np.shape(tweets_embedded))\n",
    "    print( time.time() - t0)\n",
    "    return tweets_embedded    "
   ]
  },
  {
   "cell_type": "code",
   "execution_count": 163,
   "metadata": {},
   "outputs": [],
   "source": [
    "def embedder2 (tweets):\n",
    "    #padding before {SEP}\n",
    "    embedding_dim=768\n",
    "    t0 = time.time()\n",
    "    max_len_tokens=20\n",
    "    num_tweets=np.shape(tweets)[0]\n",
    "    tweets_embedded= np.zeros([num_tweets,max_len_tokens,embedding_dim],dtype=\"float32\")\n",
    "    #mng_full_embedding_word=[]\n",
    "#    mng_full_tokenized=[]\n",
    "    \n",
    "    for i, text in enumerate(tweets):\n",
    "\n",
    "        marked_text = '[CLS]'+ text \n",
    "        tokenized_text = tokenizer.tokenize(marked_text)\n",
    "#        print('a1',tokenized_text)\n",
    "        temp=len(tokenized_text)\n",
    "#        print(temp)\n",
    "        # truncate if size of tekens is more than max_len_tokens\n",
    "        if len(tokenized_text)>=max_len_tokens+2:\n",
    "#            print('a2',max_len_tokens+2)\n",
    "            tokenized_text= tokenized_text[0:max_len_tokens+2]\n",
    "#            print('a3',tokenized_text)\n",
    "            tokenized_text[max_len_tokens+2-1]=\"[SEP]\"\n",
    "#            print('a4',tokenized_text)\n",
    "        else:\n",
    "#            print(type(tokenized_text))\n",
    "            tokenized_text = tokenized_text + ['[PAD]'] * (max_len_tokens+1 - len(tokenized_text))+ ['[SEP]']\n",
    "#            print('a44',tokenized_text)\n",
    "\n",
    "#            tf.keras.preprocessing.sequence.pad_sequences(\n",
    "#                sequences, maxlen=10, dtype='int32', padding='post',\n",
    "#                truncating='post', value=0.0)\n",
    "\n",
    "        indexed_tokens = tokenizer.convert_tokens_to_ids(tokenized_text)\n",
    "#        print('a5',indexed_tokens)\n",
    "#        indexed_tokens = indexed_tokens + [0] * (max_len_tokens+2 - len(indexed_tokens))\n",
    "#        print('a6',indexed_tokens)\n",
    "\n",
    "#        segments_ids = [1] * len(tokenized_text)\n",
    "        segments_ids= [1]* min(temp,max_len_tokens+1) + [0] * (max_len_tokens+1 - temp)  + [1]\n",
    "#        print('a7',segments_ids) \n",
    "\n",
    "        tokens_tensor = torch.tensor([indexed_tokens])\n",
    "        segments_tensors = torch.tensor([segments_ids])\n",
    "        with torch.no_grad():\n",
    "            outputs = model_bert(tokens_tensor, segments_tensors)\n",
    "            out = outputs[0]\n",
    "\n",
    "        token_embeddings = torch.squeeze(out, dim=0)  \n",
    "#        print('a8',token_embeddings)\n",
    "        token_embeddings=np.delete(token_embeddings, (0,-1), axis = 0)\n",
    "#        print('a9',token_embeddings)\n",
    "#        token_embeddings[temp-2:]=0\n",
    "#        print(token_embeddings)\n",
    "\n",
    "        #token_embeddings_list=token_embeddings.tolist()\n",
    "        #print(len(token_embeddings_list))\n",
    "        #tokenized_text.pop(0)\n",
    "        #tokenized_text.pop(-1)\n",
    "        #token_embeddings_list.pop(0)\n",
    "        #token_embeddings_list.pop(-1)\n",
    "        #for ii in range(len(tokenized_text)-1 ,0 ,-1):\n",
    "            #print(ii)\n",
    "            #print(tokenized_text[ii][0:2])\n",
    "            #if tokenized_text[ii][0:2]==\"##\":\n",
    "                #print(tokenized_text[ii])\n",
    "               #token_embeddings_list[ii-1]=token_embeddings_list[ii-1]+token_embeddings_list[ii]\n",
    "               #token_embeddings_list.pop(ii) # or del token_vecs_sum[ii]\n",
    "               #tokenized_text[ii-1]=tokenized_text[ii-1]+tokenized_text[ii][2:]\n",
    "               #tokenized_text.pop(ii) # or del tokenized_text[ii]      \n",
    "        #print(len(token_embeddings_list))\n",
    "        #mng_full_embedding_word.append(token_embeddings_list)\n",
    "\n",
    "        tweets_embedded[i]=token_embeddings\n",
    "#        mng_full_tokenized.append(tokenized_text)\n",
    "\n",
    "    print(np.shape(tweets_embedded))\n",
    "    print( time.time() - t0)\n",
    "    return tweets_embedded    "
   ]
  },
  {
   "cell_type": "code",
   "execution_count": 164,
   "metadata": {},
   "outputs": [],
   "source": [
    "def embedder0 (tweets):\n",
    "    #padding before {SEP} forcing zero\n",
    "    embedding_dim=768\n",
    "    t0 = time.time()\n",
    "    max_len_tokens=1\n",
    "    num_tweets=np.shape(tweets)[0]\n",
    "    tweets_embedded= np.zeros([num_tweets,max_len_tokens,embedding_dim],dtype=\"float32\")\n",
    "#    print('a11',np.shape(vector_temp))\n",
    "\n",
    "    #mng_full_embedding_word=[]\n",
    "#    mng_full_tokenized=[]\n",
    "    \n",
    "    for i, text in enumerate(tweets):\n",
    "        \n",
    "        \n",
    "                \n",
    "        marked_text = '[CLS]'+ text + '[SEP]'\n",
    "        tokenized_text = tokenizer.tokenize(marked_text)\n",
    "        segments_ids = [1] * len(tokenized_text)\n",
    "#        print('a1',tokenized_text)\n",
    "        temp=len(tokenized_text)-2\n",
    "        indexed_tokens = tokenizer.convert_tokens_to_ids(tokenized_text)\n",
    "        tokens_tensor = torch.tensor([indexed_tokens])\n",
    "        segments_tensors = torch.tensor([segments_ids])\n",
    "        with torch.no_grad():\n",
    "            outputs = model_bert(tokens_tensor, segments_tensors)\n",
    "            out = outputs[0]\n",
    "        token_embeddings = torch.squeeze(out, dim=0)  \n",
    "#        print('a8',token_embeddings)\n",
    "        token_embeddings=np.delete(token_embeddings, (0,-1), axis = 0)\n",
    "#        print('a88',len(token_embeddings))\n",
    "        if len(token_embeddings)>=max_len_tokens:\n",
    "            vector_temp= token_embeddings[0:max_len_tokens]\n",
    "#            print('a9',vector_temp)\n",
    "        else:\n",
    "            vector_temp = np.zeros([max_len_tokens,embedding_dim],dtype=\"float32\")\n",
    "            vector_temp[0:temp] = token_embeddings\n",
    "#            print('a99',vector_temp)\n",
    "        tweets_embedded[i]=vector_temp\n",
    "#        mng_full_tokenized.append(tokenized_text)\n",
    "\n",
    "        '''\n",
    "\n",
    "        marked_text = '[CLS]'+ text + '[SEP]'\n",
    "        tokenized_text = tokenizer.tokenize(marked_text)\n",
    "        temp=len(tokenized_text)-2\n",
    "#        print('b1',tokenized_text)\n",
    "        if len(tokenized_text)>=max_len_tokens+2:\n",
    "#            print('b2',max_len_tokens+2)\n",
    "            tokenized_text= tokenized_text[0:max_len_tokens+2]\n",
    "#            print('b3',tokenized_text)\n",
    "            tokenized_text[max_len_tokens+2-1]=\"[SEP]\"\n",
    "#            print('b4',tokenized_text)\n",
    "        segments_ids = [1] * len(tokenized_text)\n",
    "        indexed_tokens = tokenizer.convert_tokens_to_ids(tokenized_text)\n",
    "        tokens_tensor = torch.tensor([indexed_tokens])\n",
    "        segments_tensors = torch.tensor([segments_ids])\n",
    "        with torch.no_grad():\n",
    "            outputs = model_bert(tokens_tensor, segments_tensors)\n",
    "            out = outputs[0]\n",
    "        token_embeddings = torch.squeeze(out, dim=0) \n",
    "#        print('b8',token_embeddings)\n",
    "        token_embeddings=np.delete(token_embeddings, (0,-1), axis = 0)\n",
    "#        print('b88',len(token_embeddings))\n",
    "        if len(token_embeddings)==max_len_tokens:\n",
    "            vector_temp= token_embeddings\n",
    "#            print('b9',vector_temp)\n",
    "        else:\n",
    "            vector_temp = np.zeros([max_len_tokens,embedding_dim],dtype=\"float32\")\n",
    "            vector_temp[0:temp] = token_embeddings\n",
    "#            print('b99',vector_temp)\n",
    "        tweets_embedded[i]=vector_temp\n",
    "#        mng_full_tokenized.append(tokenized_text)\n",
    "        '''\n",
    "\n",
    "    print(np.shape(tweets_embedded))\n",
    "    print( time.time() - t0)\n",
    "    return tweets_embedded    "
   ]
  },
  {
   "cell_type": "code",
   "execution_count": 165,
   "metadata": {},
   "outputs": [
    {
     "data": {
      "text/plain": [
       "\"\\naa=embedder0(['That is very good and joy '])\\n#aa=embedder0([''])\\naa\\n\""
      ]
     },
     "execution_count": 165,
     "metadata": {},
     "output_type": "execute_result"
    }
   ],
   "source": [
    "'''\n",
    "aa=embedder0(['That is very good and joy '])\n",
    "#aa=embedder0([''])\n",
    "aa\n",
    "'''"
   ]
  },
  {
   "cell_type": "code",
   "execution_count": 166,
   "metadata": {},
   "outputs": [
    {
     "data": {
      "text/plain": [
       "\"\\ndef customLoss1(yTrue,yPred):\\n    res=np.abs(yTrue - yPred )\\n    res= res+1\\n#    res=tf.cast(res,tf.float32)\\n    res=np.power(res,0.1)\\n#    print(res)\\n    res=np.prod(res)\\n    res= res -1\\n#    print(res)\\n    return res\\n\\nx1=np.random.rand(1,1,3)\\nprint(x1)\\nx2=np.zeros([1,1,3])\\ncustomLoss1(x1,x2)\\n\\npass\\n\\nb1=embedder0(['hated'])\\nb2=embedder0(['song'])\\nb3=embedder0(['money'])\\nb4=embedder0(['marketing'])\\nb5=embedder0(['team'])\\nb6=embedder0(['group'])\\n\\n\\nfrom scipy.spatial.distance import cosine\\n\\nprint(1 - cosine(b1, b2 ))\\nprint(1 - cosine(b1, b3 ))\\nprint(1 - cosine(b1, b4 ))\\nprint(1 - cosine(b2, b3 ))\\nprint(1 - cosine(b2, b4 ))\\nprint(1 - cosine(b3, b4 ))\\nprint(1 - cosine(b5, b6 ))\\n\\nprint(customLoss1(b1,b2))\\nprint(customLoss1(b1,b3))\\nprint(customLoss1(b1,b4))\\nprint(customLoss1(b2,b3))\\nprint(customLoss1(b2,b4))\\nprint(customLoss1(b3,b4))\\nprint(customLoss1(b5,b6))\\n\\n\\nprint(np.linalg.norm(b1-b2))\\nprint(np.linalg.norm(b1-b3))\\nprint(np.linalg.norm(b1-b4))\\nprint(np.linalg.norm(b3-b2))\\nprint(np.linalg.norm(b4-b2))\\nprint(np.linalg.norm(b3-b4))\\nprint(np.linalg.norm(b5-b6))\\n\""
      ]
     },
     "execution_count": 166,
     "metadata": {},
     "output_type": "execute_result"
    }
   ],
   "source": [
    "'''\n",
    "def customLoss1(yTrue,yPred):\n",
    "    res=np.abs(yTrue - yPred )\n",
    "    res= res+1\n",
    "#    res=tf.cast(res,tf.float32)\n",
    "    res=np.power(res,0.1)\n",
    "#    print(res)\n",
    "    res=np.prod(res)\n",
    "    res= res -1\n",
    "#    print(res)\n",
    "    return res\n",
    "\n",
    "x1=np.random.rand(1,1,3)\n",
    "print(x1)\n",
    "x2=np.zeros([1,1,3])\n",
    "customLoss1(x1,x2)\n",
    "\n",
    "pass\n",
    "\n",
    "b1=embedder0(['hated'])\n",
    "b2=embedder0(['song'])\n",
    "b3=embedder0(['money'])\n",
    "b4=embedder0(['marketing'])\n",
    "b5=embedder0(['team'])\n",
    "b6=embedder0(['group'])\n",
    "\n",
    "\n",
    "from scipy.spatial.distance import cosine\n",
    "\n",
    "print(1 - cosine(b1, b2 ))\n",
    "print(1 - cosine(b1, b3 ))\n",
    "print(1 - cosine(b1, b4 ))\n",
    "print(1 - cosine(b2, b3 ))\n",
    "print(1 - cosine(b2, b4 ))\n",
    "print(1 - cosine(b3, b4 ))\n",
    "print(1 - cosine(b5, b6 ))\n",
    "\n",
    "print(customLoss1(b1,b2))\n",
    "print(customLoss1(b1,b3))\n",
    "print(customLoss1(b1,b4))\n",
    "print(customLoss1(b2,b3))\n",
    "print(customLoss1(b2,b4))\n",
    "print(customLoss1(b3,b4))\n",
    "print(customLoss1(b5,b6))\n",
    "\n",
    "\n",
    "print(np.linalg.norm(b1-b2))\n",
    "print(np.linalg.norm(b1-b3))\n",
    "print(np.linalg.norm(b1-b4))\n",
    "print(np.linalg.norm(b3-b2))\n",
    "print(np.linalg.norm(b4-b2))\n",
    "print(np.linalg.norm(b3-b4))\n",
    "print(np.linalg.norm(b5-b6))\n",
    "'''"
   ]
  },
  {
   "cell_type": "code",
   "execution_count": null,
   "metadata": {},
   "outputs": [],
   "source": []
  },
  {
   "cell_type": "code",
   "execution_count": 167,
   "metadata": {},
   "outputs": [],
   "source": [
    "'''\n",
    "with open(\"./New folder/seed_tweets_mng.txt\", \"rb\") as fp:   \n",
    "    seed_tweets_mng = pickle.load(fp)\n",
    "'''    \n",
    "with open(\"./New folder/seed_tweets_ent.txt\", \"rb\") as fp:   \n",
    "    seed_tweets_ent = pickle.load(fp)"
   ]
  },
  {
   "cell_type": "code",
   "execution_count": 168,
   "metadata": {},
   "outputs": [],
   "source": [
    "'''\n",
    "seed_mng=[]\n",
    "for tweet in seed_tweets_mng:\n",
    "    seed_mng.append(cleaning(tweet))\n",
    "'''    \n",
    "seed_ent=[]\n",
    "for tweet in seed_tweets_ent:\n",
    "    seed_ent.append(cleaning(tweet))    "
   ]
  },
  {
   "cell_type": "code",
   "execution_count": 169,
   "metadata": {},
   "outputs": [],
   "source": [
    "'''\n",
    "for i in range(100):\n",
    "    print(seed_tweets_ent[i])\n",
    "    print(seed_ent[i])\n",
    "    print()\n",
    "''' \n",
    "pass"
   ]
  },
  {
   "cell_type": "code",
   "execution_count": 170,
   "metadata": {},
   "outputs": [
    {
     "data": {
      "text/plain": [
       "['finally have a product + a market !',\n",
       " 'all in one small business marketing ! at its best !',\n",
       " \"entrepreneur : it ' s not all about business\",\n",
       " 'come and invest money you are not using',\n",
       " 'what are you saying ? i will take money , and invest here .',\n",
       " 'the latest # business and # money by thanks to # investment # investing',\n",
       " 'make money marketing',\n",
       " 'the latest # business and # money by thanks to # investment # markets',\n",
       " 'there are strategies we use for every market .',\n",
       " 'marketing is an investment . thats it .']"
      ]
     },
     "execution_count": 170,
     "metadata": {},
     "output_type": "execute_result"
    }
   ],
   "source": [
    "seed_ent[0:10]"
   ]
  },
  {
   "cell_type": "code",
   "execution_count": 171,
   "metadata": {},
   "outputs": [],
   "source": [
    "df_ent = pd.DataFrame({'tweet':ent_tweets_rows})\n",
    "df_ent['len'] = df_ent['tweet'].apply(lambda x: len(str(x).split(' ')))\n",
    "#df_ent"
   ]
  },
  {
   "cell_type": "code",
   "execution_count": 172,
   "metadata": {},
   "outputs": [
    {
     "name": "stdout",
     "output_type": "stream",
     "text": [
      "ent\n",
      "mean length of tweets: 19.740617\n",
      "max length of tweets:  227\n",
      "std length of tweets:  13.50367504823555\n"
     ]
    }
   ],
   "source": [
    "print('ent')\n",
    "print(\"mean length of tweets: \" + str(df_ent['len'].mean()))\n",
    "print(\"max length of tweets:  \" + str(df_ent['len'].max()))\n",
    "print(\"std length of tweets:  \" + str(df_ent['len'].std()))"
   ]
  },
  {
   "cell_type": "code",
   "execution_count": 173,
   "metadata": {},
   "outputs": [],
   "source": [
    "df_mng = pd.DataFrame({'tweet':mng_tweets_rows})\n",
    "df_mng['len'] = df_mng['tweet'].apply(lambda x: len(str(x).split(' ')))\n",
    "#df_mng"
   ]
  },
  {
   "cell_type": "code",
   "execution_count": 174,
   "metadata": {},
   "outputs": [
    {
     "name": "stdout",
     "output_type": "stream",
     "text": [
      "mng\n",
      "mean length of tweets: 18.521694\n",
      "max length of tweets:  258\n",
      "std length of tweets:  12.719456558951313\n"
     ]
    }
   ],
   "source": [
    "print('mng')\n",
    "print(\"mean length of tweets: \" + str(df_mng['len'].mean()))\n",
    "print(\"max length of tweets:  \" + str(df_mng['len'].max()))\n",
    "print(\"std length of tweets:  \" + str(df_mng['len'].std()))"
   ]
  },
  {
   "cell_type": "code",
   "execution_count": 175,
   "metadata": {},
   "outputs": [],
   "source": [
    "df_public = pd.DataFrame({'tweet':public_tweets_rows})\n",
    "df_public['len'] = df_public['tweet'].apply(lambda x: len(str(x).split(' ')))\n",
    "#df_public"
   ]
  },
  {
   "cell_type": "code",
   "execution_count": 176,
   "metadata": {},
   "outputs": [
    {
     "name": "stdout",
     "output_type": "stream",
     "text": [
      "public\n",
      "mean length of tweets: 14.536518\n",
      "max length of tweets:  135\n",
      "std length of tweets:  9.546267520175629\n"
     ]
    }
   ],
   "source": [
    "print('public')\n",
    "print(\"mean length of tweets: \" + str(df_public['len'].mean()))\n",
    "print(\"max length of tweets:  \" + str(df_public['len'].max()))\n",
    "print(\"std length of tweets:  \" + str(df_public['len'].std()))"
   ]
  },
  {
   "cell_type": "code",
   "execution_count": null,
   "metadata": {},
   "outputs": [],
   "source": []
  },
  {
   "cell_type": "code",
   "execution_count": null,
   "metadata": {},
   "outputs": [],
   "source": []
  },
  {
   "cell_type": "code",
   "execution_count": 177,
   "metadata": {},
   "outputs": [],
   "source": [
    "#length  and indices of non empty tweets after cleaning\n",
    "len_pub=[]\n",
    "public_all=[]\n",
    "for i in public_tweets_rows:\n",
    "    if len(i)!=0:\n",
    "        len_pub.append(len(i.split(' ')))\n",
    "        public_all.append(i)"
   ]
  },
  {
   "cell_type": "code",
   "execution_count": 178,
   "metadata": {},
   "outputs": [],
   "source": [
    "len_mng=[]\n",
    "mng_all=[]\n",
    "for i in mng_tweets_rows:\n",
    "    if len(i)!=0:\n",
    "        len_mng.append(len(i.split(' ')))\n",
    "        mng_all.append(i)"
   ]
  },
  {
   "cell_type": "code",
   "execution_count": 179,
   "metadata": {},
   "outputs": [],
   "source": [
    "len_ent=[]\n",
    "ent_all=[]\n",
    "for i in ent_tweets_rows:\n",
    "    if len(i)!=0:\n",
    "        len_ent.append(len(i.split(' ')))\n",
    "        ent_all.append(i)      "
   ]
  },
  {
   "cell_type": "code",
   "execution_count": 180,
   "metadata": {},
   "outputs": [
    {
     "name": "stdout",
     "output_type": "stream",
     "text": [
      "mean length for ent , mng and public without empty tweets\n"
     ]
    },
    {
     "data": {
      "text/plain": [
       "(19.74065448130896, 18.52171152171152, 14.536518)"
      ]
     },
     "execution_count": 180,
     "metadata": {},
     "output_type": "execute_result"
    }
   ],
   "source": [
    "print('mean length for ent , mng and public without empty tweets')        \n",
    "np.mean(len_ent),np.mean(len_mng),np.mean(len_pub)"
   ]
  },
  {
   "cell_type": "code",
   "execution_count": 181,
   "metadata": {},
   "outputs": [
    {
     "data": {
      "text/plain": [
       "[\"a sovereign people must always have responsibility & desire to be substantially self-reliant , from which derives our human dignity . that dignity canot be derived from gov ' t cradle to grave schemes & dependence , nor mere tribal identity . true identity comes only from our creator !\",\n",
       " 'and last , good neighbors go together to mend their walls , & in that work together mend trust & pay their share , that law between them may be restored & their security assured . while at this work , the cause of this trespass must be addressed , & both must lend a hand & repair it .',\n",
       " 'and we all celebrate life , as do the president and first lady ! we are here at the egg convention center in albany ny today celebrating our god-given right to life at the day of mourning following the nys legislature approving 3rd term abortion .',\n",
       " 'british & american cultures share much in common . but trump represents the best of a sovereignty culture unique to america , yet still its vestiges are rooted in british culture . your choice is between a sovereignty culture of sovereign citizens or slave culture of absolute rulers',\n",
       " 'british common law is the foundation on which american jurisprudence is built including property rights & the sacred value of human life & rights . and this judeo-christian value system informs the british culture which like usa culture is under attack by relativists . clear , mayor ?']"
      ]
     },
     "execution_count": 181,
     "metadata": {},
     "output_type": "execute_result"
    }
   ],
   "source": [
    "ent_all[0:5]"
   ]
  },
  {
   "cell_type": "code",
   "execution_count": 182,
   "metadata": {},
   "outputs": [],
   "source": [
    "#X_train, X_test, y_train, y_test = train_test_split(X, y, test_size=0.1)\n",
    "#print(\"test set size \" + str(len(X_test)))"
   ]
  },
  {
   "cell_type": "code",
   "execution_count": 183,
   "metadata": {},
   "outputs": [],
   "source": [
    "'''\n",
    "with open(\"data_public.txt\", \"wb\") as fp:\n",
    "  pickle.dump(data_public, fp, protocol=4) # for data with size more than 4GB\n",
    "'''  \n",
    "'''\n",
    "with open(\"data_mng.txt\", \"wb\") as fp:   \n",
    "  pickle.dump(data_mng, fp, protocol=4)\n",
    "'''\n",
    "'''\n",
    "with open(\"data_train_ent.txt\", \"wb\") as fp:   \n",
    "  pickle.dump(data_ent, fp, protocol=4)\n",
    "'''\n",
    "pass"
   ]
  },
  {
   "cell_type": "code",
   "execution_count": 184,
   "metadata": {},
   "outputs": [],
   "source": [
    "'''\n",
    "with open(\"data_train_mng.txt\", \"rb\") as fp:   \n",
    "  data_mng = pickle.load(fp)\n",
    "'''\n",
    "'''\n",
    "with open(\"data_train_public.txt\", \"rb\") as fp:   \n",
    "  data_train_public = pickle.load(fp)\n",
    "'''\n",
    "'''\n",
    "with open(\"data_train_ent.txt\", \"rb\") as fp:   \n",
    "  data_ent = pickle.load(fp)\n",
    "'''\n",
    "pass"
   ]
  },
  {
   "cell_type": "code",
   "execution_count": 185,
   "metadata": {},
   "outputs": [
    {
     "data": {
      "text/plain": [
       "(2000,)"
      ]
     },
     "execution_count": 185,
     "metadata": {},
     "output_type": "execute_result"
    }
   ],
   "source": [
    "np.shape(seed_ent)"
   ]
  },
  {
   "cell_type": "code",
   "execution_count": 186,
   "metadata": {},
   "outputs": [],
   "source": [
    "#for i,j in enumerate(seed_ent[0:120]):\n",
    "#    print(i,j)"
   ]
  },
  {
   "cell_type": "code",
   "execution_count": 52,
   "metadata": {},
   "outputs": [],
   "source": [
    "seed_ent_exclude=[29,30,38,39,49,50,51,52,59,60,68,69,78,94,102,103,156,157,179,201,203,204,237,\n",
    "             257,288,304,313,341,425,476,492,508,542,545,548,633,634,663,674,694,741,751,768,\n",
    "             801,802,809,835,847,852,856,857,868,869]\n",
    "seed_ent_exclude=sorted(seed_ent_exclude) \n",
    "#for i in seed_ent_exclude:\n",
    "#    print(seed_ent[i])"
   ]
  },
  {
   "cell_type": "code",
   "execution_count": 1258,
   "metadata": {},
   "outputs": [],
   "source": [
    "seed_ent1 = [j for i, j in enumerate(seed_ent[0:120]) if i not in seed_ent_exclude]"
   ]
  },
  {
   "cell_type": "code",
   "execution_count": 1259,
   "metadata": {},
   "outputs": [
    {
     "data": {
      "text/plain": [
       "104"
      ]
     },
     "execution_count": 1259,
     "metadata": {},
     "output_type": "execute_result"
    }
   ],
   "source": [
    "len(seed_ent1)"
   ]
  },
  {
   "cell_type": "code",
   "execution_count": 54,
   "metadata": {},
   "outputs": [],
   "source": [
    "#data_train=embedder0(seed_ent1)"
   ]
  },
  {
   "cell_type": "code",
   "execution_count": 55,
   "metadata": {},
   "outputs": [],
   "source": [
    "#data_test=embedder0(ent_all[0:1000])"
   ]
  },
  {
   "cell_type": "code",
   "execution_count": 56,
   "metadata": {},
   "outputs": [],
   "source": [
    "#sys.getsizeof(data_test)"
   ]
  },
  {
   "cell_type": "code",
   "execution_count": 187,
   "metadata": {},
   "outputs": [],
   "source": [
    "#!pip install \"tensorflow_hub>=0.6.0\"\n",
    "#!pip install \"tensorflow>=2.0.0\"\n",
    "\n",
    "import tensorflow as tf\n",
    "import tensorflow_hub as hub"
   ]
  },
  {
   "cell_type": "code",
   "execution_count": 188,
   "metadata": {},
   "outputs": [],
   "source": [
    "seed_ent2 = [j for i, j in enumerate(seed_ent[0:28]) if i not in [13,14,26]]\n",
    "#seed_ent2"
   ]
  },
  {
   "cell_type": "code",
   "execution_count": 189,
   "metadata": {},
   "outputs": [
    {
     "name": "stdout",
     "output_type": "stream",
     "text": [
      "2000\n"
     ]
    },
    {
     "data": {
      "text/plain": [
       "4000"
      ]
     },
     "execution_count": 189,
     "metadata": {},
     "output_type": "execute_result"
    }
   ],
   "source": [
    "print(len(seed_ent))\n",
    "texts=[]\n",
    "texts=seed_ent+ent_all[0:2000]\n",
    "len(texts)"
   ]
  },
  {
   "cell_type": "code",
   "execution_count": 190,
   "metadata": {},
   "outputs": [],
   "source": [
    "#texts[0],texts[1],texts[2],texts[3],texts[4],texts[5],texts[6]"
   ]
  },
  {
   "cell_type": "code",
   "execution_count": 191,
   "metadata": {},
   "outputs": [],
   "source": [
    "texts.append(\"great work group\")\n",
    "#texts.append(\"I like #apple\")"
   ]
  },
  {
   "cell_type": "code",
   "execution_count": 192,
   "metadata": {},
   "outputs": [
    {
     "data": {
      "text/plain": [
       "4001"
      ]
     },
     "execution_count": 192,
     "metadata": {},
     "output_type": "execute_result"
    }
   ],
   "source": [
    "len(texts)"
   ]
  },
  {
   "cell_type": "code",
   "execution_count": null,
   "metadata": {},
   "outputs": [],
   "source": []
  },
  {
   "cell_type": "code",
   "execution_count": 193,
   "metadata": {},
   "outputs": [
    {
     "name": "stdout",
     "output_type": "stream",
     "text": [
      "Found 6742 unique tokens.\n"
     ]
    }
   ],
   "source": [
    "from keras.preprocessing.text import Tokenizer\n",
    "from keras.preprocessing.sequence import pad_sequences\n",
    "MAX_NB_WORDS=25000\n",
    "MAX_SEQUENCE_LENGTH=25\n",
    "\n",
    "tokenizer = Tokenizer(num_words=MAX_NB_WORDS)\n",
    "tokenizer.fit_on_texts(texts)\n",
    "sequences = tokenizer.texts_to_sequences(texts)\n",
    "word_index = tokenizer.word_index\n",
    "print('Found %s unique tokens.' % len(word_index))\n",
    "data = pad_sequences(sequences, maxlen=MAX_SEQUENCE_LENGTH, padding='post')\n",
    "\n",
    "'''\n",
    "from nltk.tokenize import word_tokenize\n",
    "from gensim.corpora.dictionary import Dictionary\n",
    "\n",
    "tokens=[]\n",
    "for sometext in texts:\n",
    "    tokens.extend(word_tokenize(sometext))\n",
    "    \n",
    "token=list(set(tokens))\n",
    "my_vocab = Dictionary([tokens])\n",
    "\n",
    "sequences=[]\n",
    "for i, sometext in enumerate(texts) :\n",
    "    tokens=word_tokenize(sometext)\n",
    "    temp=[]\n",
    "    for token in tokens:\n",
    "        temp.append(my_vocab.token2id[token]+1)\n",
    "    if len(temp)>num_words:\n",
    "        temp=temp[0:num_words]\n",
    "    sequences.append(temp)\n",
    "\n",
    "word_index={}\n",
    "for i in range(len(my_vocab)):\n",
    "    word_index[my_vocab[i]]= 1+i    \n",
    "    \n",
    "data = pad_sequences(sequences, maxlen=25, padding='post')\n",
    "'''\n",
    "    \n",
    "# split the data into a training set and a test set\n",
    "indices = np.arange(data.shape[0])\n",
    "#np.random.shuffle(indices)\n",
    "data = data[indices]\n",
    "nb_train_samples=len(seed_ent)\n",
    "x_train1 = data[:nb_train_samples]\n",
    "x_test1 = data[nb_train_samples:]"
   ]
  },
  {
   "cell_type": "code",
   "execution_count": 194,
   "metadata": {},
   "outputs": [
    {
     "name": "stdout",
     "output_type": "stream",
     "text": [
      "Found 1193514 word vectors.\n"
     ]
    }
   ],
   "source": [
    "embeddings_index = {}\n",
    "f = open(os.path.join(\"C:/Users/jafar/My codes/glove/\", 'glove.twitter.27B.25d.txt'),encoding='cp437')\n",
    "for line in f:\n",
    "    values = line.split()\n",
    "    word = values[0]\n",
    "    coefs = np.asarray(values[1:], dtype='float32')\n",
    "    embeddings_index[word] = coefs\n",
    "f.close()\n",
    "\n",
    "print('Found %s word vectors.' % len(embeddings_index))"
   ]
  },
  {
   "cell_type": "code",
   "execution_count": 195,
   "metadata": {},
   "outputs": [],
   "source": [
    "#print(type(embeddings_index))\n",
    "#print(embeddings_index['#'])"
   ]
  },
  {
   "cell_type": "code",
   "execution_count": 196,
   "metadata": {},
   "outputs": [
    {
     "name": "stdout",
     "output_type": "stream",
     "text": [
      "\n"
     ]
    }
   ],
   "source": [
    "'''\n",
    "a1=embeddings_index['hated']\n",
    "a2=embeddings_index['song']\n",
    "a3=embeddings_index['money']\n",
    "a4=embeddings_index['marketing']\n",
    "a5=embeddings_index['team']\n",
    "a6=embeddings_index['group']\n",
    "a7=embeddings_index['club']\n",
    "a8=embeddings_index['time']\n",
    "a9=embeddings_index['market']\n",
    "a10=embeddings_index['heater']\n",
    "\n",
    "np.linalg.norm(a7-a8),np.linalg.norm(a7-a9) , np.linalg.norm(a7-a10)\n",
    "\n",
    "def customLoss(yTrue,yPred):\n",
    "    res=K.abs(yTrue - yPred )\n",
    "    res =res+ 1\n",
    "#    print(res)\n",
    "    res=K.prod(res,axis=-1)\n",
    "#    print(res)\n",
    "    res=tf.cast(res,tf.float32)\n",
    "    res=K.pow(res,1)\n",
    "    res=K.prod(res)\n",
    "    res= res -1\n",
    "    return res\n",
    "\n",
    "from scipy.spatial.distance import cosine\n",
    "\n",
    "print(1 - cosine(a1, a2 ))\n",
    "print(1 - cosine(a1, a3 ))\n",
    "print(1 - cosine(a1, a4 ))\n",
    "print(1 - cosine(a2, a3 ))\n",
    "print(1 - cosine(a2, a4 ))\n",
    "print(1 - cosine(a3, a4 ))\n",
    "print(1 - cosine(a5, a6 ))\n",
    "print(1 - cosine(a4, a7 ))\n",
    "print(1 - cosine(a8, a7 ))\n",
    "print(1 - cosine(a9, a7 ))\n",
    "\n",
    "print(customLoss(a1,a2))\n",
    "print(customLoss(a1,a3))\n",
    "print(customLoss(a1,a4))\n",
    "print(customLoss(a2,a3))\n",
    "print(customLoss(a2,a4))\n",
    "print(customLoss(a3,a4))\n",
    "print(customLoss(a5,a6))\n",
    "'''\n",
    "print()"
   ]
  },
  {
   "cell_type": "code",
   "execution_count": 197,
   "metadata": {},
   "outputs": [],
   "source": [
    "EMBEDDING_DIM=25\n",
    "\n",
    "embedding_matrix = np.zeros((len(word_index) + 1, EMBEDDING_DIM))\n",
    "for word, i in word_index.items():\n",
    "#    print(word,i)\n",
    "    embedding_vector = embeddings_index.get(word)\n",
    "    if embedding_vector is not None:\n",
    "        # words not found in embedding index will be all-zeros.\n",
    "        embedding_matrix[i] = embedding_vector\n",
    "#        print(embedding_vector)     "
   ]
  },
  {
   "cell_type": "code",
   "execution_count": 198,
   "metadata": {},
   "outputs": [],
   "source": [
    "from tensorflow.keras.layers import Embedding\n",
    "MAX_SEQUENCE_LENGTH=25\n",
    "\n",
    "embedding_layer = Embedding(len(word_index) + 1,\n",
    "                            output_dim=EMBEDDING_DIM,\n",
    "                            weights=[embedding_matrix],\n",
    "                            input_length=MAX_SEQUENCE_LENGTH,\n",
    "                            trainable=False)"
   ]
  },
  {
   "cell_type": "code",
   "execution_count": 199,
   "metadata": {},
   "outputs": [
    {
     "name": "stdout",
     "output_type": "stream",
     "text": [
      "(2000, 25, 25)\n",
      "(2001, 25, 25)\n"
     ]
    }
   ],
   "source": [
    "#result = embedding_layer(tf.constant([0, 5, 6, 10]))\n",
    "x_train = embedding_layer(x_train1)\n",
    "x_test = embedding_layer(x_test1)\n",
    "print(np.shape(x_train))\n",
    "print(np.shape(x_test))"
   ]
  },
  {
   "cell_type": "code",
   "execution_count": null,
   "metadata": {},
   "outputs": [],
   "source": []
  },
  {
   "cell_type": "code",
   "execution_count": 200,
   "metadata": {},
   "outputs": [],
   "source": [
    "#x_train=data_train[0:50000]\n",
    "#x_test=data_test[0:1000000]"
   ]
  },
  {
   "cell_type": "code",
   "execution_count": 201,
   "metadata": {},
   "outputs": [
    {
     "data": {
      "text/plain": [
       "(TensorShape([2000, 25, 25]), TensorShape([2001, 25, 25]))"
      ]
     },
     "execution_count": 201,
     "metadata": {},
     "output_type": "execute_result"
    }
   ],
   "source": [
    "np.shape(x_train), np.shape(x_test)"
   ]
  },
  {
   "cell_type": "code",
   "execution_count": 202,
   "metadata": {},
   "outputs": [],
   "source": [
    "'''\n",
    "min_val = np.min(x_train) \n",
    "max_val = np.max(x_train)\n",
    "max_val, min_val\n",
    "'''\n",
    "pass"
   ]
  },
  {
   "cell_type": "code",
   "execution_count": 203,
   "metadata": {},
   "outputs": [],
   "source": [
    "'''\n",
    "min_val = np.min(np.vstack((data_train,data_test))) \n",
    "max_val = np.max(np.vstack((data_train,data_test)))\n",
    "max_val, min_val\n",
    "'''\n",
    "pass"
   ]
  },
  {
   "cell_type": "code",
   "execution_count": 204,
   "metadata": {},
   "outputs": [],
   "source": [
    "'''\n",
    "# Normalising to  [-1,1]\n",
    "x_train = 2.*(x_train - np.min(x_train))/np.ptp(x_train)-1\n",
    "'''\n",
    "pass"
   ]
  },
  {
   "cell_type": "code",
   "execution_count": 205,
   "metadata": {},
   "outputs": [],
   "source": [
    "'''\n",
    "# Normalising to  [-1,1]\n",
    "x_train = 2.*(x_train - np.min(np.vstack((data_train,data_test))))/np.ptp(np.vstack((data_train,data_test)))-1\n",
    "x_test = 2.*(x_test - np.min(np.vstack((data_train,data_test))))/np.ptp(np.vstack((data_train,data_test)))-1\n",
    "'''\n",
    "pass"
   ]
  },
  {
   "cell_type": "code",
   "execution_count": 206,
   "metadata": {},
   "outputs": [
    {
     "data": {
      "text/plain": [
       "(4.6008, -6.3371)"
      ]
     },
     "execution_count": 206,
     "metadata": {},
     "output_type": "execute_result"
    }
   ],
   "source": [
    "min_valx = np.min(np.vstack((x_train,x_test))) \n",
    "max_valx = np.max(np.vstack((x_train,x_test)))\n",
    "max_valx,min_valx"
   ]
  },
  {
   "cell_type": "code",
   "execution_count": 207,
   "metadata": {},
   "outputs": [],
   "source": [
    "'''\n",
    "# Normalising to  [0,1]\n",
    "x_train = (x_train - min_valx) / (max_valx - min_valx)\n",
    "x_test = (x_test - min_valx) / (max_valx - min_valx)\n",
    "\n",
    "#x_train = tf.cast(x_train, tf.float32)\n",
    "#x_test = tf.cast(x_test, tf.float32)\n",
    "'''\n",
    "pass"
   ]
  },
  {
   "cell_type": "code",
   "execution_count": 208,
   "metadata": {},
   "outputs": [],
   "source": [
    "#zero_pad = (0-min_valx) / (max_valx - min_valx)\n",
    "#zero_pad= 2.*(0 - np.min(np.vstack((data_train,data_test))))/np.ptp(np.vstack((data_train,data_test)))-1\n",
    "#zero_pad"
   ]
  },
  {
   "cell_type": "code",
   "execution_count": 209,
   "metadata": {},
   "outputs": [],
   "source": [
    "#flatten_arr = np.ravel(arr_2d)"
   ]
  },
  {
   "cell_type": "code",
   "execution_count": 210,
   "metadata": {},
   "outputs": [],
   "source": [
    "#x_train[0]"
   ]
  },
  {
   "cell_type": "code",
   "execution_count": 211,
   "metadata": {},
   "outputs": [],
   "source": [
    "'''\n",
    "for i in range( len(x_train)):\n",
    "    for j in range(len(x_train[i])):\n",
    "        if np.all(np.isclose(x_train[i,j,:] , zero_pad)): # for integers: if np.all(a[1,:]==2)\n",
    "            x_train[i,j,:]=0\n",
    "'''            \n",
    "pass"
   ]
  },
  {
   "cell_type": "code",
   "execution_count": 212,
   "metadata": {},
   "outputs": [],
   "source": [
    "#x_train[0]"
   ]
  },
  {
   "cell_type": "code",
   "execution_count": 213,
   "metadata": {},
   "outputs": [],
   "source": [
    "'''\n",
    "for i in range( len(x_test)):\n",
    "    for j in range(len(x_test[i])):\n",
    "        if np.all(np.isclose(x_test[i,j,:] , zero_pad)): # for integers: if np.all(a[1,:]==2)\n",
    "            x_test[i,j,:]=0\n",
    "'''\n",
    "pass"
   ]
  },
  {
   "cell_type": "code",
   "execution_count": 214,
   "metadata": {},
   "outputs": [],
   "source": [
    "'''\n",
    "min_valx = np.min(x_train) \n",
    "max_valx = np.max(x_train)\n",
    "max_valx,min_valx\n",
    "'''\n",
    "pass"
   ]
  },
  {
   "cell_type": "code",
   "execution_count": 215,
   "metadata": {},
   "outputs": [
    {
     "data": {
      "text/plain": [
       "(4.6008, -6.3371)"
      ]
     },
     "execution_count": 215,
     "metadata": {},
     "output_type": "execute_result"
    }
   ],
   "source": [
    "\n",
    "min_valx = np.min(np.vstack((x_train,x_test))) \n",
    "max_valx = np.max(np.vstack((x_train,x_test)))\n",
    "max_valx,min_valx\n"
   ]
  },
  {
   "cell_type": "code",
   "execution_count": 216,
   "metadata": {},
   "outputs": [],
   "source": [
    "#np.argwhere(np.isnan(data_test))"
   ]
  },
  {
   "cell_type": "code",
   "execution_count": 217,
   "metadata": {},
   "outputs": [],
   "source": [
    "sequence_length=25\n",
    "num_filters=10\n",
    "embedding_dim=25 #768\n",
    "latent_dim=20\n",
    "dropout_rate=0.2"
   ]
  },
  {
   "cell_type": "code",
   "execution_count": null,
   "metadata": {},
   "outputs": [],
   "source": []
  },
  {
   "cell_type": "code",
   "execution_count": 133,
   "metadata": {},
   "outputs": [
    {
     "name": "stdout",
     "output_type": "stream",
     "text": [
      "input shape: (None, 25, 25)\n",
      "Model: \"CVAE\"\n",
      "_________________________________________________________________\n",
      "Layer (type)                 Output Shape              Param #   \n",
      "=================================================================\n",
      "input_10 (InputLayer)        [(None, 25, 25)]          0         \n",
      "_________________________________________________________________\n",
      "flatten_9 (Flatten)          (None, 625)               0         \n",
      "_________________________________________________________________\n",
      "dense_78 (Dense)             (None, 512)               320512    \n",
      "_________________________________________________________________\n",
      "dense_79 (Dense)             (None, 256)               131328    \n",
      "_________________________________________________________________\n",
      "dense_80 (Dense)             (None, 128)               32896     \n",
      "_________________________________________________________________\n",
      "dense_81 (Dense)             (None, 64)                8256      \n",
      "_________________________________________________________________\n",
      "dense_82 (Dense)             (None, 32)                2080      \n",
      "_________________________________________________________________\n",
      "dense_83 (Dense)             (None, 16)                528       \n",
      "_________________________________________________________________\n",
      "dense_84 (Dense)             (None, 8)                 136       \n",
      "_________________________________________________________________\n",
      "dense_85 (Dense)             (None, 16)                144       \n",
      "_________________________________________________________________\n",
      "dense_86 (Dense)             (None, 32)                544       \n",
      "_________________________________________________________________\n",
      "dense_87 (Dense)             (None, 64)                2112      \n",
      "_________________________________________________________________\n",
      "dense_88 (Dense)             (None, 128)               8320      \n",
      "_________________________________________________________________\n",
      "dense_89 (Dense)             (None, 256)               33024     \n",
      "_________________________________________________________________\n",
      "dense_90 (Dense)             (None, 512)               131584    \n",
      "_________________________________________________________________\n",
      "dense_91 (Dense)             (None, 625)               320625    \n",
      "_________________________________________________________________\n",
      "reshape_10 (Reshape)         (None, 25, 25)            0         \n",
      "=================================================================\n",
      "Total params: 992,089\n",
      "Trainable params: 992,089\n",
      "Non-trainable params: 0\n",
      "_________________________________________________________________\n"
     ]
    }
   ],
   "source": [
    "##encoder\n",
    "encoder_inputs = Input(shape=(sequence_length,embedding_dim,), dtype='float32') #encoder_inputs = Input(shape=(sequence_length,embedding_dim,), dtype='float32')\n",
    "print(\"input shape:\",np.shape(encoder_inputs))\n",
    "\n",
    "X = Flatten()(encoder_inputs)\n",
    "#print(np.shape(flatten_e1))\n",
    "\n",
    "X = Dense(units=512, activation='linear')(X) # 450\n",
    "\n",
    "X = Dense(units=256, activation='linear')(X) # 450\n",
    "\n",
    "\n",
    "X = Dense(units=128, activation='linear')(X) # 450\n",
    "#print(np.shape(dense_e1))\n",
    "\n",
    "\n",
    "\n",
    "X = Dense(units=64, activation='linear')(X) #150\n",
    "#print(np.shape(dense_e1))\n",
    "\n",
    "\n",
    "X = Dense(units=32, activation='linear')(X) #50 \n",
    "#print(np.shape(dense_e1))\n",
    "X = Dense(units=16, activation='linear')(X) #50 \n",
    "\n",
    "X = Dense(units=8, activation='linear')(X) #50 \n",
    "\n",
    "X = Dense(units=16, activation='linear')(X) #50 \n",
    "\n",
    "\n",
    "X = Dense(units=32, activation='linear')(X) #50 \n",
    "\n",
    "\n",
    "##without variational \n",
    "X = Dense(units=64, activation='linear')(X) # latent_dim *********************\n",
    "#print(np.shape(dense_e2))\n",
    "#output_encoder = dense_e2\n",
    "\n",
    "'''\n",
    "class Sampling(Layer):\n",
    "    \"\"\"Uses (z_mean, z_log_var) to sample z, the vector encoding a digit.\"\"\"\n",
    "\n",
    "    def call(self, inputs):\n",
    "        z_mean, z_log_var = inputs\n",
    "#        print('sampling shape:  ',np.shape(z_mean))\n",
    "        batch = tf.shape(z_mean)[0]\n",
    "        dim = tf.shape(z_mean)[1]\n",
    "        epsilon = tf.keras.backend.random_normal(shape=(batch, dim))\n",
    "        return z_mean + tf.exp(0.5 * z_log_var) * epsilon\n",
    "    \n",
    "z_mean = Dense(625, name=\"z_mean\")(X) #latent_dim\n",
    "z_log_var = Dense(625, name=\"z_log_var\")(X) #latent_dim\n",
    "z = Sampling()([z_mean, z_log_var])\n",
    "#print('z shape',np.shape(z))\n",
    "\n",
    "#encoder = Model(encoder_inputs, [z_mean, z_log_var, z], name=\"encoder\")\n",
    "#encoder.summary()\n",
    "\n",
    "##decoder\n",
    "#latent_inputs = Input(shape=(latent_dim,), dtype='float32')\n",
    "#print(np.shape(latent_inputs))\n",
    "#dense_d1 = Dense(units=200, activation='relu')(latent_inputs)\n",
    "\n",
    "#dense_d1 = Dense(units=30, activation='linear')(z)\n",
    "#print(np.shape(dense_d1))\n",
    "\n",
    "\n",
    "#X = Dense(units=50, activation='relu')(X)\n",
    "'''\n",
    "\n",
    "\n",
    "X = Dense(units=128, activation='linear')(X) #X = Dense(units=num_filters*5, activation='relu')(X) #50\n",
    "#print(np.shape(dense_d2))\n",
    "\n",
    "\n",
    "X = Dense(units=256, activation='linear')(X) # 150\n",
    "#print(np.shape(dense_d3))\n",
    "\n",
    "#X = Dropout(dropout_rate)(X)\n",
    "#print(np.shape(dropout_d3))\n",
    "\n",
    "X = Dense(units=512, activation='linear')(X) #450\n",
    "#print(np.shape(dense_d4))\n",
    "\n",
    "#X = Dropout(dropout_rate)(X)\n",
    "#print(np.shape(dropout_d4))\n",
    "\n",
    "X = Dense(units=embedding_dim*sequence_length, activation='linear')(X)\n",
    "#print(np.shape(dense_d5))\n",
    "\n",
    "decoder_outputs = Reshape((sequence_length, embedding_dim))(X)\n",
    "#print('output shape:', np.shape(decoder_outputs))\n",
    "\n",
    "\n",
    "\n",
    "autoencoder = keras.Model(encoder_inputs, decoder_outputs, name=\"CVAE\")\n",
    "autoencoder.summary()\n",
    "\n",
    "#outputs = decoder(encoder(encoder_inputs)[2])\n",
    "#cvae = keras.Model(encoder_inputs, outputs, name='CVAE')"
   ]
  },
  {
   "cell_type": "code",
   "execution_count": null,
   "metadata": {},
   "outputs": [],
   "source": []
  },
  {
   "cell_type": "code",
   "execution_count": null,
   "metadata": {},
   "outputs": [],
   "source": []
  },
  {
   "cell_type": "code",
   "execution_count": 261,
   "metadata": {},
   "outputs": [
    {
     "name": "stdout",
     "output_type": "stream",
     "text": [
      "input shape: (None, 25, 25)\n",
      "(None, 25, 25, 1)\n",
      "Model: \"CVAE\"\n",
      "__________________________________________________________________________________________________\n",
      "Layer (type)                    Output Shape         Param #     Connected to                     \n",
      "==================================================================================================\n",
      "input_8 (InputLayer)            [(None, 25, 25)]     0                                            \n",
      "__________________________________________________________________________________________________\n",
      "reshape_14 (Reshape)            (None, 25, 25, 1)    0           input_8[0][0]                    \n",
      "__________________________________________________________________________________________________\n",
      "conv2d_35 (Conv2D)              (None, 25, 1, 10)    260         reshape_14[0][0]                 \n",
      "__________________________________________________________________________________________________\n",
      "conv2d_36 (Conv2D)              (None, 24, 1, 10)    510         reshape_14[0][0]                 \n",
      "__________________________________________________________________________________________________\n",
      "conv2d_37 (Conv2D)              (None, 23, 1, 10)    760         reshape_14[0][0]                 \n",
      "__________________________________________________________________________________________________\n",
      "conv2d_38 (Conv2D)              (None, 22, 1, 10)    1010        reshape_14[0][0]                 \n",
      "__________________________________________________________________________________________________\n",
      "conv2d_39 (Conv2D)              (None, 21, 1, 10)    1260        reshape_14[0][0]                 \n",
      "__________________________________________________________________________________________________\n",
      "max_pooling2d_35 (MaxPooling2D) (None, 1, 1, 10)     0           conv2d_35[0][0]                  \n",
      "__________________________________________________________________________________________________\n",
      "max_pooling2d_36 (MaxPooling2D) (None, 1, 1, 10)     0           conv2d_36[0][0]                  \n",
      "__________________________________________________________________________________________________\n",
      "max_pooling2d_37 (MaxPooling2D) (None, 1, 1, 10)     0           conv2d_37[0][0]                  \n",
      "__________________________________________________________________________________________________\n",
      "max_pooling2d_38 (MaxPooling2D) (None, 1, 1, 10)     0           conv2d_38[0][0]                  \n",
      "__________________________________________________________________________________________________\n",
      "max_pooling2d_39 (MaxPooling2D) (None, 1, 1, 10)     0           conv2d_39[0][0]                  \n",
      "__________________________________________________________________________________________________\n",
      "concatenate_7 (Concatenate)     (None, 1, 1, 50)     0           max_pooling2d_35[0][0]           \n",
      "                                                                 max_pooling2d_36[0][0]           \n",
      "                                                                 max_pooling2d_37[0][0]           \n",
      "                                                                 max_pooling2d_38[0][0]           \n",
      "                                                                 max_pooling2d_39[0][0]           \n",
      "__________________________________________________________________________________________________\n",
      "flatten_7 (Flatten)             (None, 50)           0           concatenate_7[0][0]              \n",
      "__________________________________________________________________________________________________\n",
      "dense_38 (Dense)                (None, 20)           1020        flatten_7[0][0]                  \n",
      "__________________________________________________________________________________________________\n",
      "z_mean (Dense)                  (None, 20)           420         dense_38[0][0]                   \n",
      "__________________________________________________________________________________________________\n",
      "z_log_var (Dense)               (None, 20)           420         dense_38[0][0]                   \n",
      "__________________________________________________________________________________________________\n",
      "sampling_3 (Sampling)           (None, 20)           0           z_mean[0][0]                     \n",
      "                                                                 z_log_var[0][0]                  \n",
      "__________________________________________________________________________________________________\n",
      "dense_39 (Dense)                (None, 50)           1050        sampling_3[0][0]                 \n",
      "__________________________________________________________________________________________________\n",
      "dense_40 (Dense)                (None, 150)          7650        dense_39[0][0]                   \n",
      "__________________________________________________________________________________________________\n",
      "dense_41 (Dense)                (None, 450)          67950       dense_40[0][0]                   \n",
      "__________________________________________________________________________________________________\n",
      "dense_42 (Dense)                (None, 625)          281875      dense_41[0][0]                   \n",
      "__________________________________________________________________________________________________\n",
      "reshape_15 (Reshape)            (None, 25, 25)       0           dense_42[0][0]                   \n",
      "==================================================================================================\n",
      "Total params: 364,185\n",
      "Trainable params: 364,185\n",
      "Non-trainable params: 0\n",
      "__________________________________________________________________________________________________\n"
     ]
    }
   ],
   "source": [
    "##encoder\n",
    "encoder_inputs = Input(shape=(sequence_length,embedding_dim,), dtype='float32') #encoder_inputs = Input(shape=(sequence_length,embedding_dim,), dtype='float32')\n",
    "print(\"input shape:\",np.shape(encoder_inputs))\n",
    "\n",
    "#embedded_sequences = embedding_layer(encoder_inputs)\n",
    "#print(np.shape(embedded_sequences))\n",
    "\n",
    "#usually embedding is without Input layer\n",
    "#embedding_layer = Embedding(input_dim=20000, output_dim=embedding_dim, input_length=sequence_length, weights=[encoder_inputs])(encoder_inputs)\n",
    "\n",
    "inputs_reshaped = Reshape((sequence_length, embedding_dim, 1))(encoder_inputs)\n",
    "print(np.shape(inputs_reshaped))\n",
    "\n",
    "conv_1 = Conv2D(num_filters, kernel_size=(1, embedding_dim), activation='linear', kernel_regularizer=regularizers.l2(3))(inputs_reshaped)\n",
    "#conv_1 = LeakyReLU(alpha=0.3)(conv_1) #without activation at Conv2D\n",
    "#conv_1 = BatchNormalization()(conv_1)\n",
    "\n",
    "conv_2 = Conv2D(num_filters, kernel_size=(2, embedding_dim), activation='linear', kernel_regularizer=regularizers.l2(3))(inputs_reshaped)\n",
    "#conv_2 = LeakyReLU(alpha=0.3)(conv_2)\n",
    "#conv_2 = BatchNormalization()(conv_2)\n",
    "\n",
    "conv_3 = Conv2D(num_filters, kernel_size=(3, embedding_dim), activation='linear', kernel_regularizer=regularizers.l2(3))(inputs_reshaped)\n",
    "#conv_3 = LeakyReLU(alpha=0.3)(conv_3)\n",
    "#conv_3 = BatchNormalization()(conv_3)\n",
    "\n",
    "conv_4 = Conv2D(num_filters, kernel_size=(4, embedding_dim), activation='linear', kernel_regularizer=regularizers.l2(3))(inputs_reshaped)\n",
    "#conv_4 = LeakyReLU(alpha=0.3)(conv_4)\n",
    "#conv_4 = BatchNormalization()(conv_4)\n",
    "\n",
    "conv_5 = Conv2D(num_filters, kernel_size=(5, embedding_dim), activation='linear', kernel_regularizer=regularizers.l2(3))(inputs_reshaped)\n",
    "#conv_5 = LeakyReLU(alpha=0.3)(conv_5)\n",
    "#conv_5 = BatchNormalization()(conv_5)\n",
    "\n",
    "'''\n",
    "conv_6 = Conv2D(num_filters, kernel_size=(6, embedding_dim), activation='relu', kernel_regularizer=regularizers.l2(3))(inputs_reshaped)\n",
    "conv_6 = BatchNormalization()(conv_6)\n",
    "conv_7 = Conv2D(num_filters, kernel_size=(7, embedding_dim), activation='relu', kernel_regularizer=regularizers.l2(3))(inputs_reshaped)\n",
    "conv_7 = BatchNormalization()(conv_7)\n",
    "conv_8 = Conv2D(num_filters, kernel_size=(8, embedding_dim), activation='relu', kernel_regularizer=regularizers.l2(3))(inputs_reshaped)\n",
    "conv_8 = BatchNormalization()(conv_8)\n",
    "'''\n",
    "\n",
    "#print(np.shape(conv_1))\n",
    "#print(np.shape(conv_2))\n",
    "#print(np.shape(conv_3))\n",
    "#print(np.shape(conv_4))\n",
    "#print(np.shape(conv_5))\n",
    "\n",
    "maxpool_1 = MaxPool2D(pool_size=(sequence_length - 1 + 1, 1), strides=(1,1))(conv_1) #maybe 1D\n",
    "maxpool_2 = MaxPool2D(pool_size=(sequence_length - 2 + 1, 1), strides=(1,1))(conv_2)\n",
    "maxpool_3 = MaxPool2D(pool_size=(sequence_length - 3 + 1, 1), strides=(1,1))(conv_3)\n",
    "maxpool_4 = MaxPool2D(pool_size=(sequence_length - 4 + 1, 1), strides=(1,1))(conv_4)\n",
    "maxpool_5 = MaxPool2D(pool_size=(sequence_length - 5 + 1, 1), strides=(1,1))(conv_5)\n",
    "\n",
    "'''\n",
    "maxpool_6 = MaxPool2D(pool_size=(sequence_length - 6 + 1, 1), strides=(1,1), padding='valid')(conv_6)\n",
    "maxpool_7 = MaxPool2D(pool_size=(sequence_length - 7 + 1, 1), strides=(1,1), padding='valid')(conv_7)\n",
    "maxpool_8 = MaxPool2D(pool_size=(sequence_length - 8 + 1, 1), strides=(1,1), padding='valid')(conv_8)\n",
    "'''\n",
    "                                                                                              \n",
    "#print(np.shape(maxpool_1))\n",
    "#print(np.shape(maxpool_2))\n",
    "#print(np.shape(maxpool_3))\n",
    "#print(np.shape(maxpool_4))\n",
    "#print(np.shape(maxpool_5))\n",
    "\n",
    "concatenated_e1 = Concatenate(axis=3)([maxpool_1, maxpool_2, maxpool_3, maxpool_4, maxpool_5])\n",
    "#print('concatenated_1 shape:', np.shape(concatenated_e1))\n",
    "\n",
    "#flatten_e1 = Flatten()(concatenated_e1)\n",
    "#print(np.shape(flatten_e1))\n",
    "\n",
    "\n",
    "X = Flatten()(concatenated_e1)\n",
    "#print(np.shape(flatten_e1))\n",
    "\n",
    "#X = Dense(units=450, activation='linear')(X) # 450\n",
    "#print(np.shape(dense_e1))\n",
    "\n",
    "#X = Dropout(dropout_rate)(X)\n",
    "#print(np.shape(dropout_e2))\n",
    "\n",
    "\n",
    "#X = Dense(units=150, activation='linear')(X) #150\n",
    "#print(np.shape(dense_e1))\n",
    "\n",
    "#X = Dropout(dropout_rate)(X)\n",
    "#print(np.shape(dropout_e2))\n",
    "\n",
    "#dropout_e1 = Dropout(dropout_rate)(flatten_e1)\n",
    "#print(np.shape(dropout_e1))\n",
    "\n",
    "#X = Dense(units=50, activation='linear')(X) #50 \n",
    "#print(np.shape(dense_e1))\n",
    "\n",
    "#X = Dropout(dropout_rate)(X)\n",
    "#print(np.shape(dropout_e2))\n",
    "\n",
    "##without variational \n",
    "X = Dense(units=latent_dim, activation='linear')(X) # latent_dim\n",
    "#print(np.shape(dense_e2))\n",
    "#output_encoder = dense_e2\n",
    "\n",
    "\n",
    "class Sampling(Layer):\n",
    "    \"\"\"Uses (z_mean, z_log_var) to sample z, the vector encoding a digit.\"\"\"\n",
    "\n",
    "    def call(self, inputs):\n",
    "        z_mean, z_log_var = inputs\n",
    "#        print('sampling shape:  ',np.shape(z_mean))\n",
    "        batch = tf.shape(z_mean)[0]\n",
    "        dim = tf.shape(z_mean)[1]\n",
    "        epsilon = tf.keras.backend.random_normal(shape=(batch, dim))\n",
    "        return z_mean + tf.exp(0.5 * z_log_var) * epsilon\n",
    "    \n",
    "z_mean = Dense(latent_dim, name=\"z_mean\")(X)\n",
    "z_log_var = Dense(latent_dim, name=\"z_log_var\")(X)\n",
    "z = Sampling()([z_mean, z_log_var])\n",
    "#print('z shape',np.shape(z))\n",
    "\n",
    "#encoder = Model(encoder_inputs, [z_mean, z_log_var, z], name=\"encoder\")\n",
    "#encoder.summary()\n",
    "\n",
    "##decoder\n",
    "#latent_inputs = Input(shape=(latent_dim,), dtype='float32')\n",
    "#print(np.shape(latent_inputs))\n",
    "#dense_d1 = Dense(units=200, activation='relu')(latent_inputs)\n",
    "\n",
    "#dense_d1 = Dense(units=30, activation='linear')(z)\n",
    "#print(np.shape(dense_d1))\n",
    "\n",
    "\n",
    "X = Dense(units=50, activation='linear')(z)\n",
    "\n",
    "#X = Dropout(dropout_rate)(X)\n",
    "#print(np.shape(dropout_d1))\n",
    "\n",
    "#X = Dense(units=50, activation='linear')(X) #X = Dense(units=num_filters*5, activation='relu')(X) #50\n",
    "#print(np.shape(dense_d2))\n",
    "\n",
    "#X = Dropout(dropout_rate)(X)\n",
    "#print(np.shape(dropout_d2))\n",
    "\n",
    "###################################### method 1\n",
    "X = Dense(units=150, activation='linear')(X) # 150\n",
    "#print(np.shape(dense_d3))\n",
    "\n",
    "#X = Dropout(dropout_rate)(X)\n",
    "#print(np.shape(dropout_d3))\n",
    "\n",
    "X = Dense(units=450, activation='linear')(X) #450\n",
    "#print(np.shape(dense_d4))\n",
    "\n",
    "#X = Dropout(dropout_rate)(X)\n",
    "#print(np.shape(dropout_d4))\n",
    "\n",
    "X = Dense(units=embedding_dim*sequence_length, activation='linear')(X)\n",
    "#print(np.shape(dense_d5))\n",
    "\n",
    "decoder_outputs = Reshape((sequence_length, embedding_dim))(X)\n",
    "#print('output shape:', np.shape(decoder_outputs))\n",
    "\n",
    "'''\n",
    "\n",
    "################################# method 2\n",
    "reshape_d2 = Reshape((5, 1, num_filters))(dropout_d2)\n",
    "#print(np.shape(reshape_d2))\n",
    "\n",
    "tensor_d3_1 = reshape_d2[:,0]\n",
    "tensor_d3_1 = Reshape((1, 1, num_filters))(tensor_d3_1)\n",
    "#print(np.shape(tensor_d3_1))\n",
    "\n",
    "tensor_d3_2 = reshape_d2[:,1]\n",
    "tensor_d3_2 = Reshape((1, 1, num_filters))(tensor_d3_2)\n",
    "#print(np.shape(tensor_d3_2))\n",
    "\n",
    "tensor_d3_3 = reshape_d2[:,2]\n",
    "tensor_d3_3 = Reshape((1, 1, num_filters))(tensor_d3_3)\n",
    "#print(np.shape(tensor_d3_3))\n",
    "\n",
    "tensor_d3_4 = reshape_d2[:,3]\n",
    "tensor_d3_4 = Reshape((1, 1, num_filters))(tensor_d3_4)\n",
    "#print(np.shape(tensor_d3_4))\n",
    "\n",
    "tensor_d3_5 = reshape_d2[:,4]\n",
    "tensor_d3_5 = Reshape((1, 1, num_filters))(tensor_d3_5)\n",
    "#print(np.shape(tensor_d3_5))\n",
    "\n",
    "#tensor_d3_6 = reshape_d2[:,5]\n",
    "#tensor_d3_6 = Reshape((1, 1, num_filters))(tensor_d3_6)\n",
    "#tensor_d3_7 = reshape_d2[:,6]\n",
    "#tensor_d3_7 = Reshape((1, 1, num_filters))(tensor_d3_7)\n",
    "#tensor_d3_8 = reshape_d2[:,7]\n",
    "#tensor_d3_8 = Reshape((1, 1, num_filters))(tensor_d3_8)\n",
    "\n",
    "tensor_d4_1 = Conv2DTranspose(num_filters, (sequence_length -1 +1,1), activation='relu', strides=(1,1))(tensor_d3_1)\n",
    "#tensor_d4_1 = UpSampling2D((sequence_length -1 +1 ,1))(tensor_d3_1)\n",
    "#print(np.shape(tensor_d4_1))\n",
    "\n",
    "tensor_d4_2 = Conv2DTranspose(num_filters, (sequence_length -2 +1,1), activation='relu', strides=(1,1))(tensor_d3_2)\n",
    "#tensor_d4_2 = UpSampling2D((sequence_length -2 +1 ,1))(tensor_d3_2)\n",
    "#print(np.shape(tensor_d4_2))\n",
    "\n",
    "tensor_d4_3 = Conv2DTranspose(num_filters, (sequence_length -3 +1,1), activation='relu', strides=(1,1))(tensor_d3_3)\n",
    "#tensor_d4_3 = UpSampling2D((sequence_length -3 +1 ,1))(tensor_d3_3)\n",
    "#print(np.shape(tensor_d4_3))\n",
    "\n",
    "tensor_d4_4 = Conv2DTranspose(num_filters, (sequence_length -4 +1,1),  activation='relu', strides=(1,1))(tensor_d3_4)\n",
    "#tensor_d4_4 = UpSampling2D((sequence_length -4 +1 ,1))(tensor_d3_4)\n",
    "#print(np.shape(tensor_d4_4))\n",
    "\n",
    "tensor_d4_5 = Conv2DTranspose(num_filters, (sequence_length -5 +1,1), activation='relu', strides=(1,1))(tensor_d3_5)\n",
    "#tensor_d4_5 = UpSampling2D((sequence_length -5 +1 ,1))(tensor_d3_5)\n",
    "#print(np.shape(tensor_d4_5))\n",
    "\n",
    "#tensor_d4_6 = Conv2DTranspose(num_filters, (sequence_length -6 +1,1), strides=(1,1))(tensor_d3_6)\n",
    "#tensor_d4_6 = UpSampling2D((sequence_length -6 +1 ,1))(tensor_d3_6)\n",
    "#tensor_d4_7 = Conv2DTranspose(num_filters, (sequence_length -7 +1,1), strides=(1,1))(tensor_d3_7)\n",
    "#tensor_d4_7 = UpSampling2D((sequence_length -7 +1 ,1))(tensor_d3_7)\n",
    "#tensor_d4_8 = Conv2DTranspose(num_filters, (sequence_length -8 +1,1), strides=(1,1))(tensor_d3_8)\n",
    "#tensor_d4_8 = UpSampling2D((sequence_length -8 +1 ,1))(tensor_d3_8)\n",
    "\n",
    "tensor_d5_1 = Conv2DTranspose(num_filters, (1,embedding_dim), activation='relu', strides=(1,1))(tensor_d4_1)\n",
    "#print(np.shape(tensor_d5_1))\n",
    "\n",
    "tensor_d5_2 = Conv2DTranspose(num_filters, (2,embedding_dim), activation='relu', strides=(1,1))(tensor_d4_2)\n",
    "#print(np.shape(tensor_d5_2))\n",
    "\n",
    "tensor_d5_3 = Conv2DTranspose(num_filters, (3,embedding_dim), activation='relu', strides=(1,1))(tensor_d4_3)\n",
    "#print(np.shape(tensor_d5_3))\n",
    "\n",
    "tensor_d5_4 = Conv2DTranspose(num_filters, (4,embedding_dim), activation='relu', strides=(1,1))(tensor_d4_4)\n",
    "#print(np.shape(tensor_d5_4))\n",
    "\n",
    "tensor_d5_5 = Conv2DTranspose(num_filters, (5,embedding_dim), activation='relu', strides=(1,1))(tensor_d4_5)\n",
    "#print(np.shape(tensor_d5_5))\n",
    "\n",
    "#tensor_d5_6 = Conv2DTranspose(num_filters, (6,embedding_dim), strides=(1,1))(tensor_d4_6)\n",
    "#tensor_d5_7 = Conv2DTranspose(num_filters, (7,embedding_dim), strides=(1,1))(tensor_d4_7)\n",
    "#tensor_d5_8 = Conv2DTranspose(num_filters, (8,embedding_dim), strides=(1,1))(tensor_d4_8)\n",
    "\n",
    "concatenated_tensor_d5 = Concatenate(axis=3)([tensor_d5_1, tensor_d5_2, tensor_d5_3, tensor_d5_4, tensor_d5_5])\n",
    "#print(np.shape(concatenated_tensor_d5))\n",
    "\n",
    "output=Conv2D(1, (1, 1), activation='linear')(concatenated_tensor_d5)\n",
    "#print(np.shape(output))\n",
    "\n",
    "decoder_outputs = Reshape((sequence_length, embedding_dim))(output)\n",
    "print('outputshape:', np.shape(decoder_outputs))\n",
    "'''\n",
    "\n",
    "autoencoder = keras.Model(encoder_inputs, decoder_outputs, name=\"CVAE\")\n",
    "autoencoder.summary()\n",
    "\n",
    "#outputs = decoder(encoder(encoder_inputs)[2])\n",
    "#cvae = keras.Model(encoder_inputs, outputs, name='CVAE')"
   ]
  },
  {
   "cell_type": "code",
   "execution_count": null,
   "metadata": {},
   "outputs": [],
   "source": []
  },
  {
   "cell_type": "code",
   "execution_count": 280,
   "metadata": {},
   "outputs": [],
   "source": [
    "#encoder_inputs_reshaped=np.reshape(encoder_inputs, (encoder_inputs.shape[0]),-1)\n",
    "#decoder_outputs_reshaped=np.reshape(decoder_outputs, (decoder_outputs_.shape[0]),-1)\n",
    "#print(np.shape(decoder_outputs_reshaped))\n",
    "#reconstruction_loss = tf.keras.losses.mse(encoder_inputs_reshaped, decoder_outputs_reshaped) # tf.keras.losses.binary_crossentropy\n",
    "#print(np.shape(reconstruction_loss))\n",
    "\n",
    "##without reshape\n",
    "##reconstruction_loss = K.mean(tf.keras.losses.binary_crossentropy(encoder_inputs, decoder_outputs),axis=-1) \n",
    "#reconstruction_loss= customLoss(encoder_inputs, decoder_outputs)\n",
    "##############reconstruction_loss = K.mean(tf.keras.losses.mse(encoder_inputs, decoder_outputs),axis=-1) \n",
    "\n",
    "reconstruction_loss = K.mean(tf.keras.losses.mse(encoder_inputs, decoder_outputs),axis=-1) \n",
    "# cosine_similarity (bad), squared_hinge (very bad), sparse_categorical_crossentropy (not working),\n",
    "# poisson (loss:nan), KLD (very bad),\n",
    "# msle (good for 5 epochs / not good for 8), mse (good medium for 5/10 epochs), mean_absolute_error (very good for 5 epochs), \n",
    "# mape (good for 5 epochs), logcosh (good for 5 epochs),   huber (good for 5 epochs),\n",
    "#  hinge (very bad), categorical_hinge (very bad), categorical_crossentropy (very bad), binary_crossentropy (very bad),\n",
    "# for binary cross value the input should be between [0,1]\n",
    "\n",
    "#print(np.shape(reconstruction_loss))\n",
    "\n",
    "kl_loss = 1 + z_log_var - K.square(z_mean) - K.exp(z_log_var)\n",
    "kl_loss = K.sum(kl_loss, axis=-1)\n",
    "kl_loss *= -0.5\n",
    "#print(np.shape(kl_loss))\n",
    "\n",
    "cvae_loss = K.mean(reconstruction_loss + kl_loss)\n",
    "#cvae_loss = K.mean(reconstruction_loss )\n",
    "#print(np.shape(cvae_loss))\n",
    "autoencoder.add_loss(cvae_loss)\n",
    "\n",
    "#lr_schedule = keras.optimizers.schedules.ExponentialDecay(initial_learning_rate=1e-3, decay_steps=10000, dcay_rate=0.9)\n",
    "#optim = keras.optimizers.Adam(learning_rate=lr_schedule)\n",
    "optim = keras.optimizers.Adam(learning_rate=1e-3) #(learning_rate=0.001)\n",
    "#optim = tf.keras.optimizers.Adam(learning_rate=0.001,beta_1=0.9, beta_2=0.999, epsilon=1e-07, amsgrad=False, name=\"Adam\")\n",
    "\n",
    "autoencoder.compile(optimizer=optim , loss= tf.keras.losses.MeanSquaredError())\n",
    "#autoencoder.compile(optimizer=optim )"
   ]
  },
  {
   "cell_type": "code",
   "execution_count": null,
   "metadata": {},
   "outputs": [],
   "source": []
  },
  {
   "cell_type": "code",
   "execution_count": null,
   "metadata": {},
   "outputs": [],
   "source": [
    "\n",
    "##type 2\n",
    "sequence_length=25\n",
    "embedding_dim=25\n",
    "##encoder\n",
    "encoder_inputs1 = Input(shape=(sequence_length,embedding_dim,), dtype='float32')\n",
    "print(np.shape(encoder_inputs1))\n",
    "\n",
    "x = Reshape((sequence_length, embedding_dim, 1))(encoder_inputs1)\n",
    "\n",
    "x = Conv2D(8, (3,3), activation='relu', padding='same')(x)\n",
    "print(np.shape(x))\n",
    "\n",
    "x = MaxPooling2D((2, 2), padding='same')(x)\n",
    "print(np.shape(x))\n",
    "\n",
    "x = Conv2D(8, (3,3), activation='relu', padding='same')(x)\n",
    "print(np.shape(x))\n",
    "\n",
    "x = MaxPooling2D((2, 2), padding='same')(x)\n",
    "print(np.shape(x))\n",
    "\n",
    "x = Conv2D(8, (3, 3), activation='relu', padding='same')(x)\n",
    "print(np.shape(x))\n",
    "\n",
    "x = MaxPooling2D((2, 2), padding='same')(x) \n",
    "print(np.shape(x))\n",
    "\n",
    "x = Flatten()(x)\n",
    "print(np.shape(x))\n",
    "#x = Dense(1764, activation=\"relu\")(x)\n",
    "\n",
    "'''\n",
    "class Sampling1(Layer):\n",
    "    \"\"\"Uses (z_mean, z_log_var) to sample z, the vector encoding a digit.\"\"\"\n",
    "\n",
    "    def call(self, inputs):\n",
    "        z_mean, z_log_var = inputs\n",
    "        batch = tf.shape(z_mean)[0]\n",
    "        dim = tf.shape(z_mean)[1]\n",
    "        epsilon = tf.keras.backend.random_normal(shape=(batch, dim))\n",
    "        return z_mean + tf.exp(0.5 * z_log_var) * epsilon\n",
    "    \n",
    "z_mean = Dense(latent_dim, name=\"z_mean\")(x)\n",
    "z_log_var = Dense(latent_dim, name=\"z_log_var\")(x)\n",
    "z = Sampling1()([z_mean, z_log_var])  #encoded data\n",
    "'''\n",
    "\n",
    "##decoder\n",
    "x = Dense(10, activation=\"relu\")(x)\n",
    "print(np.shape(x))\n",
    "\n",
    "x = Dense(128, activation=\"relu\")(x)\n",
    "print(np.shape(x))\n",
    "\n",
    "x = Reshape((4, 4, 8))(x)\n",
    "print(np.shape(x))\n",
    "\n",
    "x = Conv2DTranspose(8, (4, 4), activation='linear', padding='valid')(x)\n",
    "print(np.shape(x))\n",
    "\n",
    "x = UpSampling2D((2, 2))(x)\n",
    "print(np.shape(x))\n",
    "print('**********')\n",
    "\n",
    "#x = Conv2DTranspose(8, (7, 7), activation='relu', padding='valid')(x)\n",
    "#print(np.shape(x))\n",
    "\n",
    "#x = UpSampling2D((2, 2))(x)\n",
    "#print(np.shape(x))\n",
    "\n",
    "x = Conv2D(8, (2, 2), activation='linear', padding='valid')(x)\n",
    "print(np.shape(x))\n",
    "\n",
    "x = UpSampling2D((2, 2))(x)\n",
    "print(np.shape(x))\n",
    "\n",
    "x = Conv2D(8, (2, 2), activation='linear', padding='valid')(x)\n",
    "print(np.shape(x))\n",
    "\n",
    "decoded = Conv2D(1, (2, 2), activation='linear', padding='same')(x)\n",
    "print(np.shape(decoded))\n",
    "\n",
    "decoder_outputs1 = Reshape((sequence_length, embedding_dim))(decoded)\n",
    "print(np.shape(decoder_outputs1))\n",
    "\n",
    "\n",
    "autoencoder = keras.Model(encoder_inputs1, decoder_outputs1)\n",
    "autoencoder.compile(optimizer='adam', loss='MeanSquaredError')\n",
    "autoencoder.summary()\n"
   ]
  },
  {
   "cell_type": "code",
   "execution_count": null,
   "metadata": {},
   "outputs": [],
   "source": [
    "'''\n",
    "##type 2\n",
    "sequence_length=16 # or 24 or 32 or 64 \n",
    "##encoder\n",
    "encoder_inputs1 = Input(shape=(sequence_length,embedding_dim,), dtype='float32')\n",
    "\n",
    "x = Reshape((sequence_length, embedding_dim, 1))(encoder_inputs1)\n",
    "\n",
    "x = Conv2D(16, (4,4), activation='relu', padding='same')(x)\n",
    "x = MaxPooling2D((2, 4), padding='same')(x)\n",
    "x = Conv2D(8, (4,4), activation='relu', padding='same')(x)\n",
    "x = MaxPooling2D((2, 4), padding='same')(x)\n",
    "x = Conv2D(8, (2, 2), activation='relu', padding='same')(x)\n",
    "x = MaxPooling2D((2, 4), padding='same')(x) \n",
    "\n",
    "x = Flatten()(x)\n",
    "print(np.shape(x))\n",
    "#x = Dense(1764, activation=\"relu\")(x)\n",
    "\n",
    "class Sampling1(Layer):\n",
    "    \"\"\"Uses (z_mean, z_log_var) to sample z, the vector encoding a digit.\"\"\"\n",
    "\n",
    "    def call(self, inputs):\n",
    "        z_mean, z_log_var = inputs\n",
    "        batch = tf.shape(z_mean)[0]\n",
    "        dim = tf.shape(z_mean)[1]\n",
    "        epsilon = tf.keras.backend.random_normal(shape=(batch, dim))\n",
    "        return z_mean + tf.exp(0.5 * z_log_var) * epsilon\n",
    "    \n",
    "z_mean = Dense(latent_dim, name=\"z_mean\")(x)\n",
    "z_log_var = Dense(latent_dim, name=\"z_log_var\")(x)\n",
    "z = Sampling1()([z_mean, z_log_var])  #encoded data\n",
    "\n",
    "##decoder\n",
    "x = Dense(192, activation=\"relu\")(z)\n",
    "x = Reshape((2, 12, 8))(x)\n",
    "\n",
    "x = Conv2DTranspose(8, (4, 4), activation='relu', padding='same')(x)\n",
    "x = UpSampling2D((2, 4))(x)\n",
    "x = Conv2DTranspose(8, (4, 4), activation='relu', padding='same')(x)\n",
    "x = UpSampling2D((2, 4))(x)\n",
    "x = Conv2DTranspose(16, (4, 4), activation='relu', padding='same')(x)\n",
    "x = UpSampling2D((2, 4))(x)\n",
    "decoded = Conv2D(1, (4, 4), activation='sigmoid', padding='same')(x)\n",
    "decoder_outputs1 = Reshape((sequence_length, embedding_dim))(decoded)\n",
    "\n",
    "autoencoder1 = keras.Model(encoder_inputs1, decoder_outputs1)\n",
    "#autoencoder1.compile(optimizer='adam', loss='binary_crossentropy')\n",
    "#autoencoder1.summary()\n",
    "\n",
    "#encoder_inputs_reshaped=np.reshape(encoder_inputs, (encoder_inputs.shape[0]),-1)\n",
    "#decoder_outputs_reshaped=np.reshape(decoder_outputs, (decoder_outputs_.shape[0]),-1)\n",
    "#print(np.shape(decoder_outputs_reshaped))\n",
    "#reconstruction_loss = tf.keras.losses.mse(encoder_inputs_reshaped, decoder_outputs_reshaped) # tf.keras.losses.binary_crossentropy\n",
    "#print(np.shape(reconstruction_loss))\n",
    "\n",
    "##without reshape\n",
    "##reconstruction_loss = K.mean(tf.keras.losses.binary_crossentropy(encoder_inputs, decoder_outputs),axis=-1) \n",
    "reconstruction_loss1 = K.mean(tf.keras.losses.mse(encoder_inputs1, decoder_outputs1),axis=-1) \n",
    "#print(np.shape(reconstruction_loss1))\n",
    "\n",
    "kl_loss1 = 1 + z_log_var - K.square(z_mean) - K.exp(z_log_var)\n",
    "kl_loss1 = K.sum(kl_loss1, axis=-1)\n",
    "kl_loss1 *= -0.5\n",
    "#print(np.shape(kl_loss1))\n",
    "\n",
    "cvae_loss1 = K.mean(reconstruction_loss1 + kl_loss1)\n",
    "#print(np.shape(cvae_loss1))\n",
    "autoencoder1.add_loss(cvae_loss1)\n",
    "\n",
    "optim = keras.optimizers.Adam(learning_rate=0.0001)\n",
    "autoencoder1.compile(optimizer=optim)\n",
    "'''\n",
    "pass"
   ]
  },
  {
   "cell_type": "code",
   "execution_count": 114,
   "metadata": {},
   "outputs": [],
   "source": [
    "#x_train, x_test, validation_train, validation_test = train_test_split(x, y, test_size=0.25, random_state=42)"
   ]
  },
  {
   "cell_type": "code",
   "execution_count": 263,
   "metadata": {},
   "outputs": [
    {
     "name": "stdout",
     "output_type": "stream",
     "text": [
      "(2000, 25, 25)\n",
      "Epoch 1/100\n",
      "12/12 [==============================] - 1s 39ms/step - loss: 30.3282 - val_loss: 20.8669\n",
      "INFO:tensorflow:Assets written to: ./glove_results\\autoencoder\\assets\n",
      "Epoch 2/100\n",
      "12/12 [==============================] - 1s 65ms/step - loss: 18.8877 - val_loss: 13.8989\n",
      "INFO:tensorflow:Assets written to: ./glove_results\\autoencoder\\assets\n",
      "Epoch 3/100\n",
      "12/12 [==============================] - 0s 22ms/step - loss: 12.5186 - val_loss: 9.2776\n",
      "INFO:tensorflow:Assets written to: ./glove_results\\autoencoder\\assets\n",
      "Epoch 4/100\n",
      "12/12 [==============================] - 0s 22ms/step - loss: 8.3170 - val_loss: 6.1608\n",
      "INFO:tensorflow:Assets written to: ./glove_results\\autoencoder\\assets\n",
      "Epoch 5/100\n",
      "12/12 [==============================] - 0s 22ms/step - loss: 5.5247 - val_loss: 4.1509\n",
      "INFO:tensorflow:Assets written to: ./glove_results\\autoencoder\\assets\n",
      "Epoch 6/100\n",
      "12/12 [==============================] - 0s 22ms/step - loss: 3.7523 - val_loss: 2.9669\n",
      "INFO:tensorflow:Assets written to: ./glove_results\\autoencoder\\assets\n",
      "Epoch 7/100\n",
      "12/12 [==============================] - 0s 22ms/step - loss: 2.6758 - val_loss: 2.2054\n",
      "INFO:tensorflow:Assets written to: ./glove_results\\autoencoder\\assets\n",
      "Epoch 8/100\n",
      "12/12 [==============================] - 0s 22ms/step - loss: 1.9871 - val_loss: 1.6963\n",
      "INFO:tensorflow:Assets written to: ./glove_results\\autoencoder\\assets\n",
      "Epoch 9/100\n",
      "12/12 [==============================] - 0s 23ms/step - loss: 1.5322 - val_loss: 1.3728\n",
      "INFO:tensorflow:Assets written to: ./glove_results\\autoencoder\\assets\n",
      "Epoch 10/100\n",
      "12/12 [==============================] - 0s 22ms/step - loss: 1.2209 - val_loss: 1.1461\n",
      "INFO:tensorflow:Assets written to: ./glove_results\\autoencoder\\assets\n",
      "Epoch 11/100\n",
      "12/12 [==============================] - 0s 21ms/step - loss: 1.0199 - val_loss: 0.9931\n",
      "INFO:tensorflow:Assets written to: ./glove_results\\autoencoder\\assets\n",
      "Epoch 12/100\n",
      "12/12 [==============================] - 0s 21ms/step - loss: 0.8898 - val_loss: 0.8938\n",
      "INFO:tensorflow:Assets written to: ./glove_results\\autoencoder\\assets\n",
      "Epoch 13/100\n",
      "12/12 [==============================] - 0s 21ms/step - loss: 0.7890 - val_loss: 0.8120\n",
      "INFO:tensorflow:Assets written to: ./glove_results\\autoencoder\\assets\n",
      "Epoch 14/100\n",
      "12/12 [==============================] - 0s 22ms/step - loss: 0.7190 - val_loss: 0.7601\n",
      "INFO:tensorflow:Assets written to: ./glove_results\\autoencoder\\assets\n",
      "Epoch 15/100\n",
      "12/12 [==============================] - 0s 22ms/step - loss: 0.6708 - val_loss: 0.7240\n",
      "INFO:tensorflow:Assets written to: ./glove_results\\autoencoder\\assets\n",
      "Epoch 16/100\n",
      "12/12 [==============================] - 0s 22ms/step - loss: 0.6409 - val_loss: 0.6986\n",
      "INFO:tensorflow:Assets written to: ./glove_results\\autoencoder\\assets\n",
      "Epoch 17/100\n",
      "12/12 [==============================] - 0s 22ms/step - loss: 0.6056 - val_loss: 0.6745\n",
      "INFO:tensorflow:Assets written to: ./glove_results\\autoencoder\\assets\n",
      "Epoch 18/100\n",
      "12/12 [==============================] - 0s 22ms/step - loss: 0.5991 - val_loss: 0.6640\n",
      "INFO:tensorflow:Assets written to: ./glove_results\\autoencoder\\assets\n",
      "Epoch 19/100\n",
      "12/12 [==============================] - 0s 21ms/step - loss: 0.5699 - val_loss: 0.6502\n",
      "INFO:tensorflow:Assets written to: ./glove_results\\autoencoder\\assets\n",
      "Epoch 20/100\n",
      "12/12 [==============================] - 0s 21ms/step - loss: 0.5619 - val_loss: 0.6427\n",
      "INFO:tensorflow:Assets written to: ./glove_results\\autoencoder\\assets\n",
      "Epoch 21/100\n",
      "12/12 [==============================] - 0s 21ms/step - loss: 0.5603 - val_loss: 0.6367\n",
      "INFO:tensorflow:Assets written to: ./glove_results\\autoencoder\\assets\n",
      "Epoch 22/100\n",
      "12/12 [==============================] - 0s 22ms/step - loss: 0.5602 - val_loss: 0.6323\n",
      "INFO:tensorflow:Assets written to: ./glove_results\\autoencoder\\assets\n",
      "Epoch 23/100\n",
      "12/12 [==============================] - 0s 26ms/step - loss: 0.5592 - val_loss: 0.6292\n",
      "INFO:tensorflow:Assets written to: ./glove_results\\autoencoder\\assets\n",
      "Epoch 24/100\n",
      "12/12 [==============================] - 0s 25ms/step - loss: 0.5502 - val_loss: 0.6249\n",
      "INFO:tensorflow:Assets written to: ./glove_results\\autoencoder\\assets\n",
      "Epoch 25/100\n",
      "12/12 [==============================] - 0s 21ms/step - loss: 0.5473 - val_loss: 0.6200\n",
      "INFO:tensorflow:Assets written to: ./glove_results\\autoencoder\\assets\n",
      "Epoch 26/100\n",
      "12/12 [==============================] - 0s 22ms/step - loss: 0.5434 - val_loss: 0.6211\n",
      "Epoch 27/100\n",
      "12/12 [==============================] - 0s 23ms/step - loss: 0.5369 - val_loss: 0.6215\n",
      "Epoch 28/100\n",
      "12/12 [==============================] - 0s 22ms/step - loss: 0.5321 - val_loss: 0.6157\n",
      "INFO:tensorflow:Assets written to: ./glove_results\\autoencoder\\assets\n",
      "Epoch 29/100\n",
      "12/12 [==============================] - 0s 26ms/step - loss: 0.5301 - val_loss: 0.6148\n",
      "INFO:tensorflow:Assets written to: ./glove_results\\autoencoder\\assets\n",
      "Epoch 30/100\n",
      "12/12 [==============================] - 0s 19ms/step - loss: 0.5383 - val_loss: 0.6141\n",
      "INFO:tensorflow:Assets written to: ./glove_results\\autoencoder\\assets\n",
      "Epoch 31/100\n",
      "12/12 [==============================] - 0s 23ms/step - loss: 0.5346 - val_loss: 0.6145\n",
      "Epoch 32/100\n",
      "12/12 [==============================] - 0s 22ms/step - loss: 0.5308 - val_loss: 0.6140\n",
      "INFO:tensorflow:Assets written to: ./glove_results\\autoencoder\\assets\n",
      "Epoch 33/100\n",
      "12/12 [==============================] - 0s 24ms/step - loss: 0.5358 - val_loss: 0.6174\n",
      "Epoch 34/100\n",
      "12/12 [==============================] - 1s 75ms/step - loss: 0.5323 - val_loss: 0.6111\n",
      "INFO:tensorflow:Assets written to: ./glove_results\\autoencoder\\assets\n",
      "Epoch 35/100\n",
      "12/12 [==============================] - 0s 21ms/step - loss: 0.5321 - val_loss: 0.6122\n",
      "Epoch 36/100\n",
      "12/12 [==============================] - 0s 22ms/step - loss: 0.5326 - val_loss: 0.6144\n",
      "Epoch 37/100\n",
      "12/12 [==============================] - 0s 23ms/step - loss: 0.5411 - val_loss: 0.6139\n",
      "Epoch 38/100\n",
      "12/12 [==============================] - 0s 23ms/step - loss: 0.5216 - val_loss: 0.6096\n",
      "INFO:tensorflow:Assets written to: ./glove_results\\autoencoder\\assets\n",
      "Epoch 39/100\n",
      "12/12 [==============================] - 1s 69ms/step - loss: 0.5261 - val_loss: 0.6108\n",
      "Epoch 40/100\n",
      "12/12 [==============================] - 0s 23ms/step - loss: 0.5232 - val_loss: 0.6095\n",
      "INFO:tensorflow:Assets written to: ./glove_results\\autoencoder\\assets\n",
      "Epoch 41/100\n",
      "12/12 [==============================] - 0s 23ms/step - loss: 0.5338 - val_loss: 0.6132\n",
      "Epoch 42/100\n",
      "12/12 [==============================] - 0s 22ms/step - loss: 0.5338 - val_loss: 0.6135\n",
      "Epoch 43/100\n",
      "12/12 [==============================] - 0s 23ms/step - loss: 0.5197 - val_loss: 0.6132\n",
      "Epoch 44/100\n",
      "12/12 [==============================] - 0s 20ms/step - loss: 0.5273 - val_loss: 0.6087\n",
      "INFO:tensorflow:Assets written to: ./glove_results\\autoencoder\\assets\n",
      "Epoch 45/100\n",
      "12/12 [==============================] - 0s 23ms/step - loss: 0.5163 - val_loss: 0.6091\n",
      "Epoch 46/100\n",
      "12/12 [==============================] - 0s 20ms/step - loss: 0.5246 - val_loss: 0.6094\n",
      "Epoch 47/100\n",
      "12/12 [==============================] - 0s 22ms/step - loss: 0.5283 - val_loss: 0.6109\n",
      "Epoch 48/100\n",
      "12/12 [==============================] - 0s 22ms/step - loss: 0.5287 - val_loss: 0.6079\n",
      "INFO:tensorflow:Assets written to: ./glove_results\\autoencoder\\assets\n",
      "Epoch 49/100\n",
      "12/12 [==============================] - 0s 21ms/step - loss: 0.5202 - val_loss: 0.6094\n",
      "Epoch 50/100\n",
      "12/12 [==============================] - 0s 22ms/step - loss: 0.5260 - val_loss: 0.6080\n",
      "Epoch 51/100\n",
      "12/12 [==============================] - 0s 22ms/step - loss: 0.5240 - val_loss: 0.6085\n",
      "Epoch 52/100\n",
      "12/12 [==============================] - 0s 21ms/step - loss: 0.5210 - val_loss: 0.6093\n",
      "Epoch 53/100\n",
      "12/12 [==============================] - 0s 20ms/step - loss: 0.5327 - val_loss: 0.6104\n",
      "Epoch 54/100\n",
      "12/12 [==============================] - 0s 20ms/step - loss: 0.5343 - val_loss: 0.6095\n",
      "Epoch 55/100\n",
      "12/12 [==============================] - 0s 23ms/step - loss: 0.5357 - val_loss: 0.6091\n",
      "Epoch 56/100\n",
      "12/12 [==============================] - 1s 62ms/step - loss: 0.5204 - val_loss: 0.6088\n",
      "Epoch 57/100\n",
      "12/12 [==============================] - 0s 21ms/step - loss: 0.5298 - val_loss: 0.6109\n",
      "Epoch 58/100\n",
      "12/12 [==============================] - 0s 21ms/step - loss: 0.5215 - val_loss: 0.6065\n",
      "INFO:tensorflow:Assets written to: ./glove_results\\autoencoder\\assets\n",
      "Epoch 59/100\n",
      "12/12 [==============================] - 0s 27ms/step - loss: 0.5371 - val_loss: 0.6090\n",
      "Epoch 60/100\n",
      "12/12 [==============================] - 0s 20ms/step - loss: 0.5417 - val_loss: 0.6102\n",
      "Epoch 61/100\n",
      "12/12 [==============================] - 0s 20ms/step - loss: 0.5319 - val_loss: 0.6082\n",
      "Epoch 62/100\n",
      "12/12 [==============================] - 0s 20ms/step - loss: 0.5234 - val_loss: 0.6085\n",
      "Epoch 63/100\n",
      "12/12 [==============================] - 0s 21ms/step - loss: 0.5228 - val_loss: 0.6092\n",
      "Epoch 64/100\n",
      "12/12 [==============================] - 0s 21ms/step - loss: 0.5174 - val_loss: 0.6072\n",
      "Epoch 65/100\n",
      "12/12 [==============================] - 0s 21ms/step - loss: 0.5198 - val_loss: 0.6093\n",
      "Epoch 66/100\n",
      "12/12 [==============================] - 0s 20ms/step - loss: 0.5202 - val_loss: 0.6076\n",
      "Epoch 67/100\n",
      "12/12 [==============================] - 0s 23ms/step - loss: 0.5242 - val_loss: 0.6075\n",
      "Epoch 68/100\n",
      "12/12 [==============================] - 0s 23ms/step - loss: 0.5305 - val_loss: 0.6098\n"
     ]
    }
   ],
   "source": [
    "monitor = EarlyStopping(monitor='val_loss', min_delta=1e-6, patience=10, verbose=0, mode='auto', restore_best_weights=True)\n",
    "\n",
    "checkpoint = ModelCheckpoint('./glove_results/autoencoder', verbose=0, save_best_only=True)\n",
    "\n",
    "csv_logger = CSVLogger('./glove_results/log.out', append=True, separator=';')\n",
    "\n",
    "#history= autoencoder.fit(x_train,x_train,validation_data=(x_test,y_test),callbacks=[monitor],verbose=1,batch_size=32,epochs=1000)\n",
    "print(np.shape(x_train))\n",
    "\n",
    "callbacks_list = [checkpoint, csv_logger, monitor]\n",
    "results=history=autoencoder.fit(x_train,x_train,\n",
    "                        epochs=100,\n",
    "                        #callbacks=[monitor],\n",
    "                        callbacks=callbacks_list ,       \n",
    "                        batch_size=128, # or 64\n",
    "                        shuffle= True,\n",
    "                        verbose=1,\n",
    "                        validation_split=0.25)\n",
    "\n",
    "\n",
    "#results=autoencoder.fit(x_train,x_train, epochs=50, batch_size=1)\n",
    "\n",
    "pass"
   ]
  },
  {
   "cell_type": "code",
   "execution_count": 264,
   "metadata": {},
   "outputs": [
    {
     "data": {
      "image/png": "[encoded data removed]",
      "text/plain": [
       "<Figure size 432x288 with 1 Axes>"
      ]
     },
     "metadata": {
      "needs_background": "light"
     },
     "output_type": "display_data"
    }
   ],
   "source": [
    "loss = results.history['loss']\n",
    "val_loss = results.history['val_loss']\n",
    "epochs = range(1, len(loss) + 1)\n",
    "plt.plot(epochs, loss, 'y', label='Training loss')\n",
    "plt.plot(epochs, val_loss, 'r', label='Validation loss')\n",
    "plt.title('Training and validation loss')\n",
    "plt.xlabel('Epochs')\n",
    "plt.ylabel('Loss')\n",
    "plt.legend()\n",
    "plt.show()"
   ]
  },
  {
   "cell_type": "code",
   "execution_count": 265,
   "metadata": {},
   "outputs": [
    {
     "data": {
      "image/png": "[encoded data removed]",
      "text/plain": [
       "<Figure size 432x288 with 1 Axes>"
      ]
     },
     "metadata": {
      "needs_background": "light"
     },
     "output_type": "display_data"
    }
   ],
   "source": [
    "loss = results.history['loss']\n",
    "val_loss = results.history['val_loss']\n",
    "epochs = range(1, len(loss) + 1)\n",
    "plt.plot(epochs, loss, 'y', label='Training loss')\n",
    "#plt.plot(epochs, val_loss, 'r', label='Validation loss')\n",
    "plt.xlabel('Epochs')\n",
    "plt.ylabel('Loss')\n",
    "plt.legend()\n",
    "plt.show()"
   ]
  },
  {
   "cell_type": "code",
   "execution_count": 266,
   "metadata": {},
   "outputs": [
    {
     "data": {
      "image/png": "[encoded data removed]",
      "text/plain": [
       "<Figure size 432x288 with 1 Axes>"
      ]
     },
     "metadata": {
      "needs_background": "light"
     },
     "output_type": "display_data"
    }
   ],
   "source": [
    "loss = results.history['loss']\n",
    "val_loss = results.history['val_loss']\n",
    "epochs = range(1, len(loss) + 1)\n",
    "#plt.plot(epochs, loss, 'y', label='Training loss')\n",
    "plt.plot(epochs, val_loss, 'r', label='Validation loss')\n",
    "plt.xlabel('Epochs')\n",
    "plt.ylabel('Loss')\n",
    "plt.legend()\n",
    "plt.show()"
   ]
  },
  {
   "cell_type": "code",
   "execution_count": 267,
   "metadata": {},
   "outputs": [],
   "source": [
    "weights=autoencoder.get_weights() \n",
    "#or\n",
    "'''\n",
    "for layer in autoencoder.layers:\n",
    "    print(layer.get_config(), layer.get_weights())\n",
    "#or    \n",
    "first_layer_weights = model.layers[0].get_weights()[0]\n",
    "first_layer_biases  = model.layers[0].get_weights()[1]\n",
    "second_layer_weights = model.layers[1].get_weights()[0]\n",
    "second_layer_biases  = model.layers[1].get_weights()[1]    \n",
    "'''\n",
    "#or\n",
    "#autoencoder.get_layer('conv2d_transpose_27').get_weights()[0]\n",
    "pass"
   ]
  },
  {
   "cell_type": "code",
   "execution_count": 268,
   "metadata": {},
   "outputs": [],
   "source": [
    "#x_train = np.expand_dims(x_train, -1).astype(\"float32\")"
   ]
  },
  {
   "cell_type": "code",
   "execution_count": 269,
   "metadata": {},
   "outputs": [
    {
     "name": "stdout",
     "output_type": "stream",
     "text": [
      "(2000,)\n"
     ]
    },
    {
     "data": {
      "image/png": "[encoded data removed]",
      "text/plain": [
       "<Figure size 432x288 with 1 Axes>"
      ]
     },
     "metadata": {
      "needs_background": "light"
     },
     "output_type": "display_data"
    },
    {
     "data": {
      "text/plain": [
       "0.27281773"
      ]
     },
     "execution_count": 269,
     "metadata": {},
     "output_type": "execute_result"
    }
   ],
   "source": [
    "#print(np.shape(x_train))\n",
    "t0=time.time()\n",
    "reconstructions = autoencoder.predict(x_train)\n",
    "\n",
    "x_train_reshaped = np.reshape(x_train, (x_train.shape[0],-1)) \n",
    "#print(np.shape(x_train_reshaped))\n",
    "\n",
    "reconstructions_reshaped = np.reshape(reconstructions, (reconstructions.shape[0],-1)) \n",
    "#print(np.shape(reconstructions_reshaped))\n",
    "\n",
    "#train_loss = tf.keras.losses.mse(x_train_reshaped, reconstructions_reshaped)\n",
    "#or\n",
    "train_loss = K.mean(tf.keras.losses.mse(x_train, reconstructions),axis=-1)\n",
    "\n",
    "print(np.shape(train_loss))\n",
    "\n",
    "plt.hist(train_loss, bins=50)\n",
    "plt.xlabel(\"Train loss\")\n",
    "plt.ylabel(\"No of examples\")\n",
    "plt.show()\n",
    "#print( time.time() - t0)\n",
    "np.mean(train_loss)"
   ]
  },
  {
   "cell_type": "code",
   "execution_count": null,
   "metadata": {},
   "outputs": [],
   "source": []
  },
  {
   "cell_type": "code",
   "execution_count": 270,
   "metadata": {},
   "outputs": [
    {
     "data": {
      "text/plain": [
       "(1.3700211, -5.601961)"
      ]
     },
     "execution_count": 270,
     "metadata": {},
     "output_type": "execute_result"
    }
   ],
   "source": [
    "np.shape(reconstructions)\n",
    "max_val = np.max(reconstructions)\n",
    "min_val = np.min(reconstructions)\n",
    "max_val, min_val"
   ]
  },
  {
   "cell_type": "code",
   "execution_count": 271,
   "metadata": {},
   "outputs": [],
   "source": [
    "#for i,kk in enumerate(train_loss):\n",
    "#    if kk<0.00000025:\n",
    "#        print(i)"
   ]
  },
  {
   "cell_type": "code",
   "execution_count": 272,
   "metadata": {},
   "outputs": [
    {
     "name": "stdout",
     "output_type": "stream",
     "text": [
      "Threshold:  0.43631572\n"
     ]
    }
   ],
   "source": [
    "threshold = np.mean(train_loss) + np.std(train_loss)\n",
    "print(\"Threshold: \", threshold)"
   ]
  },
  {
   "cell_type": "code",
   "execution_count": 273,
   "metadata": {},
   "outputs": [
    {
     "name": "stdout",
     "output_type": "stream",
     "text": [
      "mean_:  0.27281773\n"
     ]
    }
   ],
   "source": [
    "mean_ =  np.mean(train_loss)\n",
    "print(\"mean_: \", mean_)"
   ]
  },
  {
   "cell_type": "code",
   "execution_count": null,
   "metadata": {},
   "outputs": [],
   "source": []
  },
  {
   "cell_type": "code",
   "execution_count": 274,
   "metadata": {},
   "outputs": [
    {
     "name": "stdout",
     "output_type": "stream",
     "text": [
      "(2001, 25, 25)\n",
      "(2001,)\n"
     ]
    },
    {
     "data": {
      "image/png": "[encoded data removed]",
      "text/plain": [
       "<Figure size 432x288 with 1 Axes>"
      ]
     },
     "metadata": {
      "needs_background": "light"
     },
     "output_type": "display_data"
    },
    {
     "data": {
      "text/plain": [
       "0.61273843"
      ]
     },
     "execution_count": 274,
     "metadata": {},
     "output_type": "execute_result"
    }
   ],
   "source": [
    "print(np.shape(x_test))\n",
    "t0=time.time()\n",
    "reconstructions = autoencoder.predict(x_test)\n",
    "\n",
    "x_test_reshaped = np.reshape(x_test, (x_test.shape[0],-1)) \n",
    "#print(np.shape(x_test_reshaped))\n",
    "\n",
    "reconstructions_reshaped = np.reshape(reconstructions, (reconstructions.shape[0],-1)) \n",
    "\n",
    "#test_loss = tf.keras.losses.mse(reconstructions_reshaped, x_test_reshaped)\n",
    "#or\n",
    "test_loss = K.mean(tf.keras.losses.mse(x_test, reconstructions),axis=-1)\n",
    "print(np.shape(test_loss))\n",
    "\n",
    "\n",
    "plt.hist(test_loss, bins=50)\n",
    "plt.xlabel(\"Test loss\")\n",
    "plt.ylabel(\"No of examples\")\n",
    "plt.show()\n",
    "#print( time.time() - t0)\n",
    "np.mean(test_loss)"
   ]
  },
  {
   "cell_type": "code",
   "execution_count": 275,
   "metadata": {},
   "outputs": [],
   "source": [
    "#x_train1[13], seed_ent1[13], train_loss[13] # \"great work team\""
   ]
  },
  {
   "cell_type": "code",
   "execution_count": 276,
   "metadata": {},
   "outputs": [],
   "source": [
    "#x_test1[1000], texts[1104],test_loss[1000]"
   ]
  },
  {
   "cell_type": "code",
   "execution_count": 277,
   "metadata": {},
   "outputs": [
    {
     "data": {
      "text/plain": [
       "594"
      ]
     },
     "execution_count": 277,
     "metadata": {},
     "output_type": "execute_result"
    }
   ],
   "source": [
    "ind_found=[]\n",
    "for i,kk in enumerate(test_loss):\n",
    "    if kk  <threshold:\n",
    "        ind_found.append(i)\n",
    "#    if kk>0.12:\n",
    "#        print(i)\n",
    "len(ind_found)       "
   ]
  },
  {
   "cell_type": "code",
   "execution_count": 279,
   "metadata": {},
   "outputs": [],
   "source": [
    "#for i in ind_found:\n",
    "#    print(ent_all[i])"
   ]
  },
  {
   "cell_type": "code",
   "execution_count": null,
   "metadata": {},
   "outputs": [],
   "source": []
  },
  {
   "cell_type": "code",
   "execution_count": null,
   "metadata": {},
   "outputs": [],
   "source": []
  },
  {
   "cell_type": "code",
   "execution_count": 1711,
   "metadata": {},
   "outputs": [],
   "source": [
    "'''\n",
    "def predict(model, data, threshold):\n",
    "  reconstructions = model(data)\n",
    "  print(np.shape(reconstructions))\n",
    "  loss = tf.keras.losses.mae(reconstructions, data)\n",
    "  return tf.math.less(loss, threshold)\n",
    "\n",
    "preds = predict(model_autoencoder, test_data, threshold)\n",
    "preds\n",
    "'''\n",
    "pass"
   ]
  },
  {
   "cell_type": "code",
   "execution_count": null,
   "metadata": {},
   "outputs": [],
   "source": []
  },
  {
   "cell_type": "code",
   "execution_count": 1712,
   "metadata": {},
   "outputs": [],
   "source": [
    "'''\n",
    "pred = autoencoder.predict(x_normal_test)\n",
    "pred=np.reshape(pred, (pred.shape[0],-1)) \n",
    "x_normal_test=np.reshape(x_normal_test, (x_normal_test.shape[0],-1)) \n",
    "score1 = np.sqrt(metrics.mean_squared_error(pred,x_normal_test))\n",
    "\n",
    "pred = autoencoder.predict(x_train)\n",
    "pred=np.reshape(pred, (pred.shape[0],-1)) \n",
    "x_normal_test=np.reshape(x_normal_test, (x_normal_test.shape[0],-1)) \n",
    "score2 = np.sqrt(metrics.mean_squared_error(pred,x_train))\n",
    "\n",
    "pred = autoencoder.predict(x_abnormal_test)\n",
    "pred=np.reshape(pred, (pred.shape[0],-1)) \n",
    "x_abnormal_test=np.reshape(x_abnormal_test, (x_abnormal_test.shape[0],-1)) \n",
    "score3 = np.sqrt(metrics.mean_squared_error(pred,x_abnormal_test))\n",
    "\n",
    "print(f\"Out of Sample Normal error (RMSE): {score1}\")\n",
    "#print(f\"Insample Normal error (RMSE): {score2}\")\n",
    "print(f\"Abnormal error (RMSE): {score3}\")\n",
    "'''\n",
    "pass"
   ]
  },
  {
   "cell_type": "code",
   "execution_count": null,
   "metadata": {},
   "outputs": [],
   "source": []
  },
  {
   "cell_type": "code",
   "execution_count": null,
   "metadata": {},
   "outputs": [],
   "source": []
  },
  {
   "cell_type": "code",
   "execution_count": 1713,
   "metadata": {},
   "outputs": [
    {
     "data": {
      "text/plain": [
       "['make money marketing',\n",
       " 'top b2b strategies to market your business in',\n",
       " 'when they do not have the business they start doing business which is not their business .',\n",
       " 'great work team',\n",
       " 'rt great team doing important work .',\n",
       " 'the latest business and money by thanks to investment',\n",
       " 'no value in the market',\n",
       " 'the latest business and money by thanks to investment business',\n",
       " 'business success being there via by',\n",
       " 'which is more important sales or marketing']"
      ]
     },
     "execution_count": 1713,
     "metadata": {},
     "output_type": "execute_result"
    }
   ],
   "source": [
    "seed_ent[10:20]"
   ]
  },
  {
   "cell_type": "code",
   "execution_count": 1714,
   "metadata": {},
   "outputs": [
    {
     "name": "stdout",
     "output_type": "stream",
     "text": [
      "(6, 1, 768)\n",
      "0.14576053619384766\n"
     ]
    }
   ],
   "source": [
    "x_test2=embedder0(['work team','work group','hated song hated song hated song hated song hated song','hated song',\n",
    "                   'pizza hotel',\n",
    "                  'woman amp child amp human trafficker euphemism evil sex traffic rapist amp pedophile . drug traffic plague ravage land . fresh flow caravan asylum seeker amp undetected illegals rag . dems wall .'])"
   ]
  },
  {
   "cell_type": "code",
   "execution_count": 1715,
   "metadata": {},
   "outputs": [],
   "source": [
    "#x_test2 = (x_test2 - min_val) / (max_val - min_val)"
   ]
  },
  {
   "cell_type": "code",
   "execution_count": 1716,
   "metadata": {},
   "outputs": [
    {
     "name": "stdout",
     "output_type": "stream",
     "text": [
      "(6, 1, 768)\n"
     ]
    },
    {
     "ename": "ValueError",
     "evalue": "in user code:\n\n    C:\\Users\\jafar\\Anaconda3\\lib\\site-packages\\tensorflow\\python\\keras\\engine\\training.py:1478 predict_function  *\n        return step_function(self, iterator)\n    C:\\Users\\jafar\\Anaconda3\\lib\\site-packages\\tensorflow\\python\\keras\\engine\\training.py:1468 step_function  **\n        outputs = model.distribute_strategy.run(run_step, args=(data,))\n    C:\\Users\\jafar\\Anaconda3\\lib\\site-packages\\tensorflow\\python\\distribute\\distribute_lib.py:1259 run\n        return self._extended.call_for_each_replica(fn, args=args, kwargs=kwargs)\n    C:\\Users\\jafar\\Anaconda3\\lib\\site-packages\\tensorflow\\python\\distribute\\distribute_lib.py:2730 call_for_each_replica\n        return self._call_for_each_replica(fn, args, kwargs)\n    C:\\Users\\jafar\\Anaconda3\\lib\\site-packages\\tensorflow\\python\\distribute\\distribute_lib.py:3417 _call_for_each_replica\n        return fn(*args, **kwargs)\n    C:\\Users\\jafar\\Anaconda3\\lib\\site-packages\\tensorflow\\python\\keras\\engine\\training.py:1461 run_step  **\n        outputs = model.predict_step(data)\n    C:\\Users\\jafar\\Anaconda3\\lib\\site-packages\\tensorflow\\python\\keras\\engine\\training.py:1434 predict_step\n        return self(x, training=False)\n    C:\\Users\\jafar\\Anaconda3\\lib\\site-packages\\tensorflow\\python\\keras\\engine\\base_layer.py:998 __call__\n        input_spec.assert_input_compatibility(self.input_spec, inputs, self.name)\n    C:\\Users\\jafar\\Anaconda3\\lib\\site-packages\\tensorflow\\python\\keras\\engine\\input_spec.py:274 assert_input_compatibility\n        ', found shape=' + display_shape(x.shape))\n\n    ValueError: Input 0 is incompatible with layer CVAE: expected shape=(None, 25, 25), found shape=(None, 1, 768)\n",
     "output_type": "error",
     "traceback": [
      "\u001b[1;31m---------------------------------------------------------------------------\u001b[0m",
      "\u001b[1;31mValueError\u001b[0m                                Traceback (most recent call last)",
      "\u001b[1;32m<ipython-input-1716-ad83c8217c04>\u001b[0m in \u001b[0;36m<module>\u001b[1;34m\u001b[0m\n\u001b[0;32m      1\u001b[0m \u001b[0mprint\u001b[0m\u001b[1;33m(\u001b[0m\u001b[0mnp\u001b[0m\u001b[1;33m.\u001b[0m\u001b[0mshape\u001b[0m\u001b[1;33m(\u001b[0m\u001b[0mx_test2\u001b[0m\u001b[1;33m)\u001b[0m\u001b[1;33m)\u001b[0m\u001b[1;33m\u001b[0m\u001b[1;33m\u001b[0m\u001b[0m\n\u001b[0;32m      2\u001b[0m \u001b[0mt0\u001b[0m\u001b[1;33m=\u001b[0m\u001b[0mtime\u001b[0m\u001b[1;33m.\u001b[0m\u001b[0mtime\u001b[0m\u001b[1;33m(\u001b[0m\u001b[1;33m)\u001b[0m\u001b[1;33m\u001b[0m\u001b[1;33m\u001b[0m\u001b[0m\n\u001b[1;32m----> 3\u001b[1;33m \u001b[0mreconstructions2\u001b[0m \u001b[1;33m=\u001b[0m \u001b[0mautoencoder\u001b[0m\u001b[1;33m.\u001b[0m\u001b[0mpredict\u001b[0m\u001b[1;33m(\u001b[0m\u001b[0mx_test2\u001b[0m\u001b[1;33m)\u001b[0m\u001b[1;33m\u001b[0m\u001b[1;33m\u001b[0m\u001b[0m\n\u001b[0m\u001b[0;32m      4\u001b[0m \u001b[1;33m\u001b[0m\u001b[0m\n\u001b[0;32m      5\u001b[0m \u001b[0mx_test_reshaped2\u001b[0m \u001b[1;33m=\u001b[0m \u001b[0mnp\u001b[0m\u001b[1;33m.\u001b[0m\u001b[0mreshape\u001b[0m\u001b[1;33m(\u001b[0m\u001b[0mx_test2\u001b[0m\u001b[1;33m,\u001b[0m \u001b[1;33m(\u001b[0m\u001b[0mx_test2\u001b[0m\u001b[1;33m.\u001b[0m\u001b[0mshape\u001b[0m\u001b[1;33m[\u001b[0m\u001b[1;36m0\u001b[0m\u001b[1;33m]\u001b[0m\u001b[1;33m,\u001b[0m\u001b[1;33m-\u001b[0m\u001b[1;36m1\u001b[0m\u001b[1;33m)\u001b[0m\u001b[1;33m)\u001b[0m\u001b[1;33m\u001b[0m\u001b[1;33m\u001b[0m\u001b[0m\n",
      "\u001b[1;32m~\\Anaconda3\\lib\\site-packages\\tensorflow\\python\\keras\\engine\\training.py\u001b[0m in \u001b[0;36mpredict\u001b[1;34m(self, x, batch_size, verbose, steps, callbacks, max_queue_size, workers, use_multiprocessing)\u001b[0m\n\u001b[0;32m   1627\u001b[0m           \u001b[1;32mfor\u001b[0m \u001b[0mstep\u001b[0m \u001b[1;32min\u001b[0m \u001b[0mdata_handler\u001b[0m\u001b[1;33m.\u001b[0m\u001b[0msteps\u001b[0m\u001b[1;33m(\u001b[0m\u001b[1;33m)\u001b[0m\u001b[1;33m:\u001b[0m\u001b[1;33m\u001b[0m\u001b[1;33m\u001b[0m\u001b[0m\n\u001b[0;32m   1628\u001b[0m             \u001b[0mcallbacks\u001b[0m\u001b[1;33m.\u001b[0m\u001b[0mon_predict_batch_begin\u001b[0m\u001b[1;33m(\u001b[0m\u001b[0mstep\u001b[0m\u001b[1;33m)\u001b[0m\u001b[1;33m\u001b[0m\u001b[1;33m\u001b[0m\u001b[0m\n\u001b[1;32m-> 1629\u001b[1;33m             \u001b[0mtmp_batch_outputs\u001b[0m \u001b[1;33m=\u001b[0m \u001b[0mself\u001b[0m\u001b[1;33m.\u001b[0m\u001b[0mpredict_function\u001b[0m\u001b[1;33m(\u001b[0m\u001b[0miterator\u001b[0m\u001b[1;33m)\u001b[0m\u001b[1;33m\u001b[0m\u001b[1;33m\u001b[0m\u001b[0m\n\u001b[0m\u001b[0;32m   1630\u001b[0m             \u001b[1;32mif\u001b[0m \u001b[0mdata_handler\u001b[0m\u001b[1;33m.\u001b[0m\u001b[0mshould_sync\u001b[0m\u001b[1;33m:\u001b[0m\u001b[1;33m\u001b[0m\u001b[1;33m\u001b[0m\u001b[0m\n\u001b[0;32m   1631\u001b[0m               \u001b[0mcontext\u001b[0m\u001b[1;33m.\u001b[0m\u001b[0masync_wait\u001b[0m\u001b[1;33m(\u001b[0m\u001b[1;33m)\u001b[0m\u001b[1;33m\u001b[0m\u001b[1;33m\u001b[0m\u001b[0m\n",
      "\u001b[1;32m~\\Anaconda3\\lib\\site-packages\\tensorflow\\python\\eager\\def_function.py\u001b[0m in \u001b[0;36m__call__\u001b[1;34m(self, *args, **kwds)\u001b[0m\n\u001b[0;32m    826\u001b[0m     \u001b[0mtracing_count\u001b[0m \u001b[1;33m=\u001b[0m \u001b[0mself\u001b[0m\u001b[1;33m.\u001b[0m\u001b[0mexperimental_get_tracing_count\u001b[0m\u001b[1;33m(\u001b[0m\u001b[1;33m)\u001b[0m\u001b[1;33m\u001b[0m\u001b[1;33m\u001b[0m\u001b[0m\n\u001b[0;32m    827\u001b[0m     \u001b[1;32mwith\u001b[0m \u001b[0mtrace\u001b[0m\u001b[1;33m.\u001b[0m\u001b[0mTrace\u001b[0m\u001b[1;33m(\u001b[0m\u001b[0mself\u001b[0m\u001b[1;33m.\u001b[0m\u001b[0m_name\u001b[0m\u001b[1;33m)\u001b[0m \u001b[1;32mas\u001b[0m \u001b[0mtm\u001b[0m\u001b[1;33m:\u001b[0m\u001b[1;33m\u001b[0m\u001b[1;33m\u001b[0m\u001b[0m\n\u001b[1;32m--> 828\u001b[1;33m       \u001b[0mresult\u001b[0m \u001b[1;33m=\u001b[0m \u001b[0mself\u001b[0m\u001b[1;33m.\u001b[0m\u001b[0m_call\u001b[0m\u001b[1;33m(\u001b[0m\u001b[1;33m*\u001b[0m\u001b[0margs\u001b[0m\u001b[1;33m,\u001b[0m \u001b[1;33m**\u001b[0m\u001b[0mkwds\u001b[0m\u001b[1;33m)\u001b[0m\u001b[1;33m\u001b[0m\u001b[1;33m\u001b[0m\u001b[0m\n\u001b[0m\u001b[0;32m    829\u001b[0m       \u001b[0mcompiler\u001b[0m \u001b[1;33m=\u001b[0m \u001b[1;34m\"xla\"\u001b[0m \u001b[1;32mif\u001b[0m \u001b[0mself\u001b[0m\u001b[1;33m.\u001b[0m\u001b[0m_experimental_compile\u001b[0m \u001b[1;32melse\u001b[0m \u001b[1;34m\"nonXla\"\u001b[0m\u001b[1;33m\u001b[0m\u001b[1;33m\u001b[0m\u001b[0m\n\u001b[0;32m    830\u001b[0m       \u001b[0mnew_tracing_count\u001b[0m \u001b[1;33m=\u001b[0m \u001b[0mself\u001b[0m\u001b[1;33m.\u001b[0m\u001b[0mexperimental_get_tracing_count\u001b[0m\u001b[1;33m(\u001b[0m\u001b[1;33m)\u001b[0m\u001b[1;33m\u001b[0m\u001b[1;33m\u001b[0m\u001b[0m\n",
      "\u001b[1;32m~\\Anaconda3\\lib\\site-packages\\tensorflow\\python\\eager\\def_function.py\u001b[0m in \u001b[0;36m_call\u001b[1;34m(self, *args, **kwds)\u001b[0m\n\u001b[0;32m    860\u001b[0m       \u001b[1;31m# In this case we have not created variables on the first call. So we can\u001b[0m\u001b[1;33m\u001b[0m\u001b[1;33m\u001b[0m\u001b[1;33m\u001b[0m\u001b[0m\n\u001b[0;32m    861\u001b[0m       \u001b[1;31m# run the first trace but we should fail if variables are created.\u001b[0m\u001b[1;33m\u001b[0m\u001b[1;33m\u001b[0m\u001b[1;33m\u001b[0m\u001b[0m\n\u001b[1;32m--> 862\u001b[1;33m       \u001b[0mresults\u001b[0m \u001b[1;33m=\u001b[0m \u001b[0mself\u001b[0m\u001b[1;33m.\u001b[0m\u001b[0m_stateful_fn\u001b[0m\u001b[1;33m(\u001b[0m\u001b[1;33m*\u001b[0m\u001b[0margs\u001b[0m\u001b[1;33m,\u001b[0m \u001b[1;33m**\u001b[0m\u001b[0mkwds\u001b[0m\u001b[1;33m)\u001b[0m\u001b[1;33m\u001b[0m\u001b[1;33m\u001b[0m\u001b[0m\n\u001b[0m\u001b[0;32m    863\u001b[0m       \u001b[1;32mif\u001b[0m \u001b[0mself\u001b[0m\u001b[1;33m.\u001b[0m\u001b[0m_created_variables\u001b[0m\u001b[1;33m:\u001b[0m\u001b[1;33m\u001b[0m\u001b[1;33m\u001b[0m\u001b[0m\n\u001b[0;32m    864\u001b[0m         raise ValueError(\"Creating variables on a non-first call to a function\"\n",
      "\u001b[1;32m~\\Anaconda3\\lib\\site-packages\\tensorflow\\python\\eager\\function.py\u001b[0m in \u001b[0;36m__call__\u001b[1;34m(self, *args, **kwargs)\u001b[0m\n\u001b[0;32m   2939\u001b[0m     \u001b[1;32mwith\u001b[0m \u001b[0mself\u001b[0m\u001b[1;33m.\u001b[0m\u001b[0m_lock\u001b[0m\u001b[1;33m:\u001b[0m\u001b[1;33m\u001b[0m\u001b[1;33m\u001b[0m\u001b[0m\n\u001b[0;32m   2940\u001b[0m       (graph_function,\n\u001b[1;32m-> 2941\u001b[1;33m        filtered_flat_args) = self._maybe_define_function(args, kwargs)\n\u001b[0m\u001b[0;32m   2942\u001b[0m     return graph_function._call_flat(\n\u001b[0;32m   2943\u001b[0m         filtered_flat_args, captured_inputs=graph_function.captured_inputs)  # pylint: disable=protected-access\n",
      "\u001b[1;32m~\\Anaconda3\\lib\\site-packages\\tensorflow\\python\\eager\\function.py\u001b[0m in \u001b[0;36m_maybe_define_function\u001b[1;34m(self, args, kwargs)\u001b[0m\n\u001b[0;32m   3356\u001b[0m               call_context_key in self._function_cache.missed):\n\u001b[0;32m   3357\u001b[0m             return self._define_function_with_shape_relaxation(\n\u001b[1;32m-> 3358\u001b[1;33m                 args, kwargs, flat_args, filtered_flat_args, cache_key_context)\n\u001b[0m\u001b[0;32m   3359\u001b[0m \u001b[1;33m\u001b[0m\u001b[0m\n\u001b[0;32m   3360\u001b[0m           \u001b[0mself\u001b[0m\u001b[1;33m.\u001b[0m\u001b[0m_function_cache\u001b[0m\u001b[1;33m.\u001b[0m\u001b[0mmissed\u001b[0m\u001b[1;33m.\u001b[0m\u001b[0madd\u001b[0m\u001b[1;33m(\u001b[0m\u001b[0mcall_context_key\u001b[0m\u001b[1;33m)\u001b[0m\u001b[1;33m\u001b[0m\u001b[1;33m\u001b[0m\u001b[0m\n",
      "\u001b[1;32m~\\Anaconda3\\lib\\site-packages\\tensorflow\\python\\eager\\function.py\u001b[0m in \u001b[0;36m_define_function_with_shape_relaxation\u001b[1;34m(self, args, kwargs, flat_args, filtered_flat_args, cache_key_context)\u001b[0m\n\u001b[0;32m   3278\u001b[0m \u001b[1;33m\u001b[0m\u001b[0m\n\u001b[0;32m   3279\u001b[0m     graph_function = self._create_graph_function(\n\u001b[1;32m-> 3280\u001b[1;33m         args, kwargs, override_flat_arg_shapes=relaxed_arg_shapes)\n\u001b[0m\u001b[0;32m   3281\u001b[0m     \u001b[0mself\u001b[0m\u001b[1;33m.\u001b[0m\u001b[0m_function_cache\u001b[0m\u001b[1;33m.\u001b[0m\u001b[0marg_relaxed\u001b[0m\u001b[1;33m[\u001b[0m\u001b[0mrank_only_cache_key\u001b[0m\u001b[1;33m]\u001b[0m \u001b[1;33m=\u001b[0m \u001b[0mgraph_function\u001b[0m\u001b[1;33m\u001b[0m\u001b[1;33m\u001b[0m\u001b[0m\n\u001b[0;32m   3282\u001b[0m \u001b[1;33m\u001b[0m\u001b[0m\n",
      "\u001b[1;32m~\\Anaconda3\\lib\\site-packages\\tensorflow\\python\\eager\\function.py\u001b[0m in \u001b[0;36m_create_graph_function\u001b[1;34m(self, args, kwargs, override_flat_arg_shapes)\u001b[0m\n\u001b[0;32m   3204\u001b[0m             \u001b[0marg_names\u001b[0m\u001b[1;33m=\u001b[0m\u001b[0marg_names\u001b[0m\u001b[1;33m,\u001b[0m\u001b[1;33m\u001b[0m\u001b[1;33m\u001b[0m\u001b[0m\n\u001b[0;32m   3205\u001b[0m             \u001b[0moverride_flat_arg_shapes\u001b[0m\u001b[1;33m=\u001b[0m\u001b[0moverride_flat_arg_shapes\u001b[0m\u001b[1;33m,\u001b[0m\u001b[1;33m\u001b[0m\u001b[1;33m\u001b[0m\u001b[0m\n\u001b[1;32m-> 3206\u001b[1;33m             capture_by_value=self._capture_by_value),\n\u001b[0m\u001b[0;32m   3207\u001b[0m         \u001b[0mself\u001b[0m\u001b[1;33m.\u001b[0m\u001b[0m_function_attributes\u001b[0m\u001b[1;33m,\u001b[0m\u001b[1;33m\u001b[0m\u001b[1;33m\u001b[0m\u001b[0m\n\u001b[0;32m   3208\u001b[0m         \u001b[0mfunction_spec\u001b[0m\u001b[1;33m=\u001b[0m\u001b[0mself\u001b[0m\u001b[1;33m.\u001b[0m\u001b[0mfunction_spec\u001b[0m\u001b[1;33m,\u001b[0m\u001b[1;33m\u001b[0m\u001b[1;33m\u001b[0m\u001b[0m\n",
      "\u001b[1;32m~\\Anaconda3\\lib\\site-packages\\tensorflow\\python\\framework\\func_graph.py\u001b[0m in \u001b[0;36mfunc_graph_from_py_func\u001b[1;34m(name, python_func, args, kwargs, signature, func_graph, autograph, autograph_options, add_control_dependencies, arg_names, op_return_value, collections, capture_by_value, override_flat_arg_shapes)\u001b[0m\n\u001b[0;32m    988\u001b[0m         \u001b[0m_\u001b[0m\u001b[1;33m,\u001b[0m \u001b[0moriginal_func\u001b[0m \u001b[1;33m=\u001b[0m \u001b[0mtf_decorator\u001b[0m\u001b[1;33m.\u001b[0m\u001b[0munwrap\u001b[0m\u001b[1;33m(\u001b[0m\u001b[0mpython_func\u001b[0m\u001b[1;33m)\u001b[0m\u001b[1;33m\u001b[0m\u001b[1;33m\u001b[0m\u001b[0m\n\u001b[0;32m    989\u001b[0m \u001b[1;33m\u001b[0m\u001b[0m\n\u001b[1;32m--> 990\u001b[1;33m       \u001b[0mfunc_outputs\u001b[0m \u001b[1;33m=\u001b[0m \u001b[0mpython_func\u001b[0m\u001b[1;33m(\u001b[0m\u001b[1;33m*\u001b[0m\u001b[0mfunc_args\u001b[0m\u001b[1;33m,\u001b[0m \u001b[1;33m**\u001b[0m\u001b[0mfunc_kwargs\u001b[0m\u001b[1;33m)\u001b[0m\u001b[1;33m\u001b[0m\u001b[1;33m\u001b[0m\u001b[0m\n\u001b[0m\u001b[0;32m    991\u001b[0m \u001b[1;33m\u001b[0m\u001b[0m\n\u001b[0;32m    992\u001b[0m       \u001b[1;31m# invariant: `func_outputs` contains only Tensors, CompositeTensors,\u001b[0m\u001b[1;33m\u001b[0m\u001b[1;33m\u001b[0m\u001b[1;33m\u001b[0m\u001b[0m\n",
      "\u001b[1;32m~\\Anaconda3\\lib\\site-packages\\tensorflow\\python\\eager\\def_function.py\u001b[0m in \u001b[0;36mwrapped_fn\u001b[1;34m(*args, **kwds)\u001b[0m\n\u001b[0;32m    632\u001b[0m             \u001b[0mxla_context\u001b[0m\u001b[1;33m.\u001b[0m\u001b[0mExit\u001b[0m\u001b[1;33m(\u001b[0m\u001b[1;33m)\u001b[0m\u001b[1;33m\u001b[0m\u001b[1;33m\u001b[0m\u001b[0m\n\u001b[0;32m    633\u001b[0m         \u001b[1;32melse\u001b[0m\u001b[1;33m:\u001b[0m\u001b[1;33m\u001b[0m\u001b[1;33m\u001b[0m\u001b[0m\n\u001b[1;32m--> 634\u001b[1;33m           \u001b[0mout\u001b[0m \u001b[1;33m=\u001b[0m \u001b[0mweak_wrapped_fn\u001b[0m\u001b[1;33m(\u001b[0m\u001b[1;33m)\u001b[0m\u001b[1;33m.\u001b[0m\u001b[0m__wrapped__\u001b[0m\u001b[1;33m(\u001b[0m\u001b[1;33m*\u001b[0m\u001b[0margs\u001b[0m\u001b[1;33m,\u001b[0m \u001b[1;33m**\u001b[0m\u001b[0mkwds\u001b[0m\u001b[1;33m)\u001b[0m\u001b[1;33m\u001b[0m\u001b[1;33m\u001b[0m\u001b[0m\n\u001b[0m\u001b[0;32m    635\u001b[0m         \u001b[1;32mreturn\u001b[0m \u001b[0mout\u001b[0m\u001b[1;33m\u001b[0m\u001b[1;33m\u001b[0m\u001b[0m\n\u001b[0;32m    636\u001b[0m \u001b[1;33m\u001b[0m\u001b[0m\n",
      "\u001b[1;32m~\\Anaconda3\\lib\\site-packages\\tensorflow\\python\\framework\\func_graph.py\u001b[0m in \u001b[0;36mwrapper\u001b[1;34m(*args, **kwargs)\u001b[0m\n\u001b[0;32m    975\u001b[0m           \u001b[1;32mexcept\u001b[0m \u001b[0mException\u001b[0m \u001b[1;32mas\u001b[0m \u001b[0me\u001b[0m\u001b[1;33m:\u001b[0m  \u001b[1;31m# pylint:disable=broad-except\u001b[0m\u001b[1;33m\u001b[0m\u001b[1;33m\u001b[0m\u001b[0m\n\u001b[0;32m    976\u001b[0m             \u001b[1;32mif\u001b[0m \u001b[0mhasattr\u001b[0m\u001b[1;33m(\u001b[0m\u001b[0me\u001b[0m\u001b[1;33m,\u001b[0m \u001b[1;34m\"ag_error_metadata\"\u001b[0m\u001b[1;33m)\u001b[0m\u001b[1;33m:\u001b[0m\u001b[1;33m\u001b[0m\u001b[1;33m\u001b[0m\u001b[0m\n\u001b[1;32m--> 977\u001b[1;33m               \u001b[1;32mraise\u001b[0m \u001b[0me\u001b[0m\u001b[1;33m.\u001b[0m\u001b[0mag_error_metadata\u001b[0m\u001b[1;33m.\u001b[0m\u001b[0mto_exception\u001b[0m\u001b[1;33m(\u001b[0m\u001b[0me\u001b[0m\u001b[1;33m)\u001b[0m\u001b[1;33m\u001b[0m\u001b[1;33m\u001b[0m\u001b[0m\n\u001b[0m\u001b[0;32m    978\u001b[0m             \u001b[1;32melse\u001b[0m\u001b[1;33m:\u001b[0m\u001b[1;33m\u001b[0m\u001b[1;33m\u001b[0m\u001b[0m\n\u001b[0;32m    979\u001b[0m               \u001b[1;32mraise\u001b[0m\u001b[1;33m\u001b[0m\u001b[1;33m\u001b[0m\u001b[0m\n",
      "\u001b[1;31mValueError\u001b[0m: in user code:\n\n    C:\\Users\\jafar\\Anaconda3\\lib\\site-packages\\tensorflow\\python\\keras\\engine\\training.py:1478 predict_function  *\n        return step_function(self, iterator)\n    C:\\Users\\jafar\\Anaconda3\\lib\\site-packages\\tensorflow\\python\\keras\\engine\\training.py:1468 step_function  **\n        outputs = model.distribute_strategy.run(run_step, args=(data,))\n    C:\\Users\\jafar\\Anaconda3\\lib\\site-packages\\tensorflow\\python\\distribute\\distribute_lib.py:1259 run\n        return self._extended.call_for_each_replica(fn, args=args, kwargs=kwargs)\n    C:\\Users\\jafar\\Anaconda3\\lib\\site-packages\\tensorflow\\python\\distribute\\distribute_lib.py:2730 call_for_each_replica\n        return self._call_for_each_replica(fn, args, kwargs)\n    C:\\Users\\jafar\\Anaconda3\\lib\\site-packages\\tensorflow\\python\\distribute\\distribute_lib.py:3417 _call_for_each_replica\n        return fn(*args, **kwargs)\n    C:\\Users\\jafar\\Anaconda3\\lib\\site-packages\\tensorflow\\python\\keras\\engine\\training.py:1461 run_step  **\n        outputs = model.predict_step(data)\n    C:\\Users\\jafar\\Anaconda3\\lib\\site-packages\\tensorflow\\python\\keras\\engine\\training.py:1434 predict_step\n        return self(x, training=False)\n    C:\\Users\\jafar\\Anaconda3\\lib\\site-packages\\tensorflow\\python\\keras\\engine\\base_layer.py:998 __call__\n        input_spec.assert_input_compatibility(self.input_spec, inputs, self.name)\n    C:\\Users\\jafar\\Anaconda3\\lib\\site-packages\\tensorflow\\python\\keras\\engine\\input_spec.py:274 assert_input_compatibility\n        ', found shape=' + display_shape(x.shape))\n\n    ValueError: Input 0 is incompatible with layer CVAE: expected shape=(None, 25, 25), found shape=(None, 1, 768)\n"
     ]
    }
   ],
   "source": [
    "print(np.shape(x_test2))\n",
    "t0=time.time()\n",
    "reconstructions2 = autoencoder.predict(x_test2)\n",
    "\n",
    "x_test_reshaped2 = np.reshape(x_test2, (x_test2.shape[0],-1)) \n",
    "print(np.shape(x_test_reshaped2))\n",
    "\n",
    "reconstructions_reshaped2 = np.reshape(reconstructions2, (reconstructions2.shape[0],-1)) \n",
    "\n",
    "test_loss2 = tf.keras.losses.mse(reconstructions_reshaped2, x_test_reshaped2)\n",
    "#print(np.shape(test_loss))\n",
    "\n",
    "plt.hist(test_loss2, bins=50)\n",
    "plt.xlabel(\"Test loss\")\n",
    "plt.ylabel(\"No of examples\")\n",
    "plt.show()\n",
    "print( time.time() - t0)\n",
    "test_loss2"
   ]
  },
  {
   "cell_type": "code",
   "execution_count": null,
   "metadata": {},
   "outputs": [],
   "source": []
  },
  {
   "cell_type": "code",
   "execution_count": 1662,
   "metadata": {},
   "outputs": [
    {
     "data": {
      "text/plain": [
       "(2001, 20)"
      ]
     },
     "execution_count": 1662,
     "metadata": {},
     "output_type": "execute_result"
    }
   ],
   "source": [
    "np.shape(conv_output)"
   ]
  },
  {
   "cell_type": "code",
   "execution_count": 454,
   "metadata": {},
   "outputs": [],
   "source": [
    "func = K.function([autoencoder.get_layer('input_8').input], autoencoder.get_layer('dense_52').output) # index=23\n",
    "conv_output = func(x_test) \n",
    "#conv_output"
   ]
  },
  {
   "cell_type": "code",
   "execution_count": 1868,
   "metadata": {},
   "outputs": [
    {
     "data": {
      "text/plain": [
       "('sovereign people responsibility amp desire reliant derives human dignity . dignity canot derived gov cradle grave schemes amp dependence mere tribal identity . true identity creator',\n",
       " 'left amp blindly follow sublime ignorance road sex amp forms human trafficking drug smuggling amp form degradation erasing citizenship individual amp national sovereignty . road intentions amp road serfdom .')"
      ]
     },
     "execution_count": 1868,
     "metadata": {},
     "output_type": "execute_result"
    }
   ],
   "source": [
    "texts[2000],texts[2835]"
   ]
  },
  {
   "cell_type": "code",
   "execution_count": 453,
   "metadata": {},
   "outputs": [],
   "source": [
    "a=conv_output[20] # for train"
   ]
  },
  {
   "cell_type": "code",
   "execution_count": 455,
   "metadata": {},
   "outputs": [],
   "source": [
    "b=conv_output[200]"
   ]
  },
  {
   "cell_type": "code",
   "execution_count": 461,
   "metadata": {},
   "outputs": [
    {
     "data": {
      "text/plain": [
       "23.024239"
      ]
     },
     "execution_count": 461,
     "metadata": {},
     "output_type": "execute_result"
    }
   ],
   "source": [
    "np.linalg.norm(a-conv_output[20])"
   ]
  },
  {
   "cell_type": "code",
   "execution_count": 462,
   "metadata": {},
   "outputs": [
    {
     "name": "stdout",
     "output_type": "stream",
     "text": [
      "0.5708503127098083\n",
      "0.45175701379776\n",
      "0.35338667035102844\n",
      "0.20746617019176483\n"
     ]
    }
   ],
   "source": [
    "from scipy.spatial.distance import cosine\n",
    "\n",
    "print(1 - cosine(conv_output[55], conv_output[2000]) )\n",
    "print(1 - cosine(conv_output[55], a))\n",
    "print(1 - cosine(conv_output[200], a ))\n",
    "print(1 - cosine(conv_output[2000], conv_output[835]) )"
   ]
  },
  {
   "cell_type": "code",
   "execution_count": 465,
   "metadata": {},
   "outputs": [],
   "source": [
    "func1 = K.function([autoencoder.get_layer('input_8').input], autoencoder.get_layer('dense_53').output) # index=23\n",
    "conv_output1 = func1(x_test) "
   ]
  },
  {
   "cell_type": "code",
   "execution_count": 464,
   "metadata": {},
   "outputs": [],
   "source": [
    "a1=conv_output1[20]"
   ]
  },
  {
   "cell_type": "code",
   "execution_count": 469,
   "metadata": {},
   "outputs": [
    {
     "data": {
      "text/plain": [
       "4.4961147"
      ]
     },
     "execution_count": 469,
     "metadata": {},
     "output_type": "execute_result"
    }
   ],
   "source": [
    "np.linalg.norm(a1-conv_output1[200])"
   ]
  },
  {
   "cell_type": "code",
   "execution_count": 470,
   "metadata": {},
   "outputs": [
    {
     "name": "stdout",
     "output_type": "stream",
     "text": [
      "0.5590571761131287\n",
      "0.5348398685455322\n",
      "0.2820291817188263\n",
      "0.12689349055290222\n"
     ]
    }
   ],
   "source": [
    "print(1 - cosine(conv_output1[55], conv_output1[2000]) )\n",
    "print(1 - cosine(conv_output1[55], a1))\n",
    "print(1 - cosine(conv_output1[200], a1))\n",
    "print(1 - cosine(conv_output1[2000], conv_output1[835]) )"
   ]
  },
  {
   "cell_type": "code",
   "execution_count": 479,
   "metadata": {},
   "outputs": [],
   "source": [
    "func2 = K.function([autoencoder.get_layer('input_8').input], autoencoder.get_layer('dense_54').output) # index=23\n",
    "conv_output2 = func2(x_test) "
   ]
  },
  {
   "cell_type": "code",
   "execution_count": 478,
   "metadata": {},
   "outputs": [],
   "source": [
    "a2=conv_output2[20]"
   ]
  },
  {
   "cell_type": "code",
   "execution_count": 490,
   "metadata": {},
   "outputs": [
    {
     "data": {
      "text/plain": [
       "3.521377"
      ]
     },
     "execution_count": 490,
     "metadata": {},
     "output_type": "execute_result"
    }
   ],
   "source": [
    "np.linalg.norm(a2-conv_output2[200])"
   ]
  },
  {
   "cell_type": "code",
   "execution_count": 481,
   "metadata": {},
   "outputs": [
    {
     "name": "stdout",
     "output_type": "stream",
     "text": [
      "0.6495592594146729\n",
      "0.6184407472610474\n",
      "0.3839885890483856\n",
      "0.18407268822193146\n"
     ]
    }
   ],
   "source": [
    "print(1 - cosine(conv_output2[55], conv_output2[2000]) )\n",
    "print(1 - cosine(conv_output2[55], a2))\n",
    "print(1 - cosine(conv_output2[200], a2 ))\n",
    "print(1 - cosine(conv_output2[2000], conv_output2[835]) )"
   ]
  },
  {
   "cell_type": "code",
   "execution_count": null,
   "metadata": {},
   "outputs": [],
   "source": []
  },
  {
   "cell_type": "code",
   "execution_count": 485,
   "metadata": {},
   "outputs": [],
   "source": [
    "func3 = K.function([autoencoder.get_layer('input_8').input], autoencoder.get_layer('dense_55').output) # index=23\n",
    "conv_output3 = func3(x_test) "
   ]
  },
  {
   "cell_type": "code",
   "execution_count": 484,
   "metadata": {},
   "outputs": [],
   "source": [
    "a3=conv_output3[20]"
   ]
  },
  {
   "cell_type": "code",
   "execution_count": 491,
   "metadata": {},
   "outputs": [
    {
     "data": {
      "text/plain": [
       "2.9144344"
      ]
     },
     "execution_count": 491,
     "metadata": {},
     "output_type": "execute_result"
    }
   ],
   "source": [
    "np.linalg.norm(a3-conv_output3[200])"
   ]
  },
  {
   "cell_type": "code",
   "execution_count": 487,
   "metadata": {},
   "outputs": [
    {
     "name": "stdout",
     "output_type": "stream",
     "text": [
      "0.6601640582084656\n",
      "0.6673491597175598\n",
      "0.36744484305381775\n",
      "0.2436715066432953\n"
     ]
    }
   ],
   "source": [
    "print(1 - cosine(conv_output3[55], conv_output3[2000]) )\n",
    "print(1 - cosine(conv_output3[55], a3))\n",
    "print(1 - cosine(conv_output3[200], a3 ))\n",
    "print(1 - cosine(conv_output3[2000], conv_output3[835]) )"
   ]
  },
  {
   "cell_type": "code",
   "execution_count": 493,
   "metadata": {},
   "outputs": [
    {
     "data": {
      "text/plain": [
       "'time market'"
      ]
     },
     "execution_count": 493,
     "metadata": {},
     "output_type": "execute_result"
    }
   ],
   "source": [
    "seed_ent2[20]"
   ]
  },
  {
   "cell_type": "code",
   "execution_count": 489,
   "metadata": {},
   "outputs": [
    {
     "data": {
      "text/plain": [
       "(<tf.Tensor: shape=(), dtype=float32, numpy=0.013736018>,\n",
       " <tf.Tensor: shape=(), dtype=float32, numpy=0.03094145>)"
      ]
     },
     "execution_count": 489,
     "metadata": {},
     "output_type": "execute_result"
    }
   ],
   "source": [
    "test_loss[200],train_loss[20]"
   ]
  },
  {
   "cell_type": "code",
   "execution_count": null,
   "metadata": {},
   "outputs": [],
   "source": []
  },
  {
   "cell_type": "code",
   "execution_count": 304,
   "metadata": {},
   "outputs": [
    {
     "data": {
      "text/plain": [
       "(2.6894426345825195, 2.3884826)"
      ]
     },
     "execution_count": 304,
     "metadata": {},
     "output_type": "execute_result"
    }
   ],
   "source": [
    "from scipy.spatial import distance\n",
    "dst = distance.euclidean(conv_output[1], conv_output[4])\n",
    "dist = np.linalg.norm(conv_output[0]-conv_output[5])\n",
    "dst,dist"
   ]
  },
  {
   "cell_type": "code",
   "execution_count": 260,
   "metadata": {},
   "outputs": [
    {
     "name": "stdout",
     "output_type": "stream",
     "text": [
      "(2, 20, 768)\n",
      "0.06979703903198242\n"
     ]
    }
   ],
   "source": [
    "text1=['hat song','work team']\n",
    "a1=embedder2(text1)"
   ]
  },
  {
   "cell_type": "code",
   "execution_count": 334,
   "metadata": {},
   "outputs": [
    {
     "ename": "NameError",
     "evalue": "name 'text1' is not defined",
     "output_type": "error",
     "traceback": [
      "\u001b[1;31m---------------------------------------------------------------------------\u001b[0m",
      "\u001b[1;31mNameError\u001b[0m                                 Traceback (most recent call last)",
      "\u001b[1;32m<ipython-input-334-d2e9e56e3c4d>\u001b[0m in \u001b[0;36m<module>\u001b[1;34m\u001b[0m\n\u001b[0;32m      1\u001b[0m \u001b[1;32mfrom\u001b[0m \u001b[0mscipy\u001b[0m\u001b[1;33m.\u001b[0m\u001b[0mspatial\u001b[0m\u001b[1;33m.\u001b[0m\u001b[0mdistance\u001b[0m \u001b[1;32mimport\u001b[0m \u001b[0mcosine\u001b[0m\u001b[1;33m\u001b[0m\u001b[1;33m\u001b[0m\u001b[0m\n\u001b[1;32m----> 2\u001b[1;33m \u001b[0mprint\u001b[0m\u001b[1;33m(\u001b[0m\u001b[0mtext1\u001b[0m\u001b[1;33m[\u001b[0m\u001b[1;36m0\u001b[0m\u001b[1;33m]\u001b[0m\u001b[1;33m[\u001b[0m\u001b[1;36m7\u001b[0m\u001b[1;33m]\u001b[0m\u001b[1;33m,\u001b[0m\u001b[0mtext1\u001b[0m\u001b[1;33m[\u001b[0m\u001b[1;36m1\u001b[0m\u001b[1;33m]\u001b[0m\u001b[1;33m[\u001b[0m\u001b[1;36m8\u001b[0m\u001b[1;33m]\u001b[0m\u001b[1;33m)\u001b[0m\u001b[1;33m\u001b[0m\u001b[1;33m\u001b[0m\u001b[0m\n\u001b[0m\u001b[0;32m      3\u001b[0m \u001b[0mprint\u001b[0m\u001b[1;33m(\u001b[0m\u001b[1;36m1\u001b[0m \u001b[1;33m-\u001b[0m \u001b[0mcosine\u001b[0m\u001b[1;33m(\u001b[0m\u001b[0ma1\u001b[0m\u001b[1;33m[\u001b[0m\u001b[1;36m0\u001b[0m\u001b[1;33m]\u001b[0m\u001b[1;33m[\u001b[0m\u001b[1;36m0\u001b[0m\u001b[1;33m]\u001b[0m\u001b[1;33m,\u001b[0m \u001b[0ma1\u001b[0m\u001b[1;33m[\u001b[0m\u001b[1;36m1\u001b[0m\u001b[1;33m]\u001b[0m\u001b[1;33m[\u001b[0m\u001b[1;36m0\u001b[0m\u001b[1;33m]\u001b[0m\u001b[1;33m)\u001b[0m \u001b[1;33m)\u001b[0m\u001b[1;33m\u001b[0m\u001b[1;33m\u001b[0m\u001b[0m\n\u001b[0;32m      4\u001b[0m \u001b[0mprint\u001b[0m\u001b[1;33m(\u001b[0m\u001b[1;36m1\u001b[0m \u001b[1;33m-\u001b[0m \u001b[0mcosine\u001b[0m\u001b[1;33m(\u001b[0m\u001b[0ma1\u001b[0m\u001b[1;33m[\u001b[0m\u001b[1;36m0\u001b[0m\u001b[1;33m]\u001b[0m\u001b[1;33m[\u001b[0m\u001b[1;36m1\u001b[0m\u001b[1;33m]\u001b[0m\u001b[1;33m,\u001b[0m \u001b[0ma1\u001b[0m\u001b[1;33m[\u001b[0m\u001b[1;36m1\u001b[0m\u001b[1;33m]\u001b[0m\u001b[1;33m[\u001b[0m\u001b[1;36m1\u001b[0m\u001b[1;33m]\u001b[0m\u001b[1;33m)\u001b[0m \u001b[1;33m)\u001b[0m\u001b[1;33m\u001b[0m\u001b[1;33m\u001b[0m\u001b[0m\n\u001b[0;32m      5\u001b[0m \u001b[0mprint\u001b[0m\u001b[1;33m(\u001b[0m\u001b[1;36m1\u001b[0m \u001b[1;33m-\u001b[0m \u001b[0mcosine\u001b[0m\u001b[1;33m(\u001b[0m\u001b[0ma1\u001b[0m\u001b[1;33m[\u001b[0m\u001b[1;36m0\u001b[0m\u001b[1;33m]\u001b[0m\u001b[1;33m[\u001b[0m\u001b[1;36m2\u001b[0m\u001b[1;33m]\u001b[0m\u001b[1;33m,\u001b[0m \u001b[0ma1\u001b[0m\u001b[1;33m[\u001b[0m\u001b[1;36m1\u001b[0m\u001b[1;33m]\u001b[0m\u001b[1;33m[\u001b[0m\u001b[1;36m2\u001b[0m\u001b[1;33m]\u001b[0m\u001b[1;33m)\u001b[0m \u001b[1;33m)\u001b[0m\u001b[1;33m\u001b[0m\u001b[1;33m\u001b[0m\u001b[0m\n",
      "\u001b[1;31mNameError\u001b[0m: name 'text1' is not defined"
     ]
    }
   ],
   "source": [
    "from scipy.spatial.distance import cosine\n",
    "print(text1[0][7],text1[1][8])\n",
    "print(1 - cosine(a1[0][0], a1[1][0]) )\n",
    "print(1 - cosine(a1[0][1], a1[1][1]) )\n",
    "print(1 - cosine(a1[0][2], a1[1][2]) )\n",
    "print(1 - cosine(a1[0][3], a1[1][3]) )\n",
    "print(1 - cosine(a1[0][4], a1[1][4]) )\n",
    "print(1 - cosine(a1[0][5], a1[1][18]) )\n",
    "print(1 - cosine(a1[0][19], a1[1][19]) )"
   ]
  },
  {
   "cell_type": "code",
   "execution_count": 329,
   "metadata": {},
   "outputs": [],
   "source": [
    "a1=['team work']\n",
    "a2=['hated song']"
   ]
  },
  {
   "cell_type": "code",
   "execution_count": 333,
   "metadata": {},
   "outputs": [
    {
     "name": "stdout",
     "output_type": "stream",
     "text": [
      "(1, 20, 768)\n",
      "0.049430131912231445\n",
      "(1, 20, 768)\n",
      "0.036902427673339844\n",
      "(1, 20, 768)\n",
      "0.019643783569335938\n",
      "(1, 20, 768)\n",
      "0.05220937728881836\n",
      "(1, 20, 768)\n",
      "0.04548144340515137\n",
      "(1, 20, 768)\n",
      "0.021014690399169922\n"
     ]
    }
   ],
   "source": [
    "ans1=embedder(a1)\n",
    "ans2=embedder2(a1)\n",
    "ans0=embedder0(a1)\n",
    "bns1=embedder(a2)\n",
    "bns2=embedder2(a2)\n",
    "bns0=embedder0(a2)"
   ]
  },
  {
   "cell_type": "code",
   "execution_count": 357,
   "metadata": {},
   "outputs": [
    {
     "data": {
      "text/plain": [
       "array([], shape=(0, 3), dtype=int64)"
      ]
     },
     "execution_count": 357,
     "metadata": {},
     "output_type": "execute_result"
    }
   ],
   "source": [
    "np.argwhere(np.isnan(bns0))"
   ]
  },
  {
   "cell_type": "code",
   "execution_count": 362,
   "metadata": {},
   "outputs": [
    {
     "name": "stdout",
     "output_type": "stream",
     "text": [
      "0.45770159363746643\n",
      "0.35634854435920715\n",
      "0.3105013072490692\n",
      "0.3177756667137146\n",
      "0.7120208740234375\n",
      "0.7404587268829346\n",
      "\n",
      "0.9911509156227112\n",
      "0.5502008199691772\n",
      "0.33191806077957153\n",
      "0.3362172842025757\n",
      "0.9181116819381714\n",
      "0.9677206873893738\n",
      "\n",
      "0.44497671723365784\n",
      "0.3434632420539856\n",
      "nan\n",
      "nan\n",
      "nan\n",
      "nan\n"
     ]
    }
   ],
   "source": [
    "print(1 - cosine(ans1[0][0], bns2[0][0]))\n",
    "print(1 - cosine(ans1[0][0], bns2[0][1]))\n",
    "print(1 - cosine(ans1[0][0], bns2[0][3]))\n",
    "print(1 - cosine(ans1[0][0], bns2[0][4]))\n",
    "print(1 - cosine(ans1[0][4], bns2[0][19]))\n",
    "print(1 - cosine(ans1[0][19], bns2[0][19]))\n",
    "print()\n",
    "print(1 - cosine(ans1[0][0], ans2[0][0]))\n",
    "print(1 - cosine(ans1[0][0], ans2[0][1]))\n",
    "print(1 - cosine(ans1[0][0], ans2[0][3]))\n",
    "print(1 - cosine(ans1[0][0], ans2[0][4]))\n",
    "print(1 - cosine(ans1[0][4], ans2[0][19]))\n",
    "print(1 - cosine(ans1[0][19], ans2[0][19]))\n",
    "print()\n",
    "print(1 - cosine(bns0[0][0], ans0[0][0]))\n",
    "print(1 - cosine(bns0[0][0], ans0[0][1]))\n",
    "print(1 - cosine(bns0[0][0], ans0[0][3]))\n",
    "print(1 - cosine(bns0[0][0], ans0[0][4]))\n",
    "print(1 - cosine(bns0[0][4], ans0[0][19]))\n",
    "print(1 - cosine(bns0[0][19], ans0[0][19]))\n"
   ]
  },
  {
   "cell_type": "code",
   "execution_count": null,
   "metadata": {},
   "outputs": [],
   "source": []
  },
  {
   "cell_type": "code",
   "execution_count": null,
   "metadata": {},
   "outputs": [],
   "source": []
  },
  {
   "cell_type": "code",
   "execution_count": null,
   "metadata": {},
   "outputs": [],
   "source": []
  },
  {
   "cell_type": "code",
   "execution_count": null,
   "metadata": {},
   "outputs": [],
   "source": []
  },
  {
   "cell_type": "code",
   "execution_count": null,
   "metadata": {},
   "outputs": [],
   "source": []
  },
  {
   "cell_type": "code",
   "execution_count": 450,
   "metadata": {},
   "outputs": [
    {
     "data": {
      "text/plain": [
       "[<KerasTensor: shape=(None, 25, 25) dtype=float32 (created by layer 'input_8')>,\n",
       " <KerasTensor: shape=(None, 625) dtype=float32 (created by layer 'flatten_7')>,\n",
       " <KerasTensor: shape=(None, 450) dtype=float32 (created by layer 'dense_52')>,\n",
       " <KerasTensor: shape=(None, 150) dtype=float32 (created by layer 'dense_53')>,\n",
       " <KerasTensor: shape=(None, 50) dtype=float32 (created by layer 'dense_54')>,\n",
       " <KerasTensor: shape=(None, 14) dtype=float32 (created by layer 'dense_55')>,\n",
       " <KerasTensor: shape=(None, 50) dtype=float32 (created by layer 'dense_56')>,\n",
       " <KerasTensor: shape=(None, 150) dtype=float32 (created by layer 'dense_57')>,\n",
       " <KerasTensor: shape=(None, 450) dtype=float32 (created by layer 'dense_58')>,\n",
       " <KerasTensor: shape=(None, 625) dtype=float32 (created by layer 'dense_59')>,\n",
       " <KerasTensor: shape=(None, 25, 25) dtype=float32 (created by layer 'reshape_9')>,\n",
       " <KerasTensor: shape=(None, 25, 25) dtype=float32 (created by layer 'tf.convert_to_tensor_4')>,\n",
       " <KerasTensor: shape=(None, 25, 25) dtype=float32 (created by layer 'tf.cast_4')>,\n",
       " <KerasTensor: shape=(None, 25, 25) dtype=float32 (created by layer 'tf.math.squared_difference_4')>,\n",
       " <KerasTensor: shape=(None, 25) dtype=float32 (created by layer 'tf.math.reduce_mean_11')>,\n",
       " <KerasTensor: shape=(None,) dtype=float32 (created by layer 'tf.math.reduce_mean_12')>,\n",
       " <KerasTensor: shape=() dtype=float32 (created by layer 'tf.math.reduce_mean_13')>,\n",
       " <KerasTensor: shape=() dtype=float32 (created by layer 'add_loss_3')>]"
      ]
     },
     "execution_count": 450,
     "metadata": {},
     "output_type": "execute_result"
    }
   ],
   "source": [
    "outputs = [layer.output for layer in autoencoder.layers]          # all layer outputs\n",
    "outputs"
   ]
  },
  {
   "cell_type": "code",
   "execution_count": 212,
   "metadata": {},
   "outputs": [
    {
     "data": {
      "text/plain": [
       "(4, 19, 1, 20)"
      ]
     },
     "execution_count": 212,
     "metadata": {},
     "output_type": "execute_result"
    }
   ],
   "source": [
    "\n",
    "# with a Sequential model\n",
    "get_3rd_layer_output = K.function([autoencoder.layers[0].input],\n",
    "                                  [autoencoder.layers[3].output])\n",
    "layer_output = get_3rd_layer_output([x_test2])[0]\n",
    "np.shape(layer_output)"
   ]
  },
  {
   "cell_type": "code",
   "execution_count": 252,
   "metadata": {},
   "outputs": [],
   "source": [
    "#autoencoder.layers[1].output.get_shape()\n",
    "#autoencoder.layers[1].output\n",
    "#autoencoder.layers[0]._name\n",
    "#conv_weights = autoencoder.get_layer('conv2d_31').get_weights()  # numpy array"
   ]
  },
  {
   "cell_type": "code",
   "execution_count": 242,
   "metadata": {},
   "outputs": [],
   "source": [
    "#create new model\n",
    "layer_output=autoencoder.get_layer(index=3).output   #layer_output=model.get_layer(layer_name).output\n",
    "intermediate_model=tf.keras.models.Model(inputs=autoencoder.input,outputs=layer_output)\n",
    "intermediate_prediction=intermediate_model.predict(x_test2)"
   ]
  },
  {
   "cell_type": "code",
   "execution_count": 254,
   "metadata": {},
   "outputs": [
    {
     "data": {
      "text/plain": [
       "array([[ 1.7650081e-01,  2.8579620e-01,  6.9967991e-01, -6.2938428e-01,\n",
       "         8.6302567e-01, -1.2203450e+00, -1.3634030e+00, -9.9799627e-01,\n",
       "         8.9768344e-01,  2.2071769e+00],\n",
       "       [-1.0538758e+00, -7.2922969e-01,  4.2215452e-02,  2.8998899e-01,\n",
       "        -1.6720887e+00, -1.1855352e+00, -9.4671112e-01,  1.0533788e+00,\n",
       "         1.8272312e-01,  4.5969564e-01],\n",
       "       [-1.7218441e+00,  1.8279363e-01, -1.3969603e+00, -1.4551117e-03,\n",
       "         1.1530080e+00, -6.0003912e-01,  1.3282999e+00,  2.5271830e-01,\n",
       "        -3.0976474e-01, -1.4425912e+00],\n",
       "       [-3.4123026e-02, -2.9204721e+00, -1.3632357e-01,  2.5320413e+00,\n",
       "         9.6690679e-01,  8.8957262e-01, -6.7900223e-01,  1.3935624e+00,\n",
       "        -1.2844133e-01, -1.3498430e-01]], dtype=float32)"
      ]
     },
     "execution_count": 254,
     "metadata": {},
     "output_type": "execute_result"
    }
   ],
   "source": [
    "func = K.function([autoencoder.get_layer('input_6').input], autoencoder.get_layer('sampling_5').output)\n",
    "conv_output = func([x_test2]) \n",
    "conv_output"
   ]
  },
  {
   "cell_type": "code",
   "execution_count": 244,
   "metadata": {},
   "outputs": [],
   "source": [
    "#To print the output of a single layer:\n",
    "from tensorflow.keras import backend as K\n",
    "layerIndex = 1\n",
    "func = K.function([autoencoder.get_layer(index=0).input], autoencoder.get_layer(index=layerIndex).output)\n",
    "layerOutput = func([x_test2])  # input_data is a numpy array\n",
    "#print(layerOutput)"
   ]
  },
  {
   "cell_type": "code",
   "execution_count": 243,
   "metadata": {},
   "outputs": [],
   "source": [
    "# To print output of every layer:\n",
    "from tensorflow.keras import backend as K\n",
    "for layerIndex, layer in enumerate(autoencoder.layers):\n",
    "    func = K.function([autoencoder.get_layer(index=0).input], layer.output)\n",
    "    layerOutput = func([x_test2])  # input_data is a numpy array\n",
    "#    print(layerOutput)"
   ]
  },
  {
   "cell_type": "code",
   "execution_count": null,
   "metadata": {},
   "outputs": [],
   "source": []
  }
 ],
 "metadata": {
  "kernelspec": {
   "display_name": "Python 3",
   "language": "python",
   "name": "python3"
  },
  "language_info": {
   "codemirror_mode": {
    "name": "ipython",
    "version": 3
   },
   "file_extension": ".py",
   "mimetype": "text/x-python",
   "name": "python",
   "nbconvert_exporter": "python",
   "pygments_lexer": "ipython3",
   "version": "3.7.4"
  }
 },
 "nbformat": 4,
 "nbformat_minor": 4
}
