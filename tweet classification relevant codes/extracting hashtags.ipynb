{
 "cells": [
  {
   "cell_type": "code",
   "execution_count": 1,
   "metadata": {},
   "outputs": [],
   "source": [
    "import re\n",
    "import pickle\n",
    "\n",
    "import torch\n",
    "from transformers import BertTokenizer, BertModel\n",
    "from transformers import DistilBertTokenizer, DistilBertModel"
   ]
  },
  {
   "cell_type": "code",
   "execution_count": 2,
   "metadata": {},
   "outputs": [],
   "source": [
    "#accessing to tweets \n",
    "with open(\"tweet_ent.txt\", \"rb\") as fp:   # Unpickling\n",
    "  tweet_ent = pickle.load(fp)\n",
    "  \n",
    "with open(\"tweet_mng.txt\", \"rb\") as fp:   # Unpickling\n",
    "  tweet_mng = pickle.load(fp)"
   ]
  },
  {
   "cell_type": "code",
   "execution_count": null,
   "metadata": {},
   "outputs": [],
   "source": []
  },
  {
   "cell_type": "code",
   "execution_count": 24,
   "metadata": {},
   "outputs": [],
   "source": [
    "ent_hash_num=0\n",
    "ent_hash_tweet=[]\n",
    "for tweet in tweet_ent:\n",
    "    ans=[i  for i in tweet.split() if i.startswith(\"#\") ]\n",
    "    if ans!=[]:\n",
    "        ent_hash_tweet.append(ans)\n",
    "        ent_hash +=1"
   ]
  },
  {
   "cell_type": "code",
   "execution_count": 25,
   "metadata": {},
   "outputs": [],
   "source": [
    "mng_hash_num=0\n",
    "mng_hash_tweet=[]\n",
    "for tweet in tweet_mng:\n",
    "    ans=[i  for i in tweet.split() if i.startswith(\"#\") ]\n",
    "    mng_hash_tweet.append(ans)\n",
    "    if ans!=[]:\n",
    "        mng_hash +=1"
   ]
  },
  {
   "cell_type": "code",
   "execution_count": null,
   "metadata": {},
   "outputs": [],
   "source": [
    "#tokenizer = BertTokenizer.from_pretrained('bert-base-uncased')\n",
    "#model = BertModel.from_pretrained('bert-base-uncased', output_hidden_states = True) "
   ]
  },
  {
   "cell_type": "code",
   "execution_count": null,
   "metadata": {},
   "outputs": [],
   "source": [
    "tokenizer = DistilBertTokenizer.from_pretrained('distilbert-base-uncased')\n",
    "model = DistilBertModel.from_pretrained('distilbert-base-uncased')"
   ]
  },
  {
   "cell_type": "code",
   "execution_count": null,
   "metadata": {},
   "outputs": [],
   "source": [
    "#for each tweet create a list of hashtags\n",
    "#for each tweet, find the embedding vector for each hashtag(without #) in the tweet. and store all of a them in a list  \n",
    "#Finally we have to lists: one for hashtags of tweets and one for thier embedding vectors. \n",
    "#e.g. tweet_ent_hash=[ [ hashtags of tweet 1], [hashtags of tweet 4,], ......]\n",
    "#e.g. embedding_ent_hash=[[vecotos for hashtags of tweet 1], [vecotos for hashtags of tweet 4], ......]"
   ]
  },
  {
   "cell_type": "code",
   "execution_count": null,
   "metadata": {},
   "outputs": [],
   "source": []
  },
  {
   "cell_type": "code",
   "execution_count": null,
   "metadata": {},
   "outputs": [],
   "source": []
  },
  {
   "cell_type": "code",
   "execution_count": null,
   "metadata": {},
   "outputs": [],
   "source": []
  }
 ],
 "metadata": {
  "kernelspec": {
   "display_name": "Python 3",
   "language": "python",
   "name": "python3"
  },
  "language_info": {
   "codemirror_mode": {
    "name": "ipython",
    "version": 3
   },
   "file_extension": ".py",
   "mimetype": "text/x-python",
   "name": "python",
   "nbconvert_exporter": "python",
   "pygments_lexer": "ipython3",
   "version": "3.7.4"
  }
 },
 "nbformat": 4,
 "nbformat_minor": 4
}
