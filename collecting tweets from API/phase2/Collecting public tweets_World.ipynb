{
 "cells": [
  {
   "cell_type": "code",
   "execution_count": 1,
   "metadata": {},
   "outputs": [],
   "source": [
    "import tweepy\n",
    "import pandas\n",
    "import csv\n",
    "import re #regular expression\n",
    "import nltk\n",
    "from nltk.corpus import stopwords\n",
    "##nltk.download('stopwords')# Download stopwords\n",
    "from textblob import TextBlob\n",
    "import sys\n",
    "import re #regular expression\n",
    "import psycopg2\n",
    "import time\n",
    "import numpy as np"
   ]
  },
  {
   "cell_type": "code",
   "execution_count": 2,
   "metadata": {},
   "outputs": [],
   "source": [
    "from nltk.corpus import stopwords\n",
    "cachedStopWords = stopwords.words(\"english\")"
   ]
  },
  {
   "cell_type": "code",
   "execution_count": 3,
   "metadata": {},
   "outputs": [],
   "source": [
    "consumer_key = '1QRIUdf4Sx4xdMDc46nQ6vYZ3'\n",
    "consumer_secret = '5tEVf8mm8dUjYftXiae9QERBDFiKXrVSWkjRm2jpfBNy0NRm1Q'\n",
    "access_token = '1191719379186192384-Gn0pBMspYGX2BCQxqyZACjNtAQ67YL'\n",
    "access_secret = 'WuVwxRsXdw9gtTK1OTWK7McCtAC7l8Y0BSfYEUhcYEWv0'\n",
    "access_token_secret=access_secret\n",
    "\n",
    "auth = tweepy.OAuthHandler(consumer_key, consumer_secret)\n",
    "auth.set_access_token(access_token, access_token_secret)\n",
    "api = tweepy.API(auth, wait_on_rate_limit=True,wait_on_rate_limit_notify=True )\n",
    "\n",
    "non_bmp_map = dict.fromkeys(range(0x10000, sys.maxunicode + 1), 0xfffd)\n",
    "##print(x.translate(non_bmp_map))"
   ]
  },
  {
   "cell_type": "code",
   "execution_count": 4,
   "metadata": {},
   "outputs": [],
   "source": [
    "def cleaning (text):\n",
    "    \n",
    "    emoji_pattern = re.compile(\"[\"\n",
    "                               u\"\\U0001F600-\\U0001F64F\"  # emoticons\n",
    "                               u\"\\U0001F300-\\U0001F5FF\"  # symbols & pictographs\n",
    "                               u\"\\U0001F680-\\U0001F6FF\"  # transport & map symbols\n",
    "                               u\"\\U0001F1E0-\\U0001F1FF\"  # flags (iOS)\n",
    "                               u\"\\U00002702-\\U000027B0\"\n",
    "                               u\"\\U000024C2-\\U0001F251\"\n",
    "                               u\"\\U0001f926-\\U0001f937\"\n",
    "                               u\"\\u2640-\\u2642\"\n",
    "                               u\"\\u2600-\\u2B55\"\n",
    "                               u\"\\u23cf\"\n",
    "                               u\"\\u23e9\"\n",
    "                               u\"\\u231a\"\n",
    "                               u\"\\u3030\"\n",
    "                               \"]+\", flags=re.UNICODE)\n",
    "    #removing emoji\n",
    "    text = emoji_pattern.sub(r' ', text)   \n",
    "\n",
    "    #removeing http and https (URL)\n",
    "    text = re.sub(r'(http://|https://)\\S+', '', text)\n",
    "    \n",
    "    #removing www (URL)\n",
    "    text=re.sub(r'www\\.\\S+', '', text)\n",
    "    \n",
    "    #removing targets\n",
    "    text=re.sub('( |^)@\\S+', '', text) \n",
    "    \n",
    "    #removing tabs and lines\n",
    "    text=re.sub('\\t|\\n', ' ', text)\n",
    "\n",
    "    #removing some special charachter  \n",
    "    text= re.sub(\"[\\\"\\“\\”\\+\\-\\|\\*\\?\\(\\)\\/\\\\\\^\\[\\]\\.{}_`;•«,@:~!=%&]+\", ' ',text) # except ' ’\n",
    "    \n",
    "    #removing hashtag\n",
    "    text=re.sub('#', '', text) \n",
    "    \n",
    "    #removing numbers\n",
    "    text=re.sub(\"(\\d+)\",' ',text)\n",
    "#    print(text)\n",
    "    #removing numbers (not attached)\n",
    "#    text=re.sub(r\"(^|\\s)-?(\\d+)\\.?(\\d*)(\\s)\", '', text)\n",
    "#    text=re.sub(\"(^||\\d+)\\.(\\d+) \",'',text)\n",
    "#    text=re.sub(\"[0-9+]\\.?(\\d+)(\\.)\",' ',text)\n",
    "#    text=re.sub(\"[0-9+]\\.?(\\d+)($)\",' ',text)\n",
    "#    print(text)\n",
    "    \n",
    "#    return text\n",
    "\n",
    "#def lower_case (text):\n",
    "    text = text.lower() \n",
    "#    print(text)\n",
    "#    return text_lower\n",
    "\n",
    "#def tokenization (text):\n",
    "    text= nltk.word_tokenize(text)\n",
    "#    print (text)\n",
    "#    return text_tokens\n",
    "\n",
    "#def removing_stopwords (text):\n",
    "    #text_without_sw = [word.lower() for word in text if word.lower() not in stopwords.words()]\n",
    "#    text = [word for word in text if word not in stopwords.words()]\n",
    "    text = [word for word in text if word not in cachedStopWords]\n",
    "#    print(text)\n",
    "#    return text_without_sw\n",
    "\n",
    "  \n",
    "    text=' '.join(text)\n",
    "#    print(text)\n",
    "#    print(text,'\\n')   \n",
    "    \n",
    "    return text"
   ]
  },
  {
   "cell_type": "code",
   "execution_count": null,
   "metadata": {},
   "outputs": [],
   "source": []
  },
  {
   "cell_type": "code",
   "execution_count": 6,
   "metadata": {},
   "outputs": [],
   "source": [
    "search_term = \"* \"\n",
    "##search_term = \"'#entrepreneur' OR business owner'' OR 'founded' OR 'founder'  -filter:retweets\"\n",
    "tweets = tweepy.Cursor(api.search,\n",
    "                       q=search_term,\n",
    "                       result_type=\"recent\",\n",
    "                       lang=\"en\",\n",
    "                       tweet_mode=\"extended\",\n",
    "                       ).items() "
   ]
  },
  {
   "cell_type": "code",
   "execution_count": 7,
   "metadata": {},
   "outputs": [],
   "source": [
    "KEYWORDS_list=['manager','entrepreneur','management','founder','founded' ,'business owner']\n",
    "n_total=0"
   ]
  },
  {
   "cell_type": "code",
   "execution_count": null,
   "metadata": {},
   "outputs": [
    {
     "name": "stderr",
     "output_type": "stream",
     "text": [
      "Rate limit reached. Sleeping for: 623\n",
      "Rate limit reached. Sleeping for: 649\n",
      "Rate limit reached. Sleeping for: 732\n"
     ]
    }
   ],
   "source": [
    "# Collecting target tweets\n",
    "for tweet in tweets:\n",
    "\n",
    "##    print(tweet.full_text.translate(non_bmp_map))\n",
    "##    print(tweet.user.screen_name.translate(non_bmp_map))\n",
    "##    print()\n",
    "\n",
    "##    #Create a sublist of lower case words for each tweet\n",
    "##    words_in_tweet = [tweet.full_tetx.lower().split() for tweet in tweets]\n",
    "\n",
    "    words_in_description=cleaning(tweet.user.description)\n",
    "##    key__words=['entrepreneur','founder','founded','business owner']\n",
    "##    if set(key__words) & set(words_in_description.split(' ')):\n",
    "\n",
    "    Istarget=1\n",
    "    for KEY in KEYWORDS_list:\n",
    "        if KEY in words_in_description:\n",
    "            Istarget=0\n",
    "    if Istarget==1:\n",
    "        n_total +=1\n",
    "            \n",
    "        data1= [tweet.user.screen_name.translate(non_bmp_map),\n",
    "               tweet.user.name.translate(non_bmp_map),\n",
    "               tweet.user.id,\n",
    "               tweet.full_text.translate(non_bmp_map),\n",
    "               cleaning(tweet.full_text),\n",
    "               tweet.lang,\n",
    "               tweet.created_at,\n",
    "               tweet.user.location.translate(non_bmp_map),\n",
    "               tweet.user.description,\n",
    "               str(tweet._json)]\n",
    "\n",
    "        conn = psycopg2.connect(\"host=localhost dbname=postgres user=postgres password=Jafarsql\")\n",
    "        cur = conn.cursor()\n",
    "        cur.execute(\"INSERT INTO public_world_tweets_ph2 VALUES ( %s, %s, %s, %s, %s, %s, %s, %s, %s, %s)\",data1);\n",
    "        conn.commit()"
   ]
  },
  {
   "cell_type": "code",
   "execution_count": null,
   "metadata": {},
   "outputs": [],
   "source": []
  },
  {
   "cell_type": "code",
   "execution_count": null,
   "metadata": {},
   "outputs": [],
   "source": []
  },
  {
   "cell_type": "code",
   "execution_count": null,
   "metadata": {},
   "outputs": [],
   "source": []
  },
  {
   "cell_type": "code",
   "execution_count": null,
   "metadata": {},
   "outputs": [],
   "source": []
  }
 ],
 "metadata": {
  "kernelspec": {
   "display_name": "Python 3",
   "language": "python",
   "name": "python3"
  },
  "language_info": {
   "codemirror_mode": {
    "name": "ipython",
    "version": 3
   },
   "file_extension": ".py",
   "mimetype": "text/x-python",
   "name": "python",
   "nbconvert_exporter": "python",
   "pygments_lexer": "ipython3",
   "version": "3.7.4"
  }
 },
 "nbformat": 4,
 "nbformat_minor": 4
}
