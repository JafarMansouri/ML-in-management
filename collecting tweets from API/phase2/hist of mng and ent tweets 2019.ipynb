{
 "cells": [
  {
   "cell_type": "code",
   "execution_count": 1,
   "metadata": {},
   "outputs": [
    {
     "name": "stdout",
     "output_type": "stream",
     "text": [
      "Database opened successfully\n",
      "5983238\n"
     ]
    }
   ],
   "source": [
    "import psycopg2\n",
    "con = psycopg2.connect(database=\"postgres\", user=\"postgres\", password=\"Jafarsql\", host=\"localhost\", port=\"5432\")\n",
    "print(\"Database opened successfully\")\n",
    "\n",
    "cur = con.cursor()\n",
    "q='''SELECT tweet_created_at FROM manager_world_tweets_ph2 \n",
    "    Where \n",
    "    tweet_created_at like '%2019%';'''\n",
    "cur.execute(q)\n",
    "rows_mng = cur.fetchall()\n",
    "print(len(rows_mng))\n",
    "con.close()"
   ]
  },
  {
   "cell_type": "code",
   "execution_count": 2,
   "metadata": {},
   "outputs": [
    {
     "name": "stdout",
     "output_type": "stream",
     "text": [
      "Database opened successfully\n",
      "5237437\n"
     ]
    }
   ],
   "source": [
    "import psycopg2\n",
    "con = psycopg2.connect(database=\"postgres\", user=\"postgres\", password=\"Jafarsql\", host=\"localhost\", port=\"5432\")\n",
    "print(\"Database opened successfully\")\n",
    "\n",
    "cur = con.cursor()\n",
    "q='''SELECT tweet_created_at FROM ent_world_tweets_ph2 \n",
    "    Where \n",
    "    tweet_created_at like '%2019%';'''\n",
    "cur.execute(q)\n",
    "rows_ent = cur.fetchall()\n",
    "print(len(rows_ent))\n",
    "con.close()"
   ]
  },
  {
   "cell_type": "code",
   "execution_count": 3,
   "metadata": {},
   "outputs": [
    {
     "data": {
      "text/plain": [
       "['2019', '09', '30 02:19:34']"
      ]
     },
     "execution_count": 3,
     "metadata": {},
     "output_type": "execute_result"
    }
   ],
   "source": [
    "rows_ent[0][0].split('-')"
   ]
  },
  {
   "cell_type": "code",
   "execution_count": 4,
   "metadata": {},
   "outputs": [],
   "source": [
    "d_mng = dict()\n",
    "for row in rows_mng:\n",
    "    info=row[0].split('-')\n",
    "    if str(info[1]) not in d_mng:\n",
    "        d_mng[ str(info[1]) ] = 1 \n",
    "    else:\n",
    "        d_mng[ str(info[1]) ] +=  1    "
   ]
  },
  {
   "cell_type": "code",
   "execution_count": 5,
   "metadata": {},
   "outputs": [],
   "source": [
    "d_new_mng=dict(sorted(d_mng.items()))"
   ]
  },
  {
   "cell_type": "code",
   "execution_count": 11,
   "metadata": {},
   "outputs": [
    {
     "data": {
      "image/png": "[encoded data removed]",
      "text/plain": [
       "<Figure size 432x288 with 1 Axes>"
      ]
     },
     "metadata": {
      "needs_background": "light"
     },
     "output_type": "display_data"
    }
   ],
   "source": [
    "import matplotlib.pyplot as plt\n",
    "from matplotlib import rcParams\n",
    "rcParams.update({'figure.autolayout': True})\n",
    "\n",
    "plt.bar(d_new_mng.keys(), d_new_mng.values(),color='g')\n",
    "plt.title('MNG 2019')\n",
    "plt.xlabel('months')\n",
    "plt.ylabel('number of tweets')\n",
    "plt.savefig(\"histogram.jpg\")\n",
    "plt.savefig('histogram.pdf')\n",
    "plt.show()\n"
   ]
  },
  {
   "cell_type": "code",
   "execution_count": 12,
   "metadata": {},
   "outputs": [],
   "source": [
    "d_ent = dict()\n",
    "for row in rows_ent:\n",
    "    info=row[0].split('-')\n",
    "    if str(info[1]) not in d_ent:\n",
    "        d_ent[ str(info[1]) ] = 1 \n",
    "    else:\n",
    "        d_ent[ str(info[1]) ] +=  1 \n",
    "        "
   ]
  },
  {
   "cell_type": "code",
   "execution_count": 13,
   "metadata": {},
   "outputs": [],
   "source": [
    "d_new_ent=dict(sorted(d_ent.items()))      "
   ]
  },
  {
   "cell_type": "code",
   "execution_count": 14,
   "metadata": {},
   "outputs": [
    {
     "data": {
      "image/png": "[encoded data removed]",
      "text/plain": [
       "<Figure size 432x288 with 1 Axes>"
      ]
     },
     "metadata": {
      "needs_background": "light"
     },
     "output_type": "display_data"
    }
   ],
   "source": [
    "import matplotlib.pyplot as plt\n",
    "from matplotlib import rcParams\n",
    "rcParams.update({'figure.autolayout': True})\n",
    "\n",
    "plt.bar(d_new_ent.keys(), d_new_ent.values(),color='g')\n",
    "plt.title('ENT 2019')\n",
    "plt.xlabel('months')\n",
    "plt.ylabel('number of tweets')\n",
    "plt.savefig(\"histogram.jpg\")\n",
    "plt.savefig('histogram.pdf')\n",
    "plt.show()"
   ]
  },
  {
   "cell_type": "code",
   "execution_count": null,
   "metadata": {},
   "outputs": [],
   "source": []
  },
  {
   "cell_type": "code",
   "execution_count": null,
   "metadata": {},
   "outputs": [],
   "source": []
  },
  {
   "cell_type": "code",
   "execution_count": null,
   "metadata": {},
   "outputs": [],
   "source": []
  }
 ],
 "metadata": {
  "kernelspec": {
   "display_name": "Python 3",
   "language": "python",
   "name": "python3"
  },
  "language_info": {
   "codemirror_mode": {
    "name": "ipython",
    "version": 3
   },
   "file_extension": ".py",
   "mimetype": "text/x-python",
   "name": "python",
   "nbconvert_exporter": "python",
   "pygments_lexer": "ipython3",
   "version": "3.7.4"
  }
 },
 "nbformat": 4,
 "nbformat_minor": 4
}
